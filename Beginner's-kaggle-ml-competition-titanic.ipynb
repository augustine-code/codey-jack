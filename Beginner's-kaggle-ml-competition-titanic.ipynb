{
 "cells": [
  {
   "cell_type": "markdown",
   "metadata": {
    "papermill": {
     "duration": 0.078826,
     "end_time": "2021-04-10T15:11:32.402865",
     "exception": false,
     "start_time": "2021-04-10T15:11:32.324039",
     "status": "completed"
    },
    "tags": []
   },
   "source": [
    "# Titanic ML Competition - Predict Survival"
   ]
  },
  {
   "cell_type": "markdown",
   "metadata": {
    "papermill": {
     "duration": 0.077933,
     "end_time": "2021-04-10T15:11:32.557233",
     "exception": false,
     "start_time": "2021-04-10T15:11:32.479300",
     "status": "completed"
    },
    "tags": []
   },
   "source": [
    "### This will be the first dataset everyone starts for kaggle competitions. The dataset is easy to interpret and can start with the basic libraries like numpy, pandas, seaborn & matplotlib. The objective is to predict whether a passenger in titanic survived or not survived based on the features or predictor variables.\n",
    "\n",
    "### More data analysis and feature additions can be made but in this notebook only basic EDA & data cleaning is covered for easier understanding. \n",
    "\n",
    "### Machine learning part covers almost all basic ways of building a model with hyper paramter tuning & cross validation (CV-5). In the evaluation part, the models are evaluated to find the best model and submission is made using best model.\n",
    "\n",
    "### Keep watching for more versions "
   ]
  },
  {
   "cell_type": "markdown",
   "metadata": {
    "papermill": {
     "duration": 0.079532,
     "end_time": "2021-04-10T15:11:32.717622",
     "exception": false,
     "start_time": "2021-04-10T15:11:32.638090",
     "status": "completed"
    },
    "tags": []
   },
   "source": [
    "## Part 1 - Import Libraries & Data"
   ]
  },
  {
   "cell_type": "markdown",
   "metadata": {
    "papermill": {
     "duration": 0.075762,
     "end_time": "2021-04-10T15:11:32.870712",
     "exception": false,
     "start_time": "2021-04-10T15:11:32.794950",
     "status": "completed"
    },
    "tags": []
   },
   "source": [
    "### Path of Kaggle Data"
   ]
  },
  {
   "cell_type": "code",
   "execution_count": 1,
   "metadata": {
    "execution": {
     "iopub.execute_input": "2021-04-10T15:11:33.026603Z",
     "iopub.status.busy": "2021-04-10T15:11:33.025846Z",
     "iopub.status.idle": "2021-04-10T15:11:33.033403Z",
     "shell.execute_reply": "2021-04-10T15:11:33.033909Z"
    },
    "papermill": {
     "duration": 0.087723,
     "end_time": "2021-04-10T15:11:33.034276",
     "exception": false,
     "start_time": "2021-04-10T15:11:32.946553",
     "status": "completed"
    },
    "tags": []
   },
   "outputs": [
    {
     "name": "stdout",
     "output_type": "stream",
     "text": [
      "/kaggle/input/titanic/train.csv\n",
      "/kaggle/input/titanic/test.csv\n",
      "/kaggle/input/titanic/gender_submission.csv\n"
     ]
    }
   ],
   "source": [
    "## OS library for connecting to data\n",
    "\n",
    "import os\n",
    "for dirname, _, filenames in os.walk('/kaggle/input'):\n",
    "    for filename in filenames:\n",
    "        print(os.path.join(dirname, filename))"
   ]
  },
  {
   "cell_type": "markdown",
   "metadata": {
    "papermill": {
     "duration": 0.076232,
     "end_time": "2021-04-10T15:11:33.187769",
     "exception": false,
     "start_time": "2021-04-10T15:11:33.111537",
     "status": "completed"
    },
    "tags": []
   },
   "source": [
    "### Importing necessary libraries"
   ]
  },
  {
   "cell_type": "code",
   "execution_count": 2,
   "metadata": {
    "execution": {
     "iopub.execute_input": "2021-04-10T15:11:33.352005Z",
     "iopub.status.busy": "2021-04-10T15:11:33.351305Z",
     "iopub.status.idle": "2021-04-10T15:11:34.742812Z",
     "shell.execute_reply": "2021-04-10T15:11:34.741894Z"
    },
    "papermill": {
     "duration": 1.478602,
     "end_time": "2021-04-10T15:11:34.743061",
     "exception": false,
     "start_time": "2021-04-10T15:11:33.264459",
     "status": "completed"
    },
    "tags": []
   },
   "outputs": [],
   "source": [
    "## Basic Libraries to read data & analyze data\n",
    "\n",
    "import numpy as np   \n",
    "import pandas as pd\n",
    "import scipy.stats as stats\n",
    "import seaborn as sns\n",
    "import matplotlib.pyplot as plt \n",
    "\n",
    "## Basic Libraries to standardize & split data before modelling\n",
    "\n",
    "from sklearn.preprocessing import StandardScaler, MinMaxScaler, RobustScaler, MaxAbsScaler\n",
    "from sklearn.model_selection import train_test_split\n",
    "\n",
    "## Basic Libraries to pickle models & model evaluation\n",
    "\n",
    "import joblib\n",
    "from sklearn.model_selection import GridSearchCV\n",
    "from sklearn.metrics import accuracy_score, precision_score, recall_score\n",
    "from sklearn.metrics import roc_auc_score,roc_curve,classification_report,confusion_matrix, plot_confusion_matrix\n",
    "from sklearn import metrics\n",
    "from time import time\n",
    "\n",
    "## Library to hide warnings in notebook\n",
    "\n",
    "import warnings\n",
    "warnings.filterwarnings(\"ignore\")"
   ]
  },
  {
   "cell_type": "markdown",
   "metadata": {
    "papermill": {
     "duration": 0.089604,
     "end_time": "2021-04-10T15:11:34.955939",
     "exception": false,
     "start_time": "2021-04-10T15:11:34.866335",
     "status": "completed"
    },
    "tags": []
   },
   "source": [
    "## Part 2 - Data Analysis & Data Cleaning"
   ]
  },
  {
   "cell_type": "markdown",
   "metadata": {
    "papermill": {
     "duration": 0.077097,
     "end_time": "2021-04-10T15:11:35.124005",
     "exception": false,
     "start_time": "2021-04-10T15:11:35.046908",
     "status": "completed"
    },
    "tags": []
   },
   "source": [
    "### Reading Training Data & Basic EDA"
   ]
  },
  {
   "cell_type": "code",
   "execution_count": 3,
   "metadata": {
    "execution": {
     "iopub.execute_input": "2021-04-10T15:11:35.288495Z",
     "iopub.status.busy": "2021-04-10T15:11:35.287775Z",
     "iopub.status.idle": "2021-04-10T15:11:35.308782Z",
     "shell.execute_reply": "2021-04-10T15:11:35.307899Z"
    },
    "papermill": {
     "duration": 0.107466,
     "end_time": "2021-04-10T15:11:35.308943",
     "exception": false,
     "start_time": "2021-04-10T15:11:35.201477",
     "status": "completed"
    },
    "tags": []
   },
   "outputs": [],
   "source": [
    "data_train = pd.read_csv(\"../input/titanic/train.csv\")"
   ]
  },
  {
   "cell_type": "code",
   "execution_count": 4,
   "metadata": {
    "execution": {
     "iopub.execute_input": "2021-04-10T15:11:35.484168Z",
     "iopub.status.busy": "2021-04-10T15:11:35.483427Z",
     "iopub.status.idle": "2021-04-10T15:11:35.511441Z",
     "shell.execute_reply": "2021-04-10T15:11:35.510730Z"
    },
    "papermill": {
     "duration": 0.12499,
     "end_time": "2021-04-10T15:11:35.511607",
     "exception": false,
     "start_time": "2021-04-10T15:11:35.386617",
     "status": "completed"
    },
    "tags": []
   },
   "outputs": [
    {
     "data": {
      "text/html": [
       "<div>\n",
       "<style scoped>\n",
       "    .dataframe tbody tr th:only-of-type {\n",
       "        vertical-align: middle;\n",
       "    }\n",
       "\n",
       "    .dataframe tbody tr th {\n",
       "        vertical-align: top;\n",
       "    }\n",
       "\n",
       "    .dataframe thead th {\n",
       "        text-align: right;\n",
       "    }\n",
       "</style>\n",
       "<table border=\"1\" class=\"dataframe\">\n",
       "  <thead>\n",
       "    <tr style=\"text-align: right;\">\n",
       "      <th></th>\n",
       "      <th>PassengerId</th>\n",
       "      <th>Survived</th>\n",
       "      <th>Pclass</th>\n",
       "      <th>Name</th>\n",
       "      <th>Sex</th>\n",
       "      <th>Age</th>\n",
       "      <th>SibSp</th>\n",
       "      <th>Parch</th>\n",
       "      <th>Ticket</th>\n",
       "      <th>Fare</th>\n",
       "      <th>Cabin</th>\n",
       "      <th>Embarked</th>\n",
       "    </tr>\n",
       "  </thead>\n",
       "  <tbody>\n",
       "    <tr>\n",
       "      <th>0</th>\n",
       "      <td>1</td>\n",
       "      <td>0</td>\n",
       "      <td>3</td>\n",
       "      <td>Braund, Mr. Owen Harris</td>\n",
       "      <td>male</td>\n",
       "      <td>22.0</td>\n",
       "      <td>1</td>\n",
       "      <td>0</td>\n",
       "      <td>A/5 21171</td>\n",
       "      <td>7.2500</td>\n",
       "      <td>NaN</td>\n",
       "      <td>S</td>\n",
       "    </tr>\n",
       "    <tr>\n",
       "      <th>1</th>\n",
       "      <td>2</td>\n",
       "      <td>1</td>\n",
       "      <td>1</td>\n",
       "      <td>Cumings, Mrs. John Bradley (Florence Briggs Th...</td>\n",
       "      <td>female</td>\n",
       "      <td>38.0</td>\n",
       "      <td>1</td>\n",
       "      <td>0</td>\n",
       "      <td>PC 17599</td>\n",
       "      <td>71.2833</td>\n",
       "      <td>C85</td>\n",
       "      <td>C</td>\n",
       "    </tr>\n",
       "    <tr>\n",
       "      <th>2</th>\n",
       "      <td>3</td>\n",
       "      <td>1</td>\n",
       "      <td>3</td>\n",
       "      <td>Heikkinen, Miss. Laina</td>\n",
       "      <td>female</td>\n",
       "      <td>26.0</td>\n",
       "      <td>0</td>\n",
       "      <td>0</td>\n",
       "      <td>STON/O2. 3101282</td>\n",
       "      <td>7.9250</td>\n",
       "      <td>NaN</td>\n",
       "      <td>S</td>\n",
       "    </tr>\n",
       "    <tr>\n",
       "      <th>3</th>\n",
       "      <td>4</td>\n",
       "      <td>1</td>\n",
       "      <td>1</td>\n",
       "      <td>Futrelle, Mrs. Jacques Heath (Lily May Peel)</td>\n",
       "      <td>female</td>\n",
       "      <td>35.0</td>\n",
       "      <td>1</td>\n",
       "      <td>0</td>\n",
       "      <td>113803</td>\n",
       "      <td>53.1000</td>\n",
       "      <td>C123</td>\n",
       "      <td>S</td>\n",
       "    </tr>\n",
       "    <tr>\n",
       "      <th>4</th>\n",
       "      <td>5</td>\n",
       "      <td>0</td>\n",
       "      <td>3</td>\n",
       "      <td>Allen, Mr. William Henry</td>\n",
       "      <td>male</td>\n",
       "      <td>35.0</td>\n",
       "      <td>0</td>\n",
       "      <td>0</td>\n",
       "      <td>373450</td>\n",
       "      <td>8.0500</td>\n",
       "      <td>NaN</td>\n",
       "      <td>S</td>\n",
       "    </tr>\n",
       "  </tbody>\n",
       "</table>\n",
       "</div>"
      ],
      "text/plain": [
       "   PassengerId  Survived  Pclass  \\\n",
       "0            1         0       3   \n",
       "1            2         1       1   \n",
       "2            3         1       3   \n",
       "3            4         1       1   \n",
       "4            5         0       3   \n",
       "\n",
       "                                                Name     Sex   Age  SibSp  \\\n",
       "0                            Braund, Mr. Owen Harris    male  22.0      1   \n",
       "1  Cumings, Mrs. John Bradley (Florence Briggs Th...  female  38.0      1   \n",
       "2                             Heikkinen, Miss. Laina  female  26.0      0   \n",
       "3       Futrelle, Mrs. Jacques Heath (Lily May Peel)  female  35.0      1   \n",
       "4                           Allen, Mr. William Henry    male  35.0      0   \n",
       "\n",
       "   Parch            Ticket     Fare Cabin Embarked  \n",
       "0      0         A/5 21171   7.2500   NaN        S  \n",
       "1      0          PC 17599  71.2833   C85        C  \n",
       "2      0  STON/O2. 3101282   7.9250   NaN        S  \n",
       "3      0            113803  53.1000  C123        S  \n",
       "4      0            373450   8.0500   NaN        S  "
      ]
     },
     "execution_count": 4,
     "metadata": {},
     "output_type": "execute_result"
    }
   ],
   "source": [
    "data_train.head()"
   ]
  },
  {
   "cell_type": "code",
   "execution_count": 5,
   "metadata": {
    "execution": {
     "iopub.execute_input": "2021-04-10T15:11:35.685719Z",
     "iopub.status.busy": "2021-04-10T15:11:35.678560Z",
     "iopub.status.idle": "2021-04-10T15:11:35.690769Z",
     "shell.execute_reply": "2021-04-10T15:11:35.690208Z"
    },
    "papermill": {
     "duration": 0.101759,
     "end_time": "2021-04-10T15:11:35.690925",
     "exception": false,
     "start_time": "2021-04-10T15:11:35.589166",
     "status": "completed"
    },
    "tags": []
   },
   "outputs": [
    {
     "data": {
      "text/html": [
       "<div>\n",
       "<style scoped>\n",
       "    .dataframe tbody tr th:only-of-type {\n",
       "        vertical-align: middle;\n",
       "    }\n",
       "\n",
       "    .dataframe tbody tr th {\n",
       "        vertical-align: top;\n",
       "    }\n",
       "\n",
       "    .dataframe thead th {\n",
       "        text-align: right;\n",
       "    }\n",
       "</style>\n",
       "<table border=\"1\" class=\"dataframe\">\n",
       "  <thead>\n",
       "    <tr style=\"text-align: right;\">\n",
       "      <th></th>\n",
       "      <th>PassengerId</th>\n",
       "      <th>Survived</th>\n",
       "      <th>Pclass</th>\n",
       "      <th>Name</th>\n",
       "      <th>Sex</th>\n",
       "      <th>Age</th>\n",
       "      <th>SibSp</th>\n",
       "      <th>Parch</th>\n",
       "      <th>Ticket</th>\n",
       "      <th>Fare</th>\n",
       "      <th>Cabin</th>\n",
       "      <th>Embarked</th>\n",
       "    </tr>\n",
       "  </thead>\n",
       "  <tbody>\n",
       "    <tr>\n",
       "      <th>886</th>\n",
       "      <td>887</td>\n",
       "      <td>0</td>\n",
       "      <td>2</td>\n",
       "      <td>Montvila, Rev. Juozas</td>\n",
       "      <td>male</td>\n",
       "      <td>27.0</td>\n",
       "      <td>0</td>\n",
       "      <td>0</td>\n",
       "      <td>211536</td>\n",
       "      <td>13.00</td>\n",
       "      <td>NaN</td>\n",
       "      <td>S</td>\n",
       "    </tr>\n",
       "    <tr>\n",
       "      <th>887</th>\n",
       "      <td>888</td>\n",
       "      <td>1</td>\n",
       "      <td>1</td>\n",
       "      <td>Graham, Miss. Margaret Edith</td>\n",
       "      <td>female</td>\n",
       "      <td>19.0</td>\n",
       "      <td>0</td>\n",
       "      <td>0</td>\n",
       "      <td>112053</td>\n",
       "      <td>30.00</td>\n",
       "      <td>B42</td>\n",
       "      <td>S</td>\n",
       "    </tr>\n",
       "    <tr>\n",
       "      <th>888</th>\n",
       "      <td>889</td>\n",
       "      <td>0</td>\n",
       "      <td>3</td>\n",
       "      <td>Johnston, Miss. Catherine Helen \"Carrie\"</td>\n",
       "      <td>female</td>\n",
       "      <td>NaN</td>\n",
       "      <td>1</td>\n",
       "      <td>2</td>\n",
       "      <td>W./C. 6607</td>\n",
       "      <td>23.45</td>\n",
       "      <td>NaN</td>\n",
       "      <td>S</td>\n",
       "    </tr>\n",
       "    <tr>\n",
       "      <th>889</th>\n",
       "      <td>890</td>\n",
       "      <td>1</td>\n",
       "      <td>1</td>\n",
       "      <td>Behr, Mr. Karl Howell</td>\n",
       "      <td>male</td>\n",
       "      <td>26.0</td>\n",
       "      <td>0</td>\n",
       "      <td>0</td>\n",
       "      <td>111369</td>\n",
       "      <td>30.00</td>\n",
       "      <td>C148</td>\n",
       "      <td>C</td>\n",
       "    </tr>\n",
       "    <tr>\n",
       "      <th>890</th>\n",
       "      <td>891</td>\n",
       "      <td>0</td>\n",
       "      <td>3</td>\n",
       "      <td>Dooley, Mr. Patrick</td>\n",
       "      <td>male</td>\n",
       "      <td>32.0</td>\n",
       "      <td>0</td>\n",
       "      <td>0</td>\n",
       "      <td>370376</td>\n",
       "      <td>7.75</td>\n",
       "      <td>NaN</td>\n",
       "      <td>Q</td>\n",
       "    </tr>\n",
       "  </tbody>\n",
       "</table>\n",
       "</div>"
      ],
      "text/plain": [
       "     PassengerId  Survived  Pclass                                      Name  \\\n",
       "886          887         0       2                     Montvila, Rev. Juozas   \n",
       "887          888         1       1              Graham, Miss. Margaret Edith   \n",
       "888          889         0       3  Johnston, Miss. Catherine Helen \"Carrie\"   \n",
       "889          890         1       1                     Behr, Mr. Karl Howell   \n",
       "890          891         0       3                       Dooley, Mr. Patrick   \n",
       "\n",
       "        Sex   Age  SibSp  Parch      Ticket   Fare Cabin Embarked  \n",
       "886    male  27.0      0      0      211536  13.00   NaN        S  \n",
       "887  female  19.0      0      0      112053  30.00   B42        S  \n",
       "888  female   NaN      1      2  W./C. 6607  23.45   NaN        S  \n",
       "889    male  26.0      0      0      111369  30.00  C148        C  \n",
       "890    male  32.0      0      0      370376   7.75   NaN        Q  "
      ]
     },
     "execution_count": 5,
     "metadata": {},
     "output_type": "execute_result"
    }
   ],
   "source": [
    "data_train.tail()"
   ]
  },
  {
   "cell_type": "code",
   "execution_count": 6,
   "metadata": {
    "execution": {
     "iopub.execute_input": "2021-04-10T15:11:35.855314Z",
     "iopub.status.busy": "2021-04-10T15:11:35.854559Z",
     "iopub.status.idle": "2021-04-10T15:11:35.859550Z",
     "shell.execute_reply": "2021-04-10T15:11:35.858930Z"
    },
    "papermill": {
     "duration": 0.089293,
     "end_time": "2021-04-10T15:11:35.859731",
     "exception": false,
     "start_time": "2021-04-10T15:11:35.770438",
     "status": "completed"
    },
    "tags": []
   },
   "outputs": [
    {
     "data": {
      "text/plain": [
       "(891, 12)"
      ]
     },
     "execution_count": 6,
     "metadata": {},
     "output_type": "execute_result"
    }
   ],
   "source": [
    "data_train.shape"
   ]
  },
  {
   "cell_type": "code",
   "execution_count": 7,
   "metadata": {
    "execution": {
     "iopub.execute_input": "2021-04-10T15:11:36.040657Z",
     "iopub.status.busy": "2021-04-10T15:11:36.039926Z",
     "iopub.status.idle": "2021-04-10T15:11:36.046461Z",
     "shell.execute_reply": "2021-04-10T15:11:36.046926Z"
    },
    "papermill": {
     "duration": 0.10611,
     "end_time": "2021-04-10T15:11:36.047118",
     "exception": false,
     "start_time": "2021-04-10T15:11:35.941008",
     "status": "completed"
    },
    "tags": []
   },
   "outputs": [
    {
     "name": "stdout",
     "output_type": "stream",
     "text": [
      "<class 'pandas.core.frame.DataFrame'>\n",
      "RangeIndex: 891 entries, 0 to 890\n",
      "Data columns (total 12 columns):\n",
      " #   Column       Non-Null Count  Dtype  \n",
      "---  ------       --------------  -----  \n",
      " 0   PassengerId  891 non-null    int64  \n",
      " 1   Survived     891 non-null    int64  \n",
      " 2   Pclass       891 non-null    int64  \n",
      " 3   Name         891 non-null    object \n",
      " 4   Sex          891 non-null    object \n",
      " 5   Age          714 non-null    float64\n",
      " 6   SibSp        891 non-null    int64  \n",
      " 7   Parch        891 non-null    int64  \n",
      " 8   Ticket       891 non-null    object \n",
      " 9   Fare         891 non-null    float64\n",
      " 10  Cabin        204 non-null    object \n",
      " 11  Embarked     889 non-null    object \n",
      "dtypes: float64(2), int64(5), object(5)\n",
      "memory usage: 83.7+ KB\n"
     ]
    }
   ],
   "source": [
    "data_train.info()"
   ]
  },
  {
   "cell_type": "markdown",
   "metadata": {
    "papermill": {
     "duration": 0.078208,
     "end_time": "2021-04-10T15:11:36.204736",
     "exception": false,
     "start_time": "2021-04-10T15:11:36.126528",
     "status": "completed"
    },
    "tags": []
   },
   "source": [
    "### *Possible Missing values in Age, Cabin & Embarked*"
   ]
  },
  {
   "cell_type": "code",
   "execution_count": 8,
   "metadata": {
    "execution": {
     "iopub.execute_input": "2021-04-10T15:11:36.372087Z",
     "iopub.status.busy": "2021-04-10T15:11:36.371360Z",
     "iopub.status.idle": "2021-04-10T15:11:36.532375Z",
     "shell.execute_reply": "2021-04-10T15:11:36.532912Z"
    },
    "papermill": {
     "duration": 0.247835,
     "end_time": "2021-04-10T15:11:36.533098",
     "exception": false,
     "start_time": "2021-04-10T15:11:36.285263",
     "status": "completed"
    },
    "tags": []
   },
   "outputs": [
    {
     "data": {
      "text/html": [
       "<div>\n",
       "<style scoped>\n",
       "    .dataframe tbody tr th:only-of-type {\n",
       "        vertical-align: middle;\n",
       "    }\n",
       "\n",
       "    .dataframe tbody tr th {\n",
       "        vertical-align: top;\n",
       "    }\n",
       "\n",
       "    .dataframe thead th {\n",
       "        text-align: right;\n",
       "    }\n",
       "</style>\n",
       "<table border=\"1\" class=\"dataframe\">\n",
       "  <thead>\n",
       "    <tr style=\"text-align: right;\">\n",
       "      <th></th>\n",
       "      <th>count</th>\n",
       "      <th>unique</th>\n",
       "      <th>top</th>\n",
       "      <th>freq</th>\n",
       "      <th>mean</th>\n",
       "      <th>std</th>\n",
       "      <th>min</th>\n",
       "      <th>25%</th>\n",
       "      <th>50%</th>\n",
       "      <th>75%</th>\n",
       "      <th>max</th>\n",
       "    </tr>\n",
       "  </thead>\n",
       "  <tbody>\n",
       "    <tr>\n",
       "      <th>PassengerId</th>\n",
       "      <td>891.0</td>\n",
       "      <td>NaN</td>\n",
       "      <td>NaN</td>\n",
       "      <td>NaN</td>\n",
       "      <td>446.000000</td>\n",
       "      <td>257.353842</td>\n",
       "      <td>1.00</td>\n",
       "      <td>223.5000</td>\n",
       "      <td>446.0000</td>\n",
       "      <td>668.5</td>\n",
       "      <td>891.0000</td>\n",
       "    </tr>\n",
       "    <tr>\n",
       "      <th>Survived</th>\n",
       "      <td>891.0</td>\n",
       "      <td>NaN</td>\n",
       "      <td>NaN</td>\n",
       "      <td>NaN</td>\n",
       "      <td>0.383838</td>\n",
       "      <td>0.486592</td>\n",
       "      <td>0.00</td>\n",
       "      <td>0.0000</td>\n",
       "      <td>0.0000</td>\n",
       "      <td>1.0</td>\n",
       "      <td>1.0000</td>\n",
       "    </tr>\n",
       "    <tr>\n",
       "      <th>Pclass</th>\n",
       "      <td>891.0</td>\n",
       "      <td>NaN</td>\n",
       "      <td>NaN</td>\n",
       "      <td>NaN</td>\n",
       "      <td>2.308642</td>\n",
       "      <td>0.836071</td>\n",
       "      <td>1.00</td>\n",
       "      <td>2.0000</td>\n",
       "      <td>3.0000</td>\n",
       "      <td>3.0</td>\n",
       "      <td>3.0000</td>\n",
       "    </tr>\n",
       "    <tr>\n",
       "      <th>Name</th>\n",
       "      <td>891</td>\n",
       "      <td>891</td>\n",
       "      <td>Fahlstrom, Mr. Arne Jonas</td>\n",
       "      <td>1</td>\n",
       "      <td>NaN</td>\n",
       "      <td>NaN</td>\n",
       "      <td>NaN</td>\n",
       "      <td>NaN</td>\n",
       "      <td>NaN</td>\n",
       "      <td>NaN</td>\n",
       "      <td>NaN</td>\n",
       "    </tr>\n",
       "    <tr>\n",
       "      <th>Sex</th>\n",
       "      <td>891</td>\n",
       "      <td>2</td>\n",
       "      <td>male</td>\n",
       "      <td>577</td>\n",
       "      <td>NaN</td>\n",
       "      <td>NaN</td>\n",
       "      <td>NaN</td>\n",
       "      <td>NaN</td>\n",
       "      <td>NaN</td>\n",
       "      <td>NaN</td>\n",
       "      <td>NaN</td>\n",
       "    </tr>\n",
       "    <tr>\n",
       "      <th>Age</th>\n",
       "      <td>714.0</td>\n",
       "      <td>NaN</td>\n",
       "      <td>NaN</td>\n",
       "      <td>NaN</td>\n",
       "      <td>29.699118</td>\n",
       "      <td>14.526497</td>\n",
       "      <td>0.42</td>\n",
       "      <td>20.1250</td>\n",
       "      <td>28.0000</td>\n",
       "      <td>38.0</td>\n",
       "      <td>80.0000</td>\n",
       "    </tr>\n",
       "    <tr>\n",
       "      <th>SibSp</th>\n",
       "      <td>891.0</td>\n",
       "      <td>NaN</td>\n",
       "      <td>NaN</td>\n",
       "      <td>NaN</td>\n",
       "      <td>0.523008</td>\n",
       "      <td>1.102743</td>\n",
       "      <td>0.00</td>\n",
       "      <td>0.0000</td>\n",
       "      <td>0.0000</td>\n",
       "      <td>1.0</td>\n",
       "      <td>8.0000</td>\n",
       "    </tr>\n",
       "    <tr>\n",
       "      <th>Parch</th>\n",
       "      <td>891.0</td>\n",
       "      <td>NaN</td>\n",
       "      <td>NaN</td>\n",
       "      <td>NaN</td>\n",
       "      <td>0.381594</td>\n",
       "      <td>0.806057</td>\n",
       "      <td>0.00</td>\n",
       "      <td>0.0000</td>\n",
       "      <td>0.0000</td>\n",
       "      <td>0.0</td>\n",
       "      <td>6.0000</td>\n",
       "    </tr>\n",
       "    <tr>\n",
       "      <th>Ticket</th>\n",
       "      <td>891</td>\n",
       "      <td>681</td>\n",
       "      <td>347082</td>\n",
       "      <td>7</td>\n",
       "      <td>NaN</td>\n",
       "      <td>NaN</td>\n",
       "      <td>NaN</td>\n",
       "      <td>NaN</td>\n",
       "      <td>NaN</td>\n",
       "      <td>NaN</td>\n",
       "      <td>NaN</td>\n",
       "    </tr>\n",
       "    <tr>\n",
       "      <th>Fare</th>\n",
       "      <td>891.0</td>\n",
       "      <td>NaN</td>\n",
       "      <td>NaN</td>\n",
       "      <td>NaN</td>\n",
       "      <td>32.204208</td>\n",
       "      <td>49.693429</td>\n",
       "      <td>0.00</td>\n",
       "      <td>7.9104</td>\n",
       "      <td>14.4542</td>\n",
       "      <td>31.0</td>\n",
       "      <td>512.3292</td>\n",
       "    </tr>\n",
       "    <tr>\n",
       "      <th>Cabin</th>\n",
       "      <td>204</td>\n",
       "      <td>147</td>\n",
       "      <td>B96 B98</td>\n",
       "      <td>4</td>\n",
       "      <td>NaN</td>\n",
       "      <td>NaN</td>\n",
       "      <td>NaN</td>\n",
       "      <td>NaN</td>\n",
       "      <td>NaN</td>\n",
       "      <td>NaN</td>\n",
       "      <td>NaN</td>\n",
       "    </tr>\n",
       "    <tr>\n",
       "      <th>Embarked</th>\n",
       "      <td>889</td>\n",
       "      <td>3</td>\n",
       "      <td>S</td>\n",
       "      <td>644</td>\n",
       "      <td>NaN</td>\n",
       "      <td>NaN</td>\n",
       "      <td>NaN</td>\n",
       "      <td>NaN</td>\n",
       "      <td>NaN</td>\n",
       "      <td>NaN</td>\n",
       "      <td>NaN</td>\n",
       "    </tr>\n",
       "  </tbody>\n",
       "</table>\n",
       "</div>"
      ],
      "text/plain": [
       "             count unique                        top freq        mean  \\\n",
       "PassengerId  891.0    NaN                        NaN  NaN  446.000000   \n",
       "Survived     891.0    NaN                        NaN  NaN    0.383838   \n",
       "Pclass       891.0    NaN                        NaN  NaN    2.308642   \n",
       "Name           891    891  Fahlstrom, Mr. Arne Jonas    1         NaN   \n",
       "Sex            891      2                       male  577         NaN   \n",
       "Age          714.0    NaN                        NaN  NaN   29.699118   \n",
       "SibSp        891.0    NaN                        NaN  NaN    0.523008   \n",
       "Parch        891.0    NaN                        NaN  NaN    0.381594   \n",
       "Ticket         891    681                     347082    7         NaN   \n",
       "Fare         891.0    NaN                        NaN  NaN   32.204208   \n",
       "Cabin          204    147                    B96 B98    4         NaN   \n",
       "Embarked       889      3                          S  644         NaN   \n",
       "\n",
       "                    std   min       25%       50%    75%       max  \n",
       "PassengerId  257.353842  1.00  223.5000  446.0000  668.5  891.0000  \n",
       "Survived       0.486592  0.00    0.0000    0.0000    1.0    1.0000  \n",
       "Pclass         0.836071  1.00    2.0000    3.0000    3.0    3.0000  \n",
       "Name                NaN   NaN       NaN       NaN    NaN       NaN  \n",
       "Sex                 NaN   NaN       NaN       NaN    NaN       NaN  \n",
       "Age           14.526497  0.42   20.1250   28.0000   38.0   80.0000  \n",
       "SibSp          1.102743  0.00    0.0000    0.0000    1.0    8.0000  \n",
       "Parch          0.806057  0.00    0.0000    0.0000    0.0    6.0000  \n",
       "Ticket              NaN   NaN       NaN       NaN    NaN       NaN  \n",
       "Fare          49.693429  0.00    7.9104   14.4542   31.0  512.3292  \n",
       "Cabin               NaN   NaN       NaN       NaN    NaN       NaN  \n",
       "Embarked            NaN   NaN       NaN       NaN    NaN       NaN  "
      ]
     },
     "execution_count": 8,
     "metadata": {},
     "output_type": "execute_result"
    }
   ],
   "source": [
    "data_train.describe(include = \"all\").T"
   ]
  },
  {
   "cell_type": "markdown",
   "metadata": {
    "papermill": {
     "duration": 0.081608,
     "end_time": "2021-04-10T15:11:36.697526",
     "exception": false,
     "start_time": "2021-04-10T15:11:36.615918",
     "status": "completed"
    },
    "tags": []
   },
   "source": [
    "### Reading Testing Data & Basic EDA"
   ]
  },
  {
   "cell_type": "code",
   "execution_count": 9,
   "metadata": {
    "execution": {
     "iopub.execute_input": "2021-04-10T15:11:36.865367Z",
     "iopub.status.busy": "2021-04-10T15:11:36.864433Z",
     "iopub.status.idle": "2021-04-10T15:11:36.879596Z",
     "shell.execute_reply": "2021-04-10T15:11:36.878977Z"
    },
    "papermill": {
     "duration": 0.101755,
     "end_time": "2021-04-10T15:11:36.879781",
     "exception": false,
     "start_time": "2021-04-10T15:11:36.778026",
     "status": "completed"
    },
    "tags": []
   },
   "outputs": [],
   "source": [
    "data_test = pd.read_csv(\"../input/titanic/test.csv\")"
   ]
  },
  {
   "cell_type": "code",
   "execution_count": 10,
   "metadata": {
    "execution": {
     "iopub.execute_input": "2021-04-10T15:11:37.059488Z",
     "iopub.status.busy": "2021-04-10T15:11:37.058684Z",
     "iopub.status.idle": "2021-04-10T15:11:37.062938Z",
     "shell.execute_reply": "2021-04-10T15:11:37.062365Z"
    },
    "papermill": {
     "duration": 0.101305,
     "end_time": "2021-04-10T15:11:37.063088",
     "exception": false,
     "start_time": "2021-04-10T15:11:36.961783",
     "status": "completed"
    },
    "tags": []
   },
   "outputs": [
    {
     "data": {
      "text/html": [
       "<div>\n",
       "<style scoped>\n",
       "    .dataframe tbody tr th:only-of-type {\n",
       "        vertical-align: middle;\n",
       "    }\n",
       "\n",
       "    .dataframe tbody tr th {\n",
       "        vertical-align: top;\n",
       "    }\n",
       "\n",
       "    .dataframe thead th {\n",
       "        text-align: right;\n",
       "    }\n",
       "</style>\n",
       "<table border=\"1\" class=\"dataframe\">\n",
       "  <thead>\n",
       "    <tr style=\"text-align: right;\">\n",
       "      <th></th>\n",
       "      <th>PassengerId</th>\n",
       "      <th>Pclass</th>\n",
       "      <th>Name</th>\n",
       "      <th>Sex</th>\n",
       "      <th>Age</th>\n",
       "      <th>SibSp</th>\n",
       "      <th>Parch</th>\n",
       "      <th>Ticket</th>\n",
       "      <th>Fare</th>\n",
       "      <th>Cabin</th>\n",
       "      <th>Embarked</th>\n",
       "    </tr>\n",
       "  </thead>\n",
       "  <tbody>\n",
       "    <tr>\n",
       "      <th>0</th>\n",
       "      <td>892</td>\n",
       "      <td>3</td>\n",
       "      <td>Kelly, Mr. James</td>\n",
       "      <td>male</td>\n",
       "      <td>34.5</td>\n",
       "      <td>0</td>\n",
       "      <td>0</td>\n",
       "      <td>330911</td>\n",
       "      <td>7.8292</td>\n",
       "      <td>NaN</td>\n",
       "      <td>Q</td>\n",
       "    </tr>\n",
       "    <tr>\n",
       "      <th>1</th>\n",
       "      <td>893</td>\n",
       "      <td>3</td>\n",
       "      <td>Wilkes, Mrs. James (Ellen Needs)</td>\n",
       "      <td>female</td>\n",
       "      <td>47.0</td>\n",
       "      <td>1</td>\n",
       "      <td>0</td>\n",
       "      <td>363272</td>\n",
       "      <td>7.0000</td>\n",
       "      <td>NaN</td>\n",
       "      <td>S</td>\n",
       "    </tr>\n",
       "    <tr>\n",
       "      <th>2</th>\n",
       "      <td>894</td>\n",
       "      <td>2</td>\n",
       "      <td>Myles, Mr. Thomas Francis</td>\n",
       "      <td>male</td>\n",
       "      <td>62.0</td>\n",
       "      <td>0</td>\n",
       "      <td>0</td>\n",
       "      <td>240276</td>\n",
       "      <td>9.6875</td>\n",
       "      <td>NaN</td>\n",
       "      <td>Q</td>\n",
       "    </tr>\n",
       "    <tr>\n",
       "      <th>3</th>\n",
       "      <td>895</td>\n",
       "      <td>3</td>\n",
       "      <td>Wirz, Mr. Albert</td>\n",
       "      <td>male</td>\n",
       "      <td>27.0</td>\n",
       "      <td>0</td>\n",
       "      <td>0</td>\n",
       "      <td>315154</td>\n",
       "      <td>8.6625</td>\n",
       "      <td>NaN</td>\n",
       "      <td>S</td>\n",
       "    </tr>\n",
       "    <tr>\n",
       "      <th>4</th>\n",
       "      <td>896</td>\n",
       "      <td>3</td>\n",
       "      <td>Hirvonen, Mrs. Alexander (Helga E Lindqvist)</td>\n",
       "      <td>female</td>\n",
       "      <td>22.0</td>\n",
       "      <td>1</td>\n",
       "      <td>1</td>\n",
       "      <td>3101298</td>\n",
       "      <td>12.2875</td>\n",
       "      <td>NaN</td>\n",
       "      <td>S</td>\n",
       "    </tr>\n",
       "  </tbody>\n",
       "</table>\n",
       "</div>"
      ],
      "text/plain": [
       "   PassengerId  Pclass                                          Name     Sex  \\\n",
       "0          892       3                              Kelly, Mr. James    male   \n",
       "1          893       3              Wilkes, Mrs. James (Ellen Needs)  female   \n",
       "2          894       2                     Myles, Mr. Thomas Francis    male   \n",
       "3          895       3                              Wirz, Mr. Albert    male   \n",
       "4          896       3  Hirvonen, Mrs. Alexander (Helga E Lindqvist)  female   \n",
       "\n",
       "    Age  SibSp  Parch   Ticket     Fare Cabin Embarked  \n",
       "0  34.5      0      0   330911   7.8292   NaN        Q  \n",
       "1  47.0      1      0   363272   7.0000   NaN        S  \n",
       "2  62.0      0      0   240276   9.6875   NaN        Q  \n",
       "3  27.0      0      0   315154   8.6625   NaN        S  \n",
       "4  22.0      1      1  3101298  12.2875   NaN        S  "
      ]
     },
     "execution_count": 10,
     "metadata": {},
     "output_type": "execute_result"
    }
   ],
   "source": [
    "data_test.head()"
   ]
  },
  {
   "cell_type": "code",
   "execution_count": 11,
   "metadata": {
    "execution": {
     "iopub.execute_input": "2021-04-10T15:11:37.233041Z",
     "iopub.status.busy": "2021-04-10T15:11:37.232252Z",
     "iopub.status.idle": "2021-04-10T15:11:37.250301Z",
     "shell.execute_reply": "2021-04-10T15:11:37.249602Z"
    },
    "papermill": {
     "duration": 0.103662,
     "end_time": "2021-04-10T15:11:37.250465",
     "exception": false,
     "start_time": "2021-04-10T15:11:37.146803",
     "status": "completed"
    },
    "tags": []
   },
   "outputs": [
    {
     "data": {
      "text/html": [
       "<div>\n",
       "<style scoped>\n",
       "    .dataframe tbody tr th:only-of-type {\n",
       "        vertical-align: middle;\n",
       "    }\n",
       "\n",
       "    .dataframe tbody tr th {\n",
       "        vertical-align: top;\n",
       "    }\n",
       "\n",
       "    .dataframe thead th {\n",
       "        text-align: right;\n",
       "    }\n",
       "</style>\n",
       "<table border=\"1\" class=\"dataframe\">\n",
       "  <thead>\n",
       "    <tr style=\"text-align: right;\">\n",
       "      <th></th>\n",
       "      <th>PassengerId</th>\n",
       "      <th>Pclass</th>\n",
       "      <th>Name</th>\n",
       "      <th>Sex</th>\n",
       "      <th>Age</th>\n",
       "      <th>SibSp</th>\n",
       "      <th>Parch</th>\n",
       "      <th>Ticket</th>\n",
       "      <th>Fare</th>\n",
       "      <th>Cabin</th>\n",
       "      <th>Embarked</th>\n",
       "    </tr>\n",
       "  </thead>\n",
       "  <tbody>\n",
       "    <tr>\n",
       "      <th>413</th>\n",
       "      <td>1305</td>\n",
       "      <td>3</td>\n",
       "      <td>Spector, Mr. Woolf</td>\n",
       "      <td>male</td>\n",
       "      <td>NaN</td>\n",
       "      <td>0</td>\n",
       "      <td>0</td>\n",
       "      <td>A.5. 3236</td>\n",
       "      <td>8.0500</td>\n",
       "      <td>NaN</td>\n",
       "      <td>S</td>\n",
       "    </tr>\n",
       "    <tr>\n",
       "      <th>414</th>\n",
       "      <td>1306</td>\n",
       "      <td>1</td>\n",
       "      <td>Oliva y Ocana, Dona. Fermina</td>\n",
       "      <td>female</td>\n",
       "      <td>39.0</td>\n",
       "      <td>0</td>\n",
       "      <td>0</td>\n",
       "      <td>PC 17758</td>\n",
       "      <td>108.9000</td>\n",
       "      <td>C105</td>\n",
       "      <td>C</td>\n",
       "    </tr>\n",
       "    <tr>\n",
       "      <th>415</th>\n",
       "      <td>1307</td>\n",
       "      <td>3</td>\n",
       "      <td>Saether, Mr. Simon Sivertsen</td>\n",
       "      <td>male</td>\n",
       "      <td>38.5</td>\n",
       "      <td>0</td>\n",
       "      <td>0</td>\n",
       "      <td>SOTON/O.Q. 3101262</td>\n",
       "      <td>7.2500</td>\n",
       "      <td>NaN</td>\n",
       "      <td>S</td>\n",
       "    </tr>\n",
       "    <tr>\n",
       "      <th>416</th>\n",
       "      <td>1308</td>\n",
       "      <td>3</td>\n",
       "      <td>Ware, Mr. Frederick</td>\n",
       "      <td>male</td>\n",
       "      <td>NaN</td>\n",
       "      <td>0</td>\n",
       "      <td>0</td>\n",
       "      <td>359309</td>\n",
       "      <td>8.0500</td>\n",
       "      <td>NaN</td>\n",
       "      <td>S</td>\n",
       "    </tr>\n",
       "    <tr>\n",
       "      <th>417</th>\n",
       "      <td>1309</td>\n",
       "      <td>3</td>\n",
       "      <td>Peter, Master. Michael J</td>\n",
       "      <td>male</td>\n",
       "      <td>NaN</td>\n",
       "      <td>1</td>\n",
       "      <td>1</td>\n",
       "      <td>2668</td>\n",
       "      <td>22.3583</td>\n",
       "      <td>NaN</td>\n",
       "      <td>C</td>\n",
       "    </tr>\n",
       "  </tbody>\n",
       "</table>\n",
       "</div>"
      ],
      "text/plain": [
       "     PassengerId  Pclass                          Name     Sex   Age  SibSp  \\\n",
       "413         1305       3            Spector, Mr. Woolf    male   NaN      0   \n",
       "414         1306       1  Oliva y Ocana, Dona. Fermina  female  39.0      0   \n",
       "415         1307       3  Saether, Mr. Simon Sivertsen    male  38.5      0   \n",
       "416         1308       3           Ware, Mr. Frederick    male   NaN      0   \n",
       "417         1309       3      Peter, Master. Michael J    male   NaN      1   \n",
       "\n",
       "     Parch              Ticket      Fare Cabin Embarked  \n",
       "413      0           A.5. 3236    8.0500   NaN        S  \n",
       "414      0            PC 17758  108.9000  C105        C  \n",
       "415      0  SOTON/O.Q. 3101262    7.2500   NaN        S  \n",
       "416      0              359309    8.0500   NaN        S  \n",
       "417      1                2668   22.3583   NaN        C  "
      ]
     },
     "execution_count": 11,
     "metadata": {},
     "output_type": "execute_result"
    }
   ],
   "source": [
    "data_test.tail()"
   ]
  },
  {
   "cell_type": "code",
   "execution_count": 12,
   "metadata": {
    "execution": {
     "iopub.execute_input": "2021-04-10T15:11:37.426753Z",
     "iopub.status.busy": "2021-04-10T15:11:37.425632Z",
     "iopub.status.idle": "2021-04-10T15:11:37.430583Z",
     "shell.execute_reply": "2021-04-10T15:11:37.431069Z"
    },
    "papermill": {
     "duration": 0.094937,
     "end_time": "2021-04-10T15:11:37.431321",
     "exception": false,
     "start_time": "2021-04-10T15:11:37.336384",
     "status": "completed"
    },
    "tags": []
   },
   "outputs": [
    {
     "data": {
      "text/plain": [
       "(418, 11)"
      ]
     },
     "execution_count": 12,
     "metadata": {},
     "output_type": "execute_result"
    }
   ],
   "source": [
    "data_test.shape"
   ]
  },
  {
   "cell_type": "code",
   "execution_count": 13,
   "metadata": {
    "execution": {
     "iopub.execute_input": "2021-04-10T15:11:37.601532Z",
     "iopub.status.busy": "2021-04-10T15:11:37.600485Z",
     "iopub.status.idle": "2021-04-10T15:11:37.616503Z",
     "shell.execute_reply": "2021-04-10T15:11:37.616984Z"
    },
    "papermill": {
     "duration": 0.102099,
     "end_time": "2021-04-10T15:11:37.617211",
     "exception": false,
     "start_time": "2021-04-10T15:11:37.515112",
     "status": "completed"
    },
    "tags": []
   },
   "outputs": [
    {
     "name": "stdout",
     "output_type": "stream",
     "text": [
      "<class 'pandas.core.frame.DataFrame'>\n",
      "RangeIndex: 418 entries, 0 to 417\n",
      "Data columns (total 11 columns):\n",
      " #   Column       Non-Null Count  Dtype  \n",
      "---  ------       --------------  -----  \n",
      " 0   PassengerId  418 non-null    int64  \n",
      " 1   Pclass       418 non-null    int64  \n",
      " 2   Name         418 non-null    object \n",
      " 3   Sex          418 non-null    object \n",
      " 4   Age          332 non-null    float64\n",
      " 5   SibSp        418 non-null    int64  \n",
      " 6   Parch        418 non-null    int64  \n",
      " 7   Ticket       418 non-null    object \n",
      " 8   Fare         417 non-null    float64\n",
      " 9   Cabin        91 non-null     object \n",
      " 10  Embarked     418 non-null    object \n",
      "dtypes: float64(2), int64(4), object(5)\n",
      "memory usage: 36.0+ KB\n"
     ]
    }
   ],
   "source": [
    "data_test.info()"
   ]
  },
  {
   "cell_type": "markdown",
   "metadata": {
    "papermill": {
     "duration": 0.09023,
     "end_time": "2021-04-10T15:11:37.791555",
     "exception": false,
     "start_time": "2021-04-10T15:11:37.701325",
     "status": "completed"
    },
    "tags": []
   },
   "source": [
    "### *Possible Missing values in Age, Fare & Cabin*"
   ]
  },
  {
   "cell_type": "code",
   "execution_count": 14,
   "metadata": {
    "execution": {
     "iopub.execute_input": "2021-04-10T15:11:37.967902Z",
     "iopub.status.busy": "2021-04-10T15:11:37.967142Z",
     "iopub.status.idle": "2021-04-10T15:11:38.010452Z",
     "shell.execute_reply": "2021-04-10T15:11:38.009844Z"
    },
    "papermill": {
     "duration": 0.135877,
     "end_time": "2021-04-10T15:11:38.010633",
     "exception": false,
     "start_time": "2021-04-10T15:11:37.874756",
     "status": "completed"
    },
    "tags": []
   },
   "outputs": [
    {
     "data": {
      "text/html": [
       "<div>\n",
       "<style scoped>\n",
       "    .dataframe tbody tr th:only-of-type {\n",
       "        vertical-align: middle;\n",
       "    }\n",
       "\n",
       "    .dataframe tbody tr th {\n",
       "        vertical-align: top;\n",
       "    }\n",
       "\n",
       "    .dataframe thead th {\n",
       "        text-align: right;\n",
       "    }\n",
       "</style>\n",
       "<table border=\"1\" class=\"dataframe\">\n",
       "  <thead>\n",
       "    <tr style=\"text-align: right;\">\n",
       "      <th></th>\n",
       "      <th>count</th>\n",
       "      <th>unique</th>\n",
       "      <th>top</th>\n",
       "      <th>freq</th>\n",
       "      <th>mean</th>\n",
       "      <th>std</th>\n",
       "      <th>min</th>\n",
       "      <th>25%</th>\n",
       "      <th>50%</th>\n",
       "      <th>75%</th>\n",
       "      <th>max</th>\n",
       "    </tr>\n",
       "  </thead>\n",
       "  <tbody>\n",
       "    <tr>\n",
       "      <th>PassengerId</th>\n",
       "      <td>418.0</td>\n",
       "      <td>NaN</td>\n",
       "      <td>NaN</td>\n",
       "      <td>NaN</td>\n",
       "      <td>1100.500000</td>\n",
       "      <td>120.810458</td>\n",
       "      <td>892.00</td>\n",
       "      <td>996.2500</td>\n",
       "      <td>1100.5000</td>\n",
       "      <td>1204.75</td>\n",
       "      <td>1309.0000</td>\n",
       "    </tr>\n",
       "    <tr>\n",
       "      <th>Pclass</th>\n",
       "      <td>418.0</td>\n",
       "      <td>NaN</td>\n",
       "      <td>NaN</td>\n",
       "      <td>NaN</td>\n",
       "      <td>2.265550</td>\n",
       "      <td>0.841838</td>\n",
       "      <td>1.00</td>\n",
       "      <td>1.0000</td>\n",
       "      <td>3.0000</td>\n",
       "      <td>3.00</td>\n",
       "      <td>3.0000</td>\n",
       "    </tr>\n",
       "    <tr>\n",
       "      <th>Name</th>\n",
       "      <td>418</td>\n",
       "      <td>418</td>\n",
       "      <td>Jonsson, Mr. Nils Hilding</td>\n",
       "      <td>1</td>\n",
       "      <td>NaN</td>\n",
       "      <td>NaN</td>\n",
       "      <td>NaN</td>\n",
       "      <td>NaN</td>\n",
       "      <td>NaN</td>\n",
       "      <td>NaN</td>\n",
       "      <td>NaN</td>\n",
       "    </tr>\n",
       "    <tr>\n",
       "      <th>Sex</th>\n",
       "      <td>418</td>\n",
       "      <td>2</td>\n",
       "      <td>male</td>\n",
       "      <td>266</td>\n",
       "      <td>NaN</td>\n",
       "      <td>NaN</td>\n",
       "      <td>NaN</td>\n",
       "      <td>NaN</td>\n",
       "      <td>NaN</td>\n",
       "      <td>NaN</td>\n",
       "      <td>NaN</td>\n",
       "    </tr>\n",
       "    <tr>\n",
       "      <th>Age</th>\n",
       "      <td>332.0</td>\n",
       "      <td>NaN</td>\n",
       "      <td>NaN</td>\n",
       "      <td>NaN</td>\n",
       "      <td>30.272590</td>\n",
       "      <td>14.181209</td>\n",
       "      <td>0.17</td>\n",
       "      <td>21.0000</td>\n",
       "      <td>27.0000</td>\n",
       "      <td>39.00</td>\n",
       "      <td>76.0000</td>\n",
       "    </tr>\n",
       "    <tr>\n",
       "      <th>SibSp</th>\n",
       "      <td>418.0</td>\n",
       "      <td>NaN</td>\n",
       "      <td>NaN</td>\n",
       "      <td>NaN</td>\n",
       "      <td>0.447368</td>\n",
       "      <td>0.896760</td>\n",
       "      <td>0.00</td>\n",
       "      <td>0.0000</td>\n",
       "      <td>0.0000</td>\n",
       "      <td>1.00</td>\n",
       "      <td>8.0000</td>\n",
       "    </tr>\n",
       "    <tr>\n",
       "      <th>Parch</th>\n",
       "      <td>418.0</td>\n",
       "      <td>NaN</td>\n",
       "      <td>NaN</td>\n",
       "      <td>NaN</td>\n",
       "      <td>0.392344</td>\n",
       "      <td>0.981429</td>\n",
       "      <td>0.00</td>\n",
       "      <td>0.0000</td>\n",
       "      <td>0.0000</td>\n",
       "      <td>0.00</td>\n",
       "      <td>9.0000</td>\n",
       "    </tr>\n",
       "    <tr>\n",
       "      <th>Ticket</th>\n",
       "      <td>418</td>\n",
       "      <td>363</td>\n",
       "      <td>PC 17608</td>\n",
       "      <td>5</td>\n",
       "      <td>NaN</td>\n",
       "      <td>NaN</td>\n",
       "      <td>NaN</td>\n",
       "      <td>NaN</td>\n",
       "      <td>NaN</td>\n",
       "      <td>NaN</td>\n",
       "      <td>NaN</td>\n",
       "    </tr>\n",
       "    <tr>\n",
       "      <th>Fare</th>\n",
       "      <td>417.0</td>\n",
       "      <td>NaN</td>\n",
       "      <td>NaN</td>\n",
       "      <td>NaN</td>\n",
       "      <td>35.627188</td>\n",
       "      <td>55.907576</td>\n",
       "      <td>0.00</td>\n",
       "      <td>7.8958</td>\n",
       "      <td>14.4542</td>\n",
       "      <td>31.50</td>\n",
       "      <td>512.3292</td>\n",
       "    </tr>\n",
       "    <tr>\n",
       "      <th>Cabin</th>\n",
       "      <td>91</td>\n",
       "      <td>76</td>\n",
       "      <td>B57 B59 B63 B66</td>\n",
       "      <td>3</td>\n",
       "      <td>NaN</td>\n",
       "      <td>NaN</td>\n",
       "      <td>NaN</td>\n",
       "      <td>NaN</td>\n",
       "      <td>NaN</td>\n",
       "      <td>NaN</td>\n",
       "      <td>NaN</td>\n",
       "    </tr>\n",
       "    <tr>\n",
       "      <th>Embarked</th>\n",
       "      <td>418</td>\n",
       "      <td>3</td>\n",
       "      <td>S</td>\n",
       "      <td>270</td>\n",
       "      <td>NaN</td>\n",
       "      <td>NaN</td>\n",
       "      <td>NaN</td>\n",
       "      <td>NaN</td>\n",
       "      <td>NaN</td>\n",
       "      <td>NaN</td>\n",
       "      <td>NaN</td>\n",
       "    </tr>\n",
       "  </tbody>\n",
       "</table>\n",
       "</div>"
      ],
      "text/plain": [
       "             count unique                        top freq         mean  \\\n",
       "PassengerId  418.0    NaN                        NaN  NaN  1100.500000   \n",
       "Pclass       418.0    NaN                        NaN  NaN     2.265550   \n",
       "Name           418    418  Jonsson, Mr. Nils Hilding    1          NaN   \n",
       "Sex            418      2                       male  266          NaN   \n",
       "Age          332.0    NaN                        NaN  NaN    30.272590   \n",
       "SibSp        418.0    NaN                        NaN  NaN     0.447368   \n",
       "Parch        418.0    NaN                        NaN  NaN     0.392344   \n",
       "Ticket         418    363                   PC 17608    5          NaN   \n",
       "Fare         417.0    NaN                        NaN  NaN    35.627188   \n",
       "Cabin           91     76            B57 B59 B63 B66    3          NaN   \n",
       "Embarked       418      3                          S  270          NaN   \n",
       "\n",
       "                    std     min       25%        50%      75%        max  \n",
       "PassengerId  120.810458  892.00  996.2500  1100.5000  1204.75  1309.0000  \n",
       "Pclass         0.841838    1.00    1.0000     3.0000     3.00     3.0000  \n",
       "Name                NaN     NaN       NaN        NaN      NaN        NaN  \n",
       "Sex                 NaN     NaN       NaN        NaN      NaN        NaN  \n",
       "Age           14.181209    0.17   21.0000    27.0000    39.00    76.0000  \n",
       "SibSp          0.896760    0.00    0.0000     0.0000     1.00     8.0000  \n",
       "Parch          0.981429    0.00    0.0000     0.0000     0.00     9.0000  \n",
       "Ticket              NaN     NaN       NaN        NaN      NaN        NaN  \n",
       "Fare          55.907576    0.00    7.8958    14.4542    31.50   512.3292  \n",
       "Cabin               NaN     NaN       NaN        NaN      NaN        NaN  \n",
       "Embarked            NaN     NaN       NaN        NaN      NaN        NaN  "
      ]
     },
     "execution_count": 14,
     "metadata": {},
     "output_type": "execute_result"
    }
   ],
   "source": [
    "data_test.describe(include = \"all\").T"
   ]
  },
  {
   "cell_type": "markdown",
   "metadata": {
    "papermill": {
     "duration": 0.084126,
     "end_time": "2021-04-10T15:11:38.179176",
     "exception": false,
     "start_time": "2021-04-10T15:11:38.095050",
     "status": "completed"
    },
    "tags": []
   },
   "source": [
    "### Data Check - Null, Outliers & Duplicates Train Data"
   ]
  },
  {
   "cell_type": "code",
   "execution_count": 15,
   "metadata": {
    "execution": {
     "iopub.execute_input": "2021-04-10T15:11:38.354842Z",
     "iopub.status.busy": "2021-04-10T15:11:38.353810Z",
     "iopub.status.idle": "2021-04-10T15:11:38.358642Z",
     "shell.execute_reply": "2021-04-10T15:11:38.358032Z"
    },
    "papermill": {
     "duration": 0.096684,
     "end_time": "2021-04-10T15:11:38.358801",
     "exception": false,
     "start_time": "2021-04-10T15:11:38.262117",
     "status": "completed"
    },
    "tags": []
   },
   "outputs": [
    {
     "data": {
      "text/plain": [
       "PassengerId      0\n",
       "Survived         0\n",
       "Pclass           0\n",
       "Name             0\n",
       "Sex              0\n",
       "Age            177\n",
       "SibSp            0\n",
       "Parch            0\n",
       "Ticket           0\n",
       "Fare             0\n",
       "Cabin          687\n",
       "Embarked         2\n",
       "dtype: int64"
      ]
     },
     "execution_count": 15,
     "metadata": {},
     "output_type": "execute_result"
    }
   ],
   "source": [
    " data_train.isnull().sum()"
   ]
  },
  {
   "cell_type": "code",
   "execution_count": 16,
   "metadata": {
    "execution": {
     "iopub.execute_input": "2021-04-10T15:11:38.531958Z",
     "iopub.status.busy": "2021-04-10T15:11:38.531140Z",
     "iopub.status.idle": "2021-04-10T15:11:38.787523Z",
     "shell.execute_reply": "2021-04-10T15:11:38.786759Z"
    },
    "papermill": {
     "duration": 0.345137,
     "end_time": "2021-04-10T15:11:38.787691",
     "exception": false,
     "start_time": "2021-04-10T15:11:38.442554",
     "status": "completed"
    },
    "tags": []
   },
   "outputs": [
    {
     "data": {
      "text/plain": [
       "<AxesSubplot:>"
      ]
     },
     "execution_count": 16,
     "metadata": {},
     "output_type": "execute_result"
    },
    {
     "data": {
      "image/png": "[encoded data removed]",
      "text/plain": [
       "<Figure size 432x288 with 1 Axes>"
      ]
     },
     "metadata": {
      "needs_background": "light"
     },
     "output_type": "display_data"
    }
   ],
   "source": [
    "sns.boxplot(data = data_train)"
   ]
  },
  {
   "cell_type": "code",
   "execution_count": 17,
   "metadata": {
    "execution": {
     "iopub.execute_input": "2021-04-10T15:11:38.968044Z",
     "iopub.status.busy": "2021-04-10T15:11:38.967169Z",
     "iopub.status.idle": "2021-04-10T15:11:38.986619Z",
     "shell.execute_reply": "2021-04-10T15:11:38.987136Z"
    },
    "papermill": {
     "duration": 0.112686,
     "end_time": "2021-04-10T15:11:38.987451",
     "exception": false,
     "start_time": "2021-04-10T15:11:38.874765",
     "status": "completed"
    },
    "tags": []
   },
   "outputs": [
    {
     "data": {
      "text/plain": [
       "Age             11\n",
       "Cabin            0\n",
       "Embarked         0\n",
       "Fare           116\n",
       "Name             0\n",
       "Parch          213\n",
       "PassengerId      0\n",
       "Pclass           0\n",
       "Sex              0\n",
       "SibSp           46\n",
       "Survived         0\n",
       "Ticket           0\n",
       "dtype: int64"
      ]
     },
     "execution_count": 17,
     "metadata": {},
     "output_type": "execute_result"
    }
   ],
   "source": [
    "Q1 = data_train.quantile(0.25)\n",
    "Q3 = data_train.quantile(0.75)\n",
    "IQR = Q3 - Q1\n",
    "((data_train < (Q1 - 1.5 * IQR)) | (data_train > (Q3 + 1.5 * IQR))).sum()"
   ]
  },
  {
   "cell_type": "code",
   "execution_count": 18,
   "metadata": {
    "execution": {
     "iopub.execute_input": "2021-04-10T15:11:39.164734Z",
     "iopub.status.busy": "2021-04-10T15:11:39.163979Z",
     "iopub.status.idle": "2021-04-10T15:11:39.174463Z",
     "shell.execute_reply": "2021-04-10T15:11:39.173878Z"
    },
    "papermill": {
     "duration": 0.102666,
     "end_time": "2021-04-10T15:11:39.174636",
     "exception": false,
     "start_time": "2021-04-10T15:11:39.071970",
     "status": "completed"
    },
    "tags": []
   },
   "outputs": [
    {
     "data": {
      "text/plain": [
       "0"
      ]
     },
     "execution_count": 18,
     "metadata": {},
     "output_type": "execute_result"
    }
   ],
   "source": [
    " data_train.duplicated().sum()"
   ]
  },
  {
   "cell_type": "markdown",
   "metadata": {
    "papermill": {
     "duration": 0.085397,
     "end_time": "2021-04-10T15:11:39.345823",
     "exception": false,
     "start_time": "2021-04-10T15:11:39.260426",
     "status": "completed"
    },
    "tags": []
   },
   "source": [
    "### Data Check - Null, Outliers & Duplicates Test Data"
   ]
  },
  {
   "cell_type": "code",
   "execution_count": 19,
   "metadata": {
    "execution": {
     "iopub.execute_input": "2021-04-10T15:11:39.527042Z",
     "iopub.status.busy": "2021-04-10T15:11:39.526309Z",
     "iopub.status.idle": "2021-04-10T15:11:39.531377Z",
     "shell.execute_reply": "2021-04-10T15:11:39.530773Z"
    },
    "papermill": {
     "duration": 0.099817,
     "end_time": "2021-04-10T15:11:39.531531",
     "exception": false,
     "start_time": "2021-04-10T15:11:39.431714",
     "status": "completed"
    },
    "tags": []
   },
   "outputs": [
    {
     "data": {
      "text/plain": [
       "PassengerId      0\n",
       "Pclass           0\n",
       "Name             0\n",
       "Sex              0\n",
       "Age             86\n",
       "SibSp            0\n",
       "Parch            0\n",
       "Ticket           0\n",
       "Fare             1\n",
       "Cabin          327\n",
       "Embarked         0\n",
       "dtype: int64"
      ]
     },
     "execution_count": 19,
     "metadata": {},
     "output_type": "execute_result"
    }
   ],
   "source": [
    " data_test.isnull().sum()"
   ]
  },
  {
   "cell_type": "code",
   "execution_count": 20,
   "metadata": {
    "execution": {
     "iopub.execute_input": "2021-04-10T15:11:39.725049Z",
     "iopub.status.busy": "2021-04-10T15:11:39.718446Z",
     "iopub.status.idle": "2021-04-10T15:11:39.934625Z",
     "shell.execute_reply": "2021-04-10T15:11:39.933870Z"
    },
    "papermill": {
     "duration": 0.316034,
     "end_time": "2021-04-10T15:11:39.934798",
     "exception": false,
     "start_time": "2021-04-10T15:11:39.618764",
     "status": "completed"
    },
    "tags": []
   },
   "outputs": [
    {
     "data": {
      "text/plain": [
       "<AxesSubplot:>"
      ]
     },
     "execution_count": 20,
     "metadata": {},
     "output_type": "execute_result"
    },
    {
     "data": {
      "image/png": "[encoded data removed]",
      "text/plain": [
       "<Figure size 432x288 with 1 Axes>"
      ]
     },
     "metadata": {
      "needs_background": "light"
     },
     "output_type": "display_data"
    }
   ],
   "source": [
    "sns.boxplot(data = data_test)"
   ]
  },
  {
   "cell_type": "code",
   "execution_count": 21,
   "metadata": {
    "execution": {
     "iopub.execute_input": "2021-04-10T15:11:40.120801Z",
     "iopub.status.busy": "2021-04-10T15:11:40.120069Z",
     "iopub.status.idle": "2021-04-10T15:11:40.140938Z",
     "shell.execute_reply": "2021-04-10T15:11:40.140218Z"
    },
    "papermill": {
     "duration": 0.11791,
     "end_time": "2021-04-10T15:11:40.141093",
     "exception": false,
     "start_time": "2021-04-10T15:11:40.023183",
     "status": "completed"
    },
    "tags": []
   },
   "outputs": [
    {
     "data": {
      "text/plain": [
       "Age             2\n",
       "Cabin           0\n",
       "Embarked        0\n",
       "Fare           55\n",
       "Name            0\n",
       "Parch          94\n",
       "PassengerId     0\n",
       "Pclass          0\n",
       "Sex             0\n",
       "SibSp          11\n",
       "Ticket          0\n",
       "dtype: int64"
      ]
     },
     "execution_count": 21,
     "metadata": {},
     "output_type": "execute_result"
    }
   ],
   "source": [
    "Q1 = data_test.quantile(0.25)\n",
    "Q3 = data_test.quantile(0.75)\n",
    "IQR = Q3 - Q1\n",
    "((data_test < (Q1 - 1.5 * IQR)) | (data_test > (Q3 + 1.5 * IQR))).sum()"
   ]
  },
  {
   "cell_type": "code",
   "execution_count": 22,
   "metadata": {
    "execution": {
     "iopub.execute_input": "2021-04-10T15:11:40.329937Z",
     "iopub.status.busy": "2021-04-10T15:11:40.326901Z",
     "iopub.status.idle": "2021-04-10T15:11:40.335435Z",
     "shell.execute_reply": "2021-04-10T15:11:40.334803Z"
    },
    "papermill": {
     "duration": 0.105765,
     "end_time": "2021-04-10T15:11:40.335608",
     "exception": false,
     "start_time": "2021-04-10T15:11:40.229843",
     "status": "completed"
    },
    "tags": []
   },
   "outputs": [
    {
     "data": {
      "text/plain": [
       "0"
      ]
     },
     "execution_count": 22,
     "metadata": {},
     "output_type": "execute_result"
    }
   ],
   "source": [
    " data_test.duplicated().sum()"
   ]
  },
  {
   "cell_type": "markdown",
   "metadata": {
    "papermill": {
     "duration": 0.08703,
     "end_time": "2021-04-10T15:11:40.512103",
     "exception": false,
     "start_time": "2021-04-10T15:11:40.425073",
     "status": "completed"
    },
    "tags": []
   },
   "source": [
    "### Data Cleaning - Train Data"
   ]
  },
  {
   "cell_type": "code",
   "execution_count": 23,
   "metadata": {
    "execution": {
     "iopub.execute_input": "2021-04-10T15:11:40.697074Z",
     "iopub.status.busy": "2021-04-10T15:11:40.696321Z",
     "iopub.status.idle": "2021-04-10T15:11:40.700004Z",
     "shell.execute_reply": "2021-04-10T15:11:40.699500Z"
    },
    "papermill": {
     "duration": 0.098155,
     "end_time": "2021-04-10T15:11:40.700152",
     "exception": false,
     "start_time": "2021-04-10T15:11:40.601997",
     "status": "completed"
    },
    "tags": []
   },
   "outputs": [],
   "source": [
    "data_train['Age'].fillna(value= data_train['Age'].mean(), inplace = True)"
   ]
  },
  {
   "cell_type": "code",
   "execution_count": 24,
   "metadata": {
    "execution": {
     "iopub.execute_input": "2021-04-10T15:11:40.888540Z",
     "iopub.status.busy": "2021-04-10T15:11:40.887781Z",
     "iopub.status.idle": "2021-04-10T15:11:40.891132Z",
     "shell.execute_reply": "2021-04-10T15:11:40.891696Z"
    },
    "papermill": {
     "duration": 0.103786,
     "end_time": "2021-04-10T15:11:40.891876",
     "exception": false,
     "start_time": "2021-04-10T15:11:40.788090",
     "status": "completed"
    },
    "tags": []
   },
   "outputs": [
    {
     "data": {
      "text/plain": [
       "PassengerId      0\n",
       "Survived         0\n",
       "Pclass           0\n",
       "Name             0\n",
       "Sex              0\n",
       "Age              0\n",
       "SibSp            0\n",
       "Parch            0\n",
       "Ticket           0\n",
       "Fare             0\n",
       "Cabin          687\n",
       "Embarked         2\n",
       "dtype: int64"
      ]
     },
     "execution_count": 24,
     "metadata": {},
     "output_type": "execute_result"
    }
   ],
   "source": [
    " data_train.isnull().sum()"
   ]
  },
  {
   "cell_type": "code",
   "execution_count": 25,
   "metadata": {
    "execution": {
     "iopub.execute_input": "2021-04-10T15:11:41.072910Z",
     "iopub.status.busy": "2021-04-10T15:11:41.072230Z",
     "iopub.status.idle": "2021-04-10T15:11:41.077319Z",
     "shell.execute_reply": "2021-04-10T15:11:41.077880Z"
    },
    "papermill": {
     "duration": 0.097408,
     "end_time": "2021-04-10T15:11:41.078060",
     "exception": false,
     "start_time": "2021-04-10T15:11:40.980652",
     "status": "completed"
    },
    "tags": []
   },
   "outputs": [],
   "source": [
    "def remove_outlier(col):\n",
    "    sorted(col)\n",
    "    Q1,Q3=np.percentile(col,[25,75])\n",
    "    IQR=Q3-Q1\n",
    "    lower_range= Q1-(1.5 * IQR)\n",
    "    upper_range= Q3+(1.5 * IQR)\n",
    "    return lower_range, upper_range"
   ]
  },
  {
   "cell_type": "code",
   "execution_count": 26,
   "metadata": {
    "execution": {
     "iopub.execute_input": "2021-04-10T15:11:41.259955Z",
     "iopub.status.busy": "2021-04-10T15:11:41.259296Z",
     "iopub.status.idle": "2021-04-10T15:11:41.275158Z",
     "shell.execute_reply": "2021-04-10T15:11:41.275787Z"
    },
    "papermill": {
     "duration": 0.107813,
     "end_time": "2021-04-10T15:11:41.275980",
     "exception": false,
     "start_time": "2021-04-10T15:11:41.168167",
     "status": "completed"
    },
    "tags": []
   },
   "outputs": [],
   "source": [
    "lratio,uratio=remove_outlier(data_train['Age'])\n",
    "data_train['Age']=np.where(data_train['Age']>uratio,uratio,data_train['Age'])\n",
    "data_train['Age']=np.where(data_train['Age']<lratio,lratio,data_train['Age'])\n",
    "\n",
    "lratio,uratio=remove_outlier(data_train['Fare'])\n",
    "data_train['Fare']=np.where(data_train['Fare']>uratio,uratio,data_train['Fare'])\n",
    "data_train['Fare']=np.where(data_train['Fare']<lratio,lratio,data_train['Fare'])\n",
    "\n",
    "lratio,uratio=remove_outlier(data_train['Parch'])\n",
    "data_train['Parch']=np.where(data_train['Parch']>uratio,uratio,data_train['Parch'])\n",
    "data_train['Parch']=np.where(data_train['Parch']<lratio,lratio,data_train['Parch'])\n",
    "\n",
    "lratio,uratio=remove_outlier(data_train['SibSp'])\n",
    "data_train['SibSp']=np.where(data_train['SibSp']>uratio,uratio,data_train['SibSp'])\n",
    "data_train['SibSp']=np.where(data_train['SibSp']<lratio,lratio,data_train['SibSp'])\n",
    "\n"
   ]
  },
  {
   "cell_type": "code",
   "execution_count": 27,
   "metadata": {
    "execution": {
     "iopub.execute_input": "2021-04-10T15:11:41.461141Z",
     "iopub.status.busy": "2021-04-10T15:11:41.460474Z",
     "iopub.status.idle": "2021-04-10T15:11:41.692390Z",
     "shell.execute_reply": "2021-04-10T15:11:41.691504Z"
    },
    "papermill": {
     "duration": 0.326522,
     "end_time": "2021-04-10T15:11:41.692556",
     "exception": false,
     "start_time": "2021-04-10T15:11:41.366034",
     "status": "completed"
    },
    "tags": []
   },
   "outputs": [
    {
     "data": {
      "text/plain": [
       "<AxesSubplot:>"
      ]
     },
     "execution_count": 27,
     "metadata": {},
     "output_type": "execute_result"
    },
    {
     "data": {
      "image/png": "[encoded data removed]",
      "text/plain": [
       "<Figure size 432x288 with 1 Axes>"
      ]
     },
     "metadata": {
      "needs_background": "light"
     },
     "output_type": "display_data"
    }
   ],
   "source": [
    "sns.boxplot(data = data_train)"
   ]
  },
  {
   "cell_type": "code",
   "execution_count": 28,
   "metadata": {
    "execution": {
     "iopub.execute_input": "2021-04-10T15:11:41.882578Z",
     "iopub.status.busy": "2021-04-10T15:11:41.881872Z",
     "iopub.status.idle": "2021-04-10T15:11:41.886151Z",
     "shell.execute_reply": "2021-04-10T15:11:41.885581Z"
    },
    "papermill": {
     "duration": 0.102407,
     "end_time": "2021-04-10T15:11:41.886344",
     "exception": false,
     "start_time": "2021-04-10T15:11:41.783937",
     "status": "completed"
    },
    "tags": []
   },
   "outputs": [],
   "source": [
    "data_train.drop(columns = ['PassengerId', 'Cabin'], inplace = True)\n"
   ]
  },
  {
   "cell_type": "code",
   "execution_count": 29,
   "metadata": {
    "execution": {
     "iopub.execute_input": "2021-04-10T15:11:42.076666Z",
     "iopub.status.busy": "2021-04-10T15:11:42.075962Z",
     "iopub.status.idle": "2021-04-10T15:11:42.079829Z",
     "shell.execute_reply": "2021-04-10T15:11:42.079159Z"
    },
    "papermill": {
     "duration": 0.102348,
     "end_time": "2021-04-10T15:11:42.079981",
     "exception": false,
     "start_time": "2021-04-10T15:11:41.977633",
     "status": "completed"
    },
    "tags": []
   },
   "outputs": [],
   "source": [
    "data_train.dropna(inplace = True)"
   ]
  },
  {
   "cell_type": "code",
   "execution_count": 30,
   "metadata": {
    "execution": {
     "iopub.execute_input": "2021-04-10T15:11:42.278608Z",
     "iopub.status.busy": "2021-04-10T15:11:42.276234Z",
     "iopub.status.idle": "2021-04-10T15:11:42.283737Z",
     "shell.execute_reply": "2021-04-10T15:11:42.283029Z"
    },
    "papermill": {
     "duration": 0.111684,
     "end_time": "2021-04-10T15:11:42.283901",
     "exception": false,
     "start_time": "2021-04-10T15:11:42.172217",
     "status": "completed"
    },
    "tags": []
   },
   "outputs": [
    {
     "name": "stdout",
     "output_type": "stream",
     "text": [
      "<class 'pandas.core.frame.DataFrame'>\n",
      "Int64Index: 889 entries, 0 to 890\n",
      "Data columns (total 10 columns):\n",
      " #   Column    Non-Null Count  Dtype  \n",
      "---  ------    --------------  -----  \n",
      " 0   Survived  889 non-null    int64  \n",
      " 1   Pclass    889 non-null    int64  \n",
      " 2   Name      889 non-null    object \n",
      " 3   Sex       889 non-null    object \n",
      " 4   Age       889 non-null    float64\n",
      " 5   SibSp     889 non-null    float64\n",
      " 6   Parch     889 non-null    float64\n",
      " 7   Ticket    889 non-null    object \n",
      " 8   Fare      889 non-null    float64\n",
      " 9   Embarked  889 non-null    object \n",
      "dtypes: float64(4), int64(2), object(4)\n",
      "memory usage: 76.4+ KB\n"
     ]
    }
   ],
   "source": [
    "data_train.info()"
   ]
  },
  {
   "cell_type": "markdown",
   "metadata": {
    "papermill": {
     "duration": 0.092244,
     "end_time": "2021-04-10T15:11:42.467338",
     "exception": false,
     "start_time": "2021-04-10T15:11:42.375094",
     "status": "completed"
    },
    "tags": []
   },
   "source": [
    "### Data Cleaning - Test Data"
   ]
  },
  {
   "cell_type": "code",
   "execution_count": 31,
   "metadata": {
    "execution": {
     "iopub.execute_input": "2021-04-10T15:11:42.662068Z",
     "iopub.status.busy": "2021-04-10T15:11:42.661165Z",
     "iopub.status.idle": "2021-04-10T15:11:42.664595Z",
     "shell.execute_reply": "2021-04-10T15:11:42.663850Z"
    },
    "papermill": {
     "duration": 0.104622,
     "end_time": "2021-04-10T15:11:42.664762",
     "exception": false,
     "start_time": "2021-04-10T15:11:42.560140",
     "status": "completed"
    },
    "tags": []
   },
   "outputs": [],
   "source": [
    "data_test['Age'].fillna(value= data_test['Age'].mean(), inplace = True)\n",
    "data_test['Fare'].fillna(value= data_test['Fare'].mean(), inplace = True)"
   ]
  },
  {
   "cell_type": "code",
   "execution_count": 32,
   "metadata": {
    "execution": {
     "iopub.execute_input": "2021-04-10T15:11:42.858802Z",
     "iopub.status.busy": "2021-04-10T15:11:42.857690Z",
     "iopub.status.idle": "2021-04-10T15:11:42.862932Z",
     "shell.execute_reply": "2021-04-10T15:11:42.862232Z"
    },
    "papermill": {
     "duration": 0.106075,
     "end_time": "2021-04-10T15:11:42.863084",
     "exception": false,
     "start_time": "2021-04-10T15:11:42.757009",
     "status": "completed"
    },
    "tags": []
   },
   "outputs": [
    {
     "data": {
      "text/plain": [
       "PassengerId      0\n",
       "Pclass           0\n",
       "Name             0\n",
       "Sex              0\n",
       "Age              0\n",
       "SibSp            0\n",
       "Parch            0\n",
       "Ticket           0\n",
       "Fare             0\n",
       "Cabin          327\n",
       "Embarked         0\n",
       "dtype: int64"
      ]
     },
     "execution_count": 32,
     "metadata": {},
     "output_type": "execute_result"
    }
   ],
   "source": [
    " data_test.isnull().sum()"
   ]
  },
  {
   "cell_type": "code",
   "execution_count": 33,
   "metadata": {
    "execution": {
     "iopub.execute_input": "2021-04-10T15:11:43.065588Z",
     "iopub.status.busy": "2021-04-10T15:11:43.061022Z",
     "iopub.status.idle": "2021-04-10T15:11:43.074363Z",
     "shell.execute_reply": "2021-04-10T15:11:43.073610Z"
    },
    "papermill": {
     "duration": 0.118881,
     "end_time": "2021-04-10T15:11:43.074519",
     "exception": false,
     "start_time": "2021-04-10T15:11:42.955638",
     "status": "completed"
    },
    "tags": []
   },
   "outputs": [],
   "source": [
    "lratio,uratio=remove_outlier(data_test['Age'])\n",
    "data_test['Age']=np.where(data_test['Age']>uratio,uratio,data_test['Age'])\n",
    "data_test['Age']=np.where(data_test['Age']<lratio,lratio,data_test['Age'])\n",
    "\n",
    "lratio,uratio=remove_outlier(data_test['Fare'])\n",
    "data_test['Fare']=np.where(data_test['Fare']>uratio,uratio,data_test['Fare'])\n",
    "data_test['Fare']=np.where(data_test['Fare']<lratio,lratio,data_test['Fare'])\n",
    "\n",
    "lratio,uratio=remove_outlier(data_test['Parch'])\n",
    "data_test['Parch']=np.where(data_test['Parch']>uratio,uratio,data_test['Parch'])\n",
    "data_test['Parch']=np.where(data_test['Parch']<lratio,lratio,data_test['Parch'])\n",
    "\n",
    "lratio,uratio=remove_outlier(data_test['SibSp'])\n",
    "data_test['SibSp']=np.where(data_test['SibSp']>uratio,uratio,data_test['SibSp'])\n",
    "data_test['SibSp']=np.where(data_test['SibSp']<lratio,lratio,data_test['SibSp'])"
   ]
  },
  {
   "cell_type": "code",
   "execution_count": 34,
   "metadata": {
    "execution": {
     "iopub.execute_input": "2021-04-10T15:11:43.288048Z",
     "iopub.status.busy": "2021-04-10T15:11:43.287344Z",
     "iopub.status.idle": "2021-04-10T15:11:43.482846Z",
     "shell.execute_reply": "2021-04-10T15:11:43.482131Z"
    },
    "papermill": {
     "duration": 0.315232,
     "end_time": "2021-04-10T15:11:43.483010",
     "exception": false,
     "start_time": "2021-04-10T15:11:43.167778",
     "status": "completed"
    },
    "tags": []
   },
   "outputs": [
    {
     "data": {
      "text/plain": [
       "<AxesSubplot:>"
      ]
     },
     "execution_count": 34,
     "metadata": {},
     "output_type": "execute_result"
    },
    {
     "data": {
      "image/png": "[encoded data removed]",
      "text/plain": [
       "<Figure size 432x288 with 1 Axes>"
      ]
     },
     "metadata": {
      "needs_background": "light"
     },
     "output_type": "display_data"
    }
   ],
   "source": [
    "sns.boxplot(data = data_test)"
   ]
  },
  {
   "cell_type": "code",
   "execution_count": 35,
   "metadata": {
    "execution": {
     "iopub.execute_input": "2021-04-10T15:11:43.679589Z",
     "iopub.status.busy": "2021-04-10T15:11:43.678858Z",
     "iopub.status.idle": "2021-04-10T15:11:43.681945Z",
     "shell.execute_reply": "2021-04-10T15:11:43.682419Z"
    },
    "papermill": {
     "duration": 0.105746,
     "end_time": "2021-04-10T15:11:43.682606",
     "exception": false,
     "start_time": "2021-04-10T15:11:43.576860",
     "status": "completed"
    },
    "tags": []
   },
   "outputs": [],
   "source": [
    "data_test.drop(columns = ['PassengerId', 'Cabin'], inplace = True)"
   ]
  },
  {
   "cell_type": "code",
   "execution_count": 36,
   "metadata": {
    "execution": {
     "iopub.execute_input": "2021-04-10T15:11:43.880526Z",
     "iopub.status.busy": "2021-04-10T15:11:43.879441Z",
     "iopub.status.idle": "2021-04-10T15:11:43.883216Z",
     "shell.execute_reply": "2021-04-10T15:11:43.882572Z"
    },
    "papermill": {
     "duration": 0.105542,
     "end_time": "2021-04-10T15:11:43.883360",
     "exception": false,
     "start_time": "2021-04-10T15:11:43.777818",
     "status": "completed"
    },
    "tags": []
   },
   "outputs": [],
   "source": [
    "data_test.dropna(inplace = True)"
   ]
  },
  {
   "cell_type": "code",
   "execution_count": 37,
   "metadata": {
    "execution": {
     "iopub.execute_input": "2021-04-10T15:11:44.084074Z",
     "iopub.status.busy": "2021-04-10T15:11:44.083388Z",
     "iopub.status.idle": "2021-04-10T15:11:44.087776Z",
     "shell.execute_reply": "2021-04-10T15:11:44.088494Z"
    },
    "papermill": {
     "duration": 0.111932,
     "end_time": "2021-04-10T15:11:44.088748",
     "exception": false,
     "start_time": "2021-04-10T15:11:43.976816",
     "status": "completed"
    },
    "tags": []
   },
   "outputs": [
    {
     "name": "stdout",
     "output_type": "stream",
     "text": [
      "<class 'pandas.core.frame.DataFrame'>\n",
      "Int64Index: 418 entries, 0 to 417\n",
      "Data columns (total 9 columns):\n",
      " #   Column    Non-Null Count  Dtype  \n",
      "---  ------    --------------  -----  \n",
      " 0   Pclass    418 non-null    int64  \n",
      " 1   Name      418 non-null    object \n",
      " 2   Sex       418 non-null    object \n",
      " 3   Age       418 non-null    float64\n",
      " 4   SibSp     418 non-null    float64\n",
      " 5   Parch     418 non-null    float64\n",
      " 6   Ticket    418 non-null    object \n",
      " 7   Fare      418 non-null    float64\n",
      " 8   Embarked  418 non-null    object \n",
      "dtypes: float64(4), int64(1), object(4)\n",
      "memory usage: 32.7+ KB\n"
     ]
    }
   ],
   "source": [
    "data_test.info()"
   ]
  },
  {
   "cell_type": "markdown",
   "metadata": {
    "papermill": {
     "duration": 0.092916,
     "end_time": "2021-04-10T15:11:44.275863",
     "exception": false,
     "start_time": "2021-04-10T15:11:44.182947",
     "status": "completed"
    },
    "tags": []
   },
   "source": [
    "### Correlation Check - Train Data (Numerical Variables)"
   ]
  },
  {
   "cell_type": "code",
   "execution_count": 38,
   "metadata": {
    "execution": {
     "iopub.execute_input": "2021-04-10T15:11:44.487836Z",
     "iopub.status.busy": "2021-04-10T15:11:44.485318Z",
     "iopub.status.idle": "2021-04-10T15:11:45.398590Z",
     "shell.execute_reply": "2021-04-10T15:11:45.397880Z"
    },
    "papermill": {
     "duration": 1.029392,
     "end_time": "2021-04-10T15:11:45.398751",
     "exception": false,
     "start_time": "2021-04-10T15:11:44.369359",
     "status": "completed"
    },
    "tags": []
   },
   "outputs": [
    {
     "data": {
      "text/plain": [
       "<seaborn.axisgrid.PairGrid at 0x7f2386237050>"
      ]
     },
     "execution_count": 38,
     "metadata": {},
     "output_type": "execute_result"
    },
    {
     "data": {
      "image/png": "[encoded data removed]",
      "text/plain": [
       "<Figure size 360x360 with 6 Axes>"
      ]
     },
     "metadata": {
      "needs_background": "light"
     },
     "output_type": "display_data"
    }
   ],
   "source": [
    "sns.pairplot(data_train[['Age', 'Fare']])"
   ]
  },
  {
   "cell_type": "code",
   "execution_count": 39,
   "metadata": {
    "execution": {
     "iopub.execute_input": "2021-04-10T15:11:45.686965Z",
     "iopub.status.busy": "2021-04-10T15:11:45.675541Z",
     "iopub.status.idle": "2021-04-10T15:11:45.869648Z",
     "shell.execute_reply": "2021-04-10T15:11:45.868915Z"
    },
    "papermill": {
     "duration": 0.372308,
     "end_time": "2021-04-10T15:11:45.869918",
     "exception": false,
     "start_time": "2021-04-10T15:11:45.497610",
     "status": "completed"
    },
    "tags": []
   },
   "outputs": [
    {
     "data": {
      "image/png": "[encoded data removed]",
      "text/plain": [
       "<Figure size 432x288 with 2 Axes>"
      ]
     },
     "metadata": {
      "needs_background": "light"
     },
     "output_type": "display_data"
    }
   ],
   "source": [
    "sns.heatmap(data_train[['Age', 'Fare']].corr(), annot=True,fmt='.2f')\n",
    "plt.show()"
   ]
  },
  {
   "cell_type": "markdown",
   "metadata": {
    "papermill": {
     "duration": 0.095668,
     "end_time": "2021-04-10T15:11:46.063122",
     "exception": false,
     "start_time": "2021-04-10T15:11:45.967454",
     "status": "completed"
    },
    "tags": []
   },
   "source": [
    "### Correlation Check - Test Data (Numerical Variables)"
   ]
  },
  {
   "cell_type": "code",
   "execution_count": 40,
   "metadata": {
    "execution": {
     "iopub.execute_input": "2021-04-10T15:11:46.302005Z",
     "iopub.status.busy": "2021-04-10T15:11:46.281301Z",
     "iopub.status.idle": "2021-04-10T15:11:47.241589Z",
     "shell.execute_reply": "2021-04-10T15:11:47.240663Z"
    },
    "papermill": {
     "duration": 1.080713,
     "end_time": "2021-04-10T15:11:47.241772",
     "exception": false,
     "start_time": "2021-04-10T15:11:46.161059",
     "status": "completed"
    },
    "tags": []
   },
   "outputs": [
    {
     "data": {
      "text/plain": [
       "<seaborn.axisgrid.PairGrid at 0x7f2385e57050>"
      ]
     },
     "execution_count": 40,
     "metadata": {},
     "output_type": "execute_result"
    },
    {
     "data": {
      "image/png": "[encoded data removed]",
      "text/plain": [
       "<Figure size 360x360 with 6 Axes>"
      ]
     },
     "metadata": {
      "needs_background": "light"
     },
     "output_type": "display_data"
    }
   ],
   "source": [
    "sns.pairplot(data_test[['Age', 'Fare']])"
   ]
  },
  {
   "cell_type": "code",
   "execution_count": 41,
   "metadata": {
    "execution": {
     "iopub.execute_input": "2021-04-10T15:11:47.463494Z",
     "iopub.status.busy": "2021-04-10T15:11:47.461921Z",
     "iopub.status.idle": "2021-04-10T15:11:47.633106Z",
     "shell.execute_reply": "2021-04-10T15:11:47.632393Z"
    },
    "papermill": {
     "duration": 0.293211,
     "end_time": "2021-04-10T15:11:47.633310",
     "exception": false,
     "start_time": "2021-04-10T15:11:47.340099",
     "status": "completed"
    },
    "tags": []
   },
   "outputs": [
    {
     "data": {
      "image/png": "[encoded data removed]",
      "text/plain": [
       "<Figure size 432x288 with 2 Axes>"
      ]
     },
     "metadata": {
      "needs_background": "light"
     },
     "output_type": "display_data"
    }
   ],
   "source": [
    "sns.heatmap(data_test[['Age', 'Fare']].corr(), annot=True,fmt='.2f')\n",
    "plt.show()"
   ]
  },
  {
   "cell_type": "markdown",
   "metadata": {
    "papermill": {
     "duration": 0.099094,
     "end_time": "2021-04-10T15:11:47.833604",
     "exception": false,
     "start_time": "2021-04-10T15:11:47.734510",
     "status": "completed"
    },
    "tags": []
   },
   "source": [
    "### *Not much correlation between variables both in train & test*"
   ]
  },
  {
   "cell_type": "markdown",
   "metadata": {
    "papermill": {
     "duration": 0.098573,
     "end_time": "2021-04-10T15:11:48.032269",
     "exception": false,
     "start_time": "2021-04-10T15:11:47.933696",
     "status": "completed"
    },
    "tags": []
   },
   "source": [
    "### Data Transformation - Train & Test"
   ]
  },
  {
   "cell_type": "code",
   "execution_count": 42,
   "metadata": {
    "execution": {
     "iopub.execute_input": "2021-04-10T15:11:48.238057Z",
     "iopub.status.busy": "2021-04-10T15:11:48.236989Z",
     "iopub.status.idle": "2021-04-10T15:11:48.240902Z",
     "shell.execute_reply": "2021-04-10T15:11:48.240327Z"
    },
    "papermill": {
     "duration": 0.109083,
     "end_time": "2021-04-10T15:11:48.241053",
     "exception": false,
     "start_time": "2021-04-10T15:11:48.131970",
     "status": "completed"
    },
    "tags": []
   },
   "outputs": [],
   "source": [
    "oneHotCols=['Sex', 'Embarked']"
   ]
  },
  {
   "cell_type": "code",
   "execution_count": 43,
   "metadata": {
    "execution": {
     "iopub.execute_input": "2021-04-10T15:11:48.455066Z",
     "iopub.status.busy": "2021-04-10T15:11:48.449301Z",
     "iopub.status.idle": "2021-04-10T15:11:48.477435Z",
     "shell.execute_reply": "2021-04-10T15:11:48.476796Z"
    },
    "papermill": {
     "duration": 0.136656,
     "end_time": "2021-04-10T15:11:48.477599",
     "exception": false,
     "start_time": "2021-04-10T15:11:48.340943",
     "status": "completed"
    },
    "tags": []
   },
   "outputs": [
    {
     "data": {
      "text/html": [
       "<div>\n",
       "<style scoped>\n",
       "    .dataframe tbody tr th:only-of-type {\n",
       "        vertical-align: middle;\n",
       "    }\n",
       "\n",
       "    .dataframe tbody tr th {\n",
       "        vertical-align: top;\n",
       "    }\n",
       "\n",
       "    .dataframe thead th {\n",
       "        text-align: right;\n",
       "    }\n",
       "</style>\n",
       "<table border=\"1\" class=\"dataframe\">\n",
       "  <thead>\n",
       "    <tr style=\"text-align: right;\">\n",
       "      <th></th>\n",
       "      <th>Survived</th>\n",
       "      <th>Pclass</th>\n",
       "      <th>Name</th>\n",
       "      <th>Age</th>\n",
       "      <th>SibSp</th>\n",
       "      <th>Parch</th>\n",
       "      <th>Ticket</th>\n",
       "      <th>Fare</th>\n",
       "      <th>Sex_female</th>\n",
       "      <th>Sex_male</th>\n",
       "      <th>Embarked_C</th>\n",
       "      <th>Embarked_Q</th>\n",
       "      <th>Embarked_S</th>\n",
       "    </tr>\n",
       "  </thead>\n",
       "  <tbody>\n",
       "    <tr>\n",
       "      <th>0</th>\n",
       "      <td>0</td>\n",
       "      <td>3</td>\n",
       "      <td>Braund, Mr. Owen Harris</td>\n",
       "      <td>22.000000</td>\n",
       "      <td>1.0</td>\n",
       "      <td>0.0</td>\n",
       "      <td>A/5 21171</td>\n",
       "      <td>7.2500</td>\n",
       "      <td>0</td>\n",
       "      <td>1</td>\n",
       "      <td>0</td>\n",
       "      <td>0</td>\n",
       "      <td>1</td>\n",
       "    </tr>\n",
       "    <tr>\n",
       "      <th>1</th>\n",
       "      <td>1</td>\n",
       "      <td>1</td>\n",
       "      <td>Cumings, Mrs. John Bradley (Florence Briggs Th...</td>\n",
       "      <td>38.000000</td>\n",
       "      <td>1.0</td>\n",
       "      <td>0.0</td>\n",
       "      <td>PC 17599</td>\n",
       "      <td>65.6344</td>\n",
       "      <td>1</td>\n",
       "      <td>0</td>\n",
       "      <td>1</td>\n",
       "      <td>0</td>\n",
       "      <td>0</td>\n",
       "    </tr>\n",
       "    <tr>\n",
       "      <th>2</th>\n",
       "      <td>1</td>\n",
       "      <td>3</td>\n",
       "      <td>Heikkinen, Miss. Laina</td>\n",
       "      <td>26.000000</td>\n",
       "      <td>0.0</td>\n",
       "      <td>0.0</td>\n",
       "      <td>STON/O2. 3101282</td>\n",
       "      <td>7.9250</td>\n",
       "      <td>1</td>\n",
       "      <td>0</td>\n",
       "      <td>0</td>\n",
       "      <td>0</td>\n",
       "      <td>1</td>\n",
       "    </tr>\n",
       "    <tr>\n",
       "      <th>3</th>\n",
       "      <td>1</td>\n",
       "      <td>1</td>\n",
       "      <td>Futrelle, Mrs. Jacques Heath (Lily May Peel)</td>\n",
       "      <td>35.000000</td>\n",
       "      <td>1.0</td>\n",
       "      <td>0.0</td>\n",
       "      <td>113803</td>\n",
       "      <td>53.1000</td>\n",
       "      <td>1</td>\n",
       "      <td>0</td>\n",
       "      <td>0</td>\n",
       "      <td>0</td>\n",
       "      <td>1</td>\n",
       "    </tr>\n",
       "    <tr>\n",
       "      <th>4</th>\n",
       "      <td>0</td>\n",
       "      <td>3</td>\n",
       "      <td>Allen, Mr. William Henry</td>\n",
       "      <td>35.000000</td>\n",
       "      <td>0.0</td>\n",
       "      <td>0.0</td>\n",
       "      <td>373450</td>\n",
       "      <td>8.0500</td>\n",
       "      <td>0</td>\n",
       "      <td>1</td>\n",
       "      <td>0</td>\n",
       "      <td>0</td>\n",
       "      <td>1</td>\n",
       "    </tr>\n",
       "    <tr>\n",
       "      <th>5</th>\n",
       "      <td>0</td>\n",
       "      <td>3</td>\n",
       "      <td>Moran, Mr. James</td>\n",
       "      <td>29.699118</td>\n",
       "      <td>0.0</td>\n",
       "      <td>0.0</td>\n",
       "      <td>330877</td>\n",
       "      <td>8.4583</td>\n",
       "      <td>0</td>\n",
       "      <td>1</td>\n",
       "      <td>0</td>\n",
       "      <td>1</td>\n",
       "      <td>0</td>\n",
       "    </tr>\n",
       "    <tr>\n",
       "      <th>6</th>\n",
       "      <td>0</td>\n",
       "      <td>1</td>\n",
       "      <td>McCarthy, Mr. Timothy J</td>\n",
       "      <td>54.000000</td>\n",
       "      <td>0.0</td>\n",
       "      <td>0.0</td>\n",
       "      <td>17463</td>\n",
       "      <td>51.8625</td>\n",
       "      <td>0</td>\n",
       "      <td>1</td>\n",
       "      <td>0</td>\n",
       "      <td>0</td>\n",
       "      <td>1</td>\n",
       "    </tr>\n",
       "    <tr>\n",
       "      <th>7</th>\n",
       "      <td>0</td>\n",
       "      <td>3</td>\n",
       "      <td>Palsson, Master. Gosta Leonard</td>\n",
       "      <td>2.500000</td>\n",
       "      <td>2.5</td>\n",
       "      <td>0.0</td>\n",
       "      <td>349909</td>\n",
       "      <td>21.0750</td>\n",
       "      <td>0</td>\n",
       "      <td>1</td>\n",
       "      <td>0</td>\n",
       "      <td>0</td>\n",
       "      <td>1</td>\n",
       "    </tr>\n",
       "    <tr>\n",
       "      <th>8</th>\n",
       "      <td>1</td>\n",
       "      <td>3</td>\n",
       "      <td>Johnson, Mrs. Oscar W (Elisabeth Vilhelmina Berg)</td>\n",
       "      <td>27.000000</td>\n",
       "      <td>0.0</td>\n",
       "      <td>0.0</td>\n",
       "      <td>347742</td>\n",
       "      <td>11.1333</td>\n",
       "      <td>1</td>\n",
       "      <td>0</td>\n",
       "      <td>0</td>\n",
       "      <td>0</td>\n",
       "      <td>1</td>\n",
       "    </tr>\n",
       "    <tr>\n",
       "      <th>9</th>\n",
       "      <td>1</td>\n",
       "      <td>2</td>\n",
       "      <td>Nasser, Mrs. Nicholas (Adele Achem)</td>\n",
       "      <td>14.000000</td>\n",
       "      <td>1.0</td>\n",
       "      <td>0.0</td>\n",
       "      <td>237736</td>\n",
       "      <td>30.0708</td>\n",
       "      <td>1</td>\n",
       "      <td>0</td>\n",
       "      <td>1</td>\n",
       "      <td>0</td>\n",
       "      <td>0</td>\n",
       "    </tr>\n",
       "  </tbody>\n",
       "</table>\n",
       "</div>"
      ],
      "text/plain": [
       "   Survived  Pclass                                               Name  \\\n",
       "0         0       3                            Braund, Mr. Owen Harris   \n",
       "1         1       1  Cumings, Mrs. John Bradley (Florence Briggs Th...   \n",
       "2         1       3                             Heikkinen, Miss. Laina   \n",
       "3         1       1       Futrelle, Mrs. Jacques Heath (Lily May Peel)   \n",
       "4         0       3                           Allen, Mr. William Henry   \n",
       "5         0       3                                   Moran, Mr. James   \n",
       "6         0       1                            McCarthy, Mr. Timothy J   \n",
       "7         0       3                     Palsson, Master. Gosta Leonard   \n",
       "8         1       3  Johnson, Mrs. Oscar W (Elisabeth Vilhelmina Berg)   \n",
       "9         1       2                Nasser, Mrs. Nicholas (Adele Achem)   \n",
       "\n",
       "         Age  SibSp  Parch            Ticket     Fare  Sex_female  Sex_male  \\\n",
       "0  22.000000    1.0    0.0         A/5 21171   7.2500           0         1   \n",
       "1  38.000000    1.0    0.0          PC 17599  65.6344           1         0   \n",
       "2  26.000000    0.0    0.0  STON/O2. 3101282   7.9250           1         0   \n",
       "3  35.000000    1.0    0.0            113803  53.1000           1         0   \n",
       "4  35.000000    0.0    0.0            373450   8.0500           0         1   \n",
       "5  29.699118    0.0    0.0            330877   8.4583           0         1   \n",
       "6  54.000000    0.0    0.0             17463  51.8625           0         1   \n",
       "7   2.500000    2.5    0.0            349909  21.0750           0         1   \n",
       "8  27.000000    0.0    0.0            347742  11.1333           1         0   \n",
       "9  14.000000    1.0    0.0            237736  30.0708           1         0   \n",
       "\n",
       "   Embarked_C  Embarked_Q  Embarked_S  \n",
       "0           0           0           1  \n",
       "1           1           0           0  \n",
       "2           0           0           1  \n",
       "3           0           0           1  \n",
       "4           0           0           1  \n",
       "5           0           1           0  \n",
       "6           0           0           1  \n",
       "7           0           0           1  \n",
       "8           0           0           1  \n",
       "9           1           0           0  "
      ]
     },
     "execution_count": 43,
     "metadata": {},
     "output_type": "execute_result"
    }
   ],
   "source": [
    "data_train=pd.get_dummies(data_train, columns=oneHotCols)\n",
    "data_train.head(10)"
   ]
  },
  {
   "cell_type": "code",
   "execution_count": 44,
   "metadata": {
    "execution": {
     "iopub.execute_input": "2021-04-10T15:11:48.686835Z",
     "iopub.status.busy": "2021-04-10T15:11:48.686020Z",
     "iopub.status.idle": "2021-04-10T15:11:48.710830Z",
     "shell.execute_reply": "2021-04-10T15:11:48.711476Z"
    },
    "papermill": {
     "duration": 0.133309,
     "end_time": "2021-04-10T15:11:48.711658",
     "exception": false,
     "start_time": "2021-04-10T15:11:48.578349",
     "status": "completed"
    },
    "tags": []
   },
   "outputs": [
    {
     "data": {
      "text/html": [
       "<div>\n",
       "<style scoped>\n",
       "    .dataframe tbody tr th:only-of-type {\n",
       "        vertical-align: middle;\n",
       "    }\n",
       "\n",
       "    .dataframe tbody tr th {\n",
       "        vertical-align: top;\n",
       "    }\n",
       "\n",
       "    .dataframe thead th {\n",
       "        text-align: right;\n",
       "    }\n",
       "</style>\n",
       "<table border=\"1\" class=\"dataframe\">\n",
       "  <thead>\n",
       "    <tr style=\"text-align: right;\">\n",
       "      <th></th>\n",
       "      <th>Pclass</th>\n",
       "      <th>Name</th>\n",
       "      <th>Age</th>\n",
       "      <th>SibSp</th>\n",
       "      <th>Parch</th>\n",
       "      <th>Ticket</th>\n",
       "      <th>Fare</th>\n",
       "      <th>Sex_female</th>\n",
       "      <th>Sex_male</th>\n",
       "      <th>Embarked_C</th>\n",
       "      <th>Embarked_Q</th>\n",
       "      <th>Embarked_S</th>\n",
       "    </tr>\n",
       "  </thead>\n",
       "  <tbody>\n",
       "    <tr>\n",
       "      <th>0</th>\n",
       "      <td>3</td>\n",
       "      <td>Kelly, Mr. James</td>\n",
       "      <td>34.500</td>\n",
       "      <td>0.0</td>\n",
       "      <td>0.0</td>\n",
       "      <td>330911</td>\n",
       "      <td>7.8292</td>\n",
       "      <td>0</td>\n",
       "      <td>1</td>\n",
       "      <td>0</td>\n",
       "      <td>1</td>\n",
       "      <td>0</td>\n",
       "    </tr>\n",
       "    <tr>\n",
       "      <th>1</th>\n",
       "      <td>3</td>\n",
       "      <td>Wilkes, Mrs. James (Ellen Needs)</td>\n",
       "      <td>47.000</td>\n",
       "      <td>1.0</td>\n",
       "      <td>0.0</td>\n",
       "      <td>363272</td>\n",
       "      <td>7.0000</td>\n",
       "      <td>1</td>\n",
       "      <td>0</td>\n",
       "      <td>0</td>\n",
       "      <td>0</td>\n",
       "      <td>1</td>\n",
       "    </tr>\n",
       "    <tr>\n",
       "      <th>2</th>\n",
       "      <td>2</td>\n",
       "      <td>Myles, Mr. Thomas Francis</td>\n",
       "      <td>54.875</td>\n",
       "      <td>0.0</td>\n",
       "      <td>0.0</td>\n",
       "      <td>240276</td>\n",
       "      <td>9.6875</td>\n",
       "      <td>0</td>\n",
       "      <td>1</td>\n",
       "      <td>0</td>\n",
       "      <td>1</td>\n",
       "      <td>0</td>\n",
       "    </tr>\n",
       "    <tr>\n",
       "      <th>3</th>\n",
       "      <td>3</td>\n",
       "      <td>Wirz, Mr. Albert</td>\n",
       "      <td>27.000</td>\n",
       "      <td>0.0</td>\n",
       "      <td>0.0</td>\n",
       "      <td>315154</td>\n",
       "      <td>8.6625</td>\n",
       "      <td>0</td>\n",
       "      <td>1</td>\n",
       "      <td>0</td>\n",
       "      <td>0</td>\n",
       "      <td>1</td>\n",
       "    </tr>\n",
       "    <tr>\n",
       "      <th>4</th>\n",
       "      <td>3</td>\n",
       "      <td>Hirvonen, Mrs. Alexander (Helga E Lindqvist)</td>\n",
       "      <td>22.000</td>\n",
       "      <td>1.0</td>\n",
       "      <td>0.0</td>\n",
       "      <td>3101298</td>\n",
       "      <td>12.2875</td>\n",
       "      <td>1</td>\n",
       "      <td>0</td>\n",
       "      <td>0</td>\n",
       "      <td>0</td>\n",
       "      <td>1</td>\n",
       "    </tr>\n",
       "    <tr>\n",
       "      <th>5</th>\n",
       "      <td>3</td>\n",
       "      <td>Svensson, Mr. Johan Cervin</td>\n",
       "      <td>14.000</td>\n",
       "      <td>0.0</td>\n",
       "      <td>0.0</td>\n",
       "      <td>7538</td>\n",
       "      <td>9.2250</td>\n",
       "      <td>0</td>\n",
       "      <td>1</td>\n",
       "      <td>0</td>\n",
       "      <td>0</td>\n",
       "      <td>1</td>\n",
       "    </tr>\n",
       "    <tr>\n",
       "      <th>6</th>\n",
       "      <td>3</td>\n",
       "      <td>Connolly, Miss. Kate</td>\n",
       "      <td>30.000</td>\n",
       "      <td>0.0</td>\n",
       "      <td>0.0</td>\n",
       "      <td>330972</td>\n",
       "      <td>7.6292</td>\n",
       "      <td>1</td>\n",
       "      <td>0</td>\n",
       "      <td>0</td>\n",
       "      <td>1</td>\n",
       "      <td>0</td>\n",
       "    </tr>\n",
       "    <tr>\n",
       "      <th>7</th>\n",
       "      <td>2</td>\n",
       "      <td>Caldwell, Mr. Albert Francis</td>\n",
       "      <td>26.000</td>\n",
       "      <td>1.0</td>\n",
       "      <td>0.0</td>\n",
       "      <td>248738</td>\n",
       "      <td>29.0000</td>\n",
       "      <td>0</td>\n",
       "      <td>1</td>\n",
       "      <td>0</td>\n",
       "      <td>0</td>\n",
       "      <td>1</td>\n",
       "    </tr>\n",
       "    <tr>\n",
       "      <th>8</th>\n",
       "      <td>3</td>\n",
       "      <td>Abrahim, Mrs. Joseph (Sophie Halaut Easu)</td>\n",
       "      <td>18.000</td>\n",
       "      <td>0.0</td>\n",
       "      <td>0.0</td>\n",
       "      <td>2657</td>\n",
       "      <td>7.2292</td>\n",
       "      <td>1</td>\n",
       "      <td>0</td>\n",
       "      <td>1</td>\n",
       "      <td>0</td>\n",
       "      <td>0</td>\n",
       "    </tr>\n",
       "    <tr>\n",
       "      <th>9</th>\n",
       "      <td>3</td>\n",
       "      <td>Davies, Mr. John Samuel</td>\n",
       "      <td>21.000</td>\n",
       "      <td>2.0</td>\n",
       "      <td>0.0</td>\n",
       "      <td>A/4 48871</td>\n",
       "      <td>24.1500</td>\n",
       "      <td>0</td>\n",
       "      <td>1</td>\n",
       "      <td>0</td>\n",
       "      <td>0</td>\n",
       "      <td>1</td>\n",
       "    </tr>\n",
       "  </tbody>\n",
       "</table>\n",
       "</div>"
      ],
      "text/plain": [
       "   Pclass                                          Name     Age  SibSp  Parch  \\\n",
       "0       3                              Kelly, Mr. James  34.500    0.0    0.0   \n",
       "1       3              Wilkes, Mrs. James (Ellen Needs)  47.000    1.0    0.0   \n",
       "2       2                     Myles, Mr. Thomas Francis  54.875    0.0    0.0   \n",
       "3       3                              Wirz, Mr. Albert  27.000    0.0    0.0   \n",
       "4       3  Hirvonen, Mrs. Alexander (Helga E Lindqvist)  22.000    1.0    0.0   \n",
       "5       3                    Svensson, Mr. Johan Cervin  14.000    0.0    0.0   \n",
       "6       3                          Connolly, Miss. Kate  30.000    0.0    0.0   \n",
       "7       2                  Caldwell, Mr. Albert Francis  26.000    1.0    0.0   \n",
       "8       3     Abrahim, Mrs. Joseph (Sophie Halaut Easu)  18.000    0.0    0.0   \n",
       "9       3                       Davies, Mr. John Samuel  21.000    2.0    0.0   \n",
       "\n",
       "      Ticket     Fare  Sex_female  Sex_male  Embarked_C  Embarked_Q  \\\n",
       "0     330911   7.8292           0         1           0           1   \n",
       "1     363272   7.0000           1         0           0           0   \n",
       "2     240276   9.6875           0         1           0           1   \n",
       "3     315154   8.6625           0         1           0           0   \n",
       "4    3101298  12.2875           1         0           0           0   \n",
       "5       7538   9.2250           0         1           0           0   \n",
       "6     330972   7.6292           1         0           0           1   \n",
       "7     248738  29.0000           0         1           0           0   \n",
       "8       2657   7.2292           1         0           1           0   \n",
       "9  A/4 48871  24.1500           0         1           0           0   \n",
       "\n",
       "   Embarked_S  \n",
       "0           0  \n",
       "1           1  \n",
       "2           0  \n",
       "3           1  \n",
       "4           1  \n",
       "5           1  \n",
       "6           0  \n",
       "7           1  \n",
       "8           0  \n",
       "9           1  "
      ]
     },
     "execution_count": 44,
     "metadata": {},
     "output_type": "execute_result"
    }
   ],
   "source": [
    "data_test=pd.get_dummies(data_test, columns=oneHotCols)\n",
    "data_test.head(10)"
   ]
  },
  {
   "cell_type": "markdown",
   "metadata": {
    "papermill": {
     "duration": 0.103454,
     "end_time": "2021-04-10T15:11:48.917690",
     "exception": false,
     "start_time": "2021-04-10T15:11:48.814236",
     "status": "completed"
    },
    "tags": []
   },
   "source": [
    "### Data type conversion for modelling - Train & Test"
   ]
  },
  {
   "cell_type": "code",
   "execution_count": 45,
   "metadata": {
    "execution": {
     "iopub.execute_input": "2021-04-10T15:11:49.127230Z",
     "iopub.status.busy": "2021-04-10T15:11:49.126324Z",
     "iopub.status.idle": "2021-04-10T15:11:49.136718Z",
     "shell.execute_reply": "2021-04-10T15:11:49.135922Z"
    },
    "papermill": {
     "duration": 0.117961,
     "end_time": "2021-04-10T15:11:49.136884",
     "exception": false,
     "start_time": "2021-04-10T15:11:49.018923",
     "status": "completed"
    },
    "tags": []
   },
   "outputs": [],
   "source": [
    "for feature in data_train.columns: \n",
    "    if data_train[feature].dtype == 'object': \n",
    "        data_train[feature] = pd.Categorical(data_train[feature]).codes"
   ]
  },
  {
   "cell_type": "code",
   "execution_count": 46,
   "metadata": {
    "execution": {
     "iopub.execute_input": "2021-04-10T15:11:49.347298Z",
     "iopub.status.busy": "2021-04-10T15:11:49.346514Z",
     "iopub.status.idle": "2021-04-10T15:11:49.365083Z",
     "shell.execute_reply": "2021-04-10T15:11:49.364110Z"
    },
    "papermill": {
     "duration": 0.125438,
     "end_time": "2021-04-10T15:11:49.365353",
     "exception": false,
     "start_time": "2021-04-10T15:11:49.239915",
     "status": "completed"
    },
    "tags": []
   },
   "outputs": [
    {
     "name": "stdout",
     "output_type": "stream",
     "text": [
      "<class 'pandas.core.frame.DataFrame'>\n",
      "Int64Index: 889 entries, 0 to 890\n",
      "Data columns (total 13 columns):\n",
      " #   Column      Non-Null Count  Dtype  \n",
      "---  ------      --------------  -----  \n",
      " 0   Survived    889 non-null    int64  \n",
      " 1   Pclass      889 non-null    int64  \n",
      " 2   Name        889 non-null    int16  \n",
      " 3   Age         889 non-null    float64\n",
      " 4   SibSp       889 non-null    float64\n",
      " 5   Parch       889 non-null    float64\n",
      " 6   Ticket      889 non-null    int16  \n",
      " 7   Fare        889 non-null    float64\n",
      " 8   Sex_female  889 non-null    uint8  \n",
      " 9   Sex_male    889 non-null    uint8  \n",
      " 10  Embarked_C  889 non-null    uint8  \n",
      " 11  Embarked_Q  889 non-null    uint8  \n",
      " 12  Embarked_S  889 non-null    uint8  \n",
      "dtypes: float64(4), int16(2), int64(2), uint8(5)\n",
      "memory usage: 56.4 KB\n"
     ]
    }
   ],
   "source": [
    "data_train.info()"
   ]
  },
  {
   "cell_type": "code",
   "execution_count": 47,
   "metadata": {
    "execution": {
     "iopub.execute_input": "2021-04-10T15:11:49.584649Z",
     "iopub.status.busy": "2021-04-10T15:11:49.583450Z",
     "iopub.status.idle": "2021-04-10T15:11:49.587281Z",
     "shell.execute_reply": "2021-04-10T15:11:49.586711Z"
    },
    "papermill": {
     "duration": 0.117681,
     "end_time": "2021-04-10T15:11:49.587549",
     "exception": false,
     "start_time": "2021-04-10T15:11:49.469868",
     "status": "completed"
    },
    "tags": []
   },
   "outputs": [],
   "source": [
    "for feature in data_test.columns: \n",
    "    if data_test[feature].dtype == 'object': \n",
    "        data_test[feature] = pd.Categorical(data_test[feature]).codes"
   ]
  },
  {
   "cell_type": "code",
   "execution_count": 48,
   "metadata": {
    "execution": {
     "iopub.execute_input": "2021-04-10T15:11:49.805850Z",
     "iopub.status.busy": "2021-04-10T15:11:49.803469Z",
     "iopub.status.idle": "2021-04-10T15:11:49.810969Z",
     "shell.execute_reply": "2021-04-10T15:11:49.811442Z"
    },
    "papermill": {
     "duration": 0.123023,
     "end_time": "2021-04-10T15:11:49.811633",
     "exception": false,
     "start_time": "2021-04-10T15:11:49.688610",
     "status": "completed"
    },
    "tags": []
   },
   "outputs": [
    {
     "name": "stdout",
     "output_type": "stream",
     "text": [
      "<class 'pandas.core.frame.DataFrame'>\n",
      "Int64Index: 418 entries, 0 to 417\n",
      "Data columns (total 12 columns):\n",
      " #   Column      Non-Null Count  Dtype  \n",
      "---  ------      --------------  -----  \n",
      " 0   Pclass      418 non-null    int64  \n",
      " 1   Name        418 non-null    int16  \n",
      " 2   Age         418 non-null    float64\n",
      " 3   SibSp       418 non-null    float64\n",
      " 4   Parch       418 non-null    float64\n",
      " 5   Ticket      418 non-null    int16  \n",
      " 6   Fare        418 non-null    float64\n",
      " 7   Sex_female  418 non-null    uint8  \n",
      " 8   Sex_male    418 non-null    uint8  \n",
      " 9   Embarked_C  418 non-null    uint8  \n",
      " 10  Embarked_Q  418 non-null    uint8  \n",
      " 11  Embarked_S  418 non-null    uint8  \n",
      "dtypes: float64(4), int16(2), int64(1), uint8(5)\n",
      "memory usage: 23.3 KB\n"
     ]
    }
   ],
   "source": [
    "data_test.info()"
   ]
  },
  {
   "cell_type": "markdown",
   "metadata": {
    "papermill": {
     "duration": 0.104025,
     "end_time": "2021-04-10T15:11:50.017966",
     "exception": false,
     "start_time": "2021-04-10T15:11:49.913941",
     "status": "completed"
    },
    "tags": []
   },
   "source": [
    "### Standardizing the Train & Test Data"
   ]
  },
  {
   "cell_type": "code",
   "execution_count": 49,
   "metadata": {
    "execution": {
     "iopub.execute_input": "2021-04-10T15:11:50.234529Z",
     "iopub.status.busy": "2021-04-10T15:11:50.233620Z",
     "iopub.status.idle": "2021-04-10T15:11:50.307511Z",
     "shell.execute_reply": "2021-04-10T15:11:50.308069Z"
    },
    "papermill": {
     "duration": 0.186796,
     "end_time": "2021-04-10T15:11:50.308287",
     "exception": false,
     "start_time": "2021-04-10T15:11:50.121491",
     "status": "completed"
    },
    "tags": []
   },
   "outputs": [
    {
     "data": {
      "text/plain": [
       "'Train Head :'"
      ]
     },
     "metadata": {},
     "output_type": "display_data"
    },
    {
     "data": {
      "text/html": [
       "<div>\n",
       "<style scoped>\n",
       "    .dataframe tbody tr th:only-of-type {\n",
       "        vertical-align: middle;\n",
       "    }\n",
       "\n",
       "    .dataframe tbody tr th {\n",
       "        vertical-align: top;\n",
       "    }\n",
       "\n",
       "    .dataframe thead th {\n",
       "        text-align: right;\n",
       "    }\n",
       "</style>\n",
       "<table border=\"1\" class=\"dataframe\">\n",
       "  <thead>\n",
       "    <tr style=\"text-align: right;\">\n",
       "      <th></th>\n",
       "      <th>Survived</th>\n",
       "      <th>Pclass</th>\n",
       "      <th>Name</th>\n",
       "      <th>Age</th>\n",
       "      <th>SibSp</th>\n",
       "      <th>Parch</th>\n",
       "      <th>Ticket</th>\n",
       "      <th>Fare</th>\n",
       "      <th>Sex_female</th>\n",
       "      <th>Sex_male</th>\n",
       "      <th>Embarked_C</th>\n",
       "      <th>Embarked_Q</th>\n",
       "      <th>Embarked_S</th>\n",
       "    </tr>\n",
       "  </thead>\n",
       "  <tbody>\n",
       "    <tr>\n",
       "      <th>0</th>\n",
       "      <td>0.0</td>\n",
       "      <td>0.0</td>\n",
       "      <td>-0.756757</td>\n",
       "      <td>-0.592240</td>\n",
       "      <td>1.0</td>\n",
       "      <td>0.0</td>\n",
       "      <td>0.516667</td>\n",
       "      <td>-0.311813</td>\n",
       "      <td>0.0</td>\n",
       "      <td>0.0</td>\n",
       "      <td>0.0</td>\n",
       "      <td>0.0</td>\n",
       "      <td>0.0</td>\n",
       "    </tr>\n",
       "    <tr>\n",
       "      <th>1</th>\n",
       "      <td>1.0</td>\n",
       "      <td>-2.0</td>\n",
       "      <td>-0.572072</td>\n",
       "      <td>0.638529</td>\n",
       "      <td>1.0</td>\n",
       "      <td>0.0</td>\n",
       "      <td>0.719444</td>\n",
       "      <td>2.215190</td>\n",
       "      <td>1.0</td>\n",
       "      <td>-1.0</td>\n",
       "      <td>1.0</td>\n",
       "      <td>0.0</td>\n",
       "      <td>-1.0</td>\n",
       "    </tr>\n",
       "    <tr>\n",
       "      <th>2</th>\n",
       "      <td>1.0</td>\n",
       "      <td>0.0</td>\n",
       "      <td>-0.204955</td>\n",
       "      <td>-0.284548</td>\n",
       "      <td>0.0</td>\n",
       "      <td>0.0</td>\n",
       "      <td>0.922222</td>\n",
       "      <td>-0.282598</td>\n",
       "      <td>1.0</td>\n",
       "      <td>-1.0</td>\n",
       "      <td>0.0</td>\n",
       "      <td>0.0</td>\n",
       "      <td>0.0</td>\n",
       "    </tr>\n",
       "    <tr>\n",
       "      <th>3</th>\n",
       "      <td>1.0</td>\n",
       "      <td>-2.0</td>\n",
       "      <td>-0.387387</td>\n",
       "      <td>0.407760</td>\n",
       "      <td>1.0</td>\n",
       "      <td>0.0</td>\n",
       "      <td>-0.800000</td>\n",
       "      <td>1.672674</td>\n",
       "      <td>1.0</td>\n",
       "      <td>-1.0</td>\n",
       "      <td>0.0</td>\n",
       "      <td>0.0</td>\n",
       "      <td>0.0</td>\n",
       "    </tr>\n",
       "    <tr>\n",
       "      <th>4</th>\n",
       "      <td>0.0</td>\n",
       "      <td>0.0</td>\n",
       "      <td>-0.966216</td>\n",
       "      <td>0.407760</td>\n",
       "      <td>0.0</td>\n",
       "      <td>0.0</td>\n",
       "      <td>0.375000</td>\n",
       "      <td>-0.277188</td>\n",
       "      <td>0.0</td>\n",
       "      <td>0.0</td>\n",
       "      <td>0.0</td>\n",
       "      <td>0.0</td>\n",
       "      <td>0.0</td>\n",
       "    </tr>\n",
       "  </tbody>\n",
       "</table>\n",
       "</div>"
      ],
      "text/plain": [
       "   Survived  Pclass      Name       Age  SibSp  Parch    Ticket      Fare  \\\n",
       "0       0.0     0.0 -0.756757 -0.592240    1.0    0.0  0.516667 -0.311813   \n",
       "1       1.0    -2.0 -0.572072  0.638529    1.0    0.0  0.719444  2.215190   \n",
       "2       1.0     0.0 -0.204955 -0.284548    0.0    0.0  0.922222 -0.282598   \n",
       "3       1.0    -2.0 -0.387387  0.407760    1.0    0.0 -0.800000  1.672674   \n",
       "4       0.0     0.0 -0.966216  0.407760    0.0    0.0  0.375000 -0.277188   \n",
       "\n",
       "   Sex_female  Sex_male  Embarked_C  Embarked_Q  Embarked_S  \n",
       "0         0.0       0.0         0.0         0.0         0.0  \n",
       "1         1.0      -1.0         1.0         0.0        -1.0  \n",
       "2         1.0      -1.0         0.0         0.0         0.0  \n",
       "3         1.0      -1.0         0.0         0.0         0.0  \n",
       "4         0.0       0.0         0.0         0.0         0.0  "
      ]
     },
     "metadata": {},
     "output_type": "display_data"
    },
    {
     "data": {
      "text/plain": [
       "Index(['Survived', 'Pclass', 'Name', 'Age', 'SibSp', 'Parch', 'Ticket', 'Fare',\n",
       "       'Sex_female', 'Sex_male', 'Embarked_C', 'Embarked_Q', 'Embarked_S'],\n",
       "      dtype='object')"
      ]
     },
     "metadata": {},
     "output_type": "display_data"
    },
    {
     "data": {
      "text/plain": [
       "'Test Head :'"
      ]
     },
     "metadata": {},
     "output_type": "display_data"
    },
    {
     "data": {
      "text/html": [
       "<div>\n",
       "<style scoped>\n",
       "    .dataframe tbody tr th:only-of-type {\n",
       "        vertical-align: middle;\n",
       "    }\n",
       "\n",
       "    .dataframe tbody tr th {\n",
       "        vertical-align: top;\n",
       "    }\n",
       "\n",
       "    .dataframe thead th {\n",
       "        text-align: right;\n",
       "    }\n",
       "</style>\n",
       "<table border=\"1\" class=\"dataframe\">\n",
       "  <thead>\n",
       "    <tr style=\"text-align: right;\">\n",
       "      <th></th>\n",
       "      <th>Pclass</th>\n",
       "      <th>Name</th>\n",
       "      <th>Age</th>\n",
       "      <th>SibSp</th>\n",
       "      <th>Parch</th>\n",
       "      <th>Ticket</th>\n",
       "      <th>Fare</th>\n",
       "      <th>Sex_female</th>\n",
       "      <th>Sex_male</th>\n",
       "      <th>Embarked_C</th>\n",
       "      <th>Embarked_Q</th>\n",
       "      <th>Embarked_S</th>\n",
       "    </tr>\n",
       "  </thead>\n",
       "  <tbody>\n",
       "    <tr>\n",
       "      <th>0</th>\n",
       "      <td>0.0</td>\n",
       "      <td>-0.011990</td>\n",
       "      <td>0.331562</td>\n",
       "      <td>0.0</td>\n",
       "      <td>0.0</td>\n",
       "      <td>-0.149100</td>\n",
       "      <td>-0.280670</td>\n",
       "      <td>0.0</td>\n",
       "      <td>0.0</td>\n",
       "      <td>0.0</td>\n",
       "      <td>1.0</td>\n",
       "      <td>-1.0</td>\n",
       "    </tr>\n",
       "    <tr>\n",
       "      <th>1</th>\n",
       "      <td>0.0</td>\n",
       "      <td>0.932854</td>\n",
       "      <td>1.311954</td>\n",
       "      <td>1.0</td>\n",
       "      <td>0.0</td>\n",
       "      <td>0.205656</td>\n",
       "      <td>-0.315800</td>\n",
       "      <td>1.0</td>\n",
       "      <td>-1.0</td>\n",
       "      <td>0.0</td>\n",
       "      <td>0.0</td>\n",
       "      <td>0.0</td>\n",
       "    </tr>\n",
       "    <tr>\n",
       "      <th>2</th>\n",
       "      <td>-0.5</td>\n",
       "      <td>0.290168</td>\n",
       "      <td>1.929601</td>\n",
       "      <td>0.0</td>\n",
       "      <td>0.0</td>\n",
       "      <td>-0.555270</td>\n",
       "      <td>-0.201943</td>\n",
       "      <td>0.0</td>\n",
       "      <td>0.0</td>\n",
       "      <td>0.0</td>\n",
       "      <td>1.0</td>\n",
       "      <td>-1.0</td>\n",
       "    </tr>\n",
       "    <tr>\n",
       "      <th>3</th>\n",
       "      <td>0.0</td>\n",
       "      <td>0.956835</td>\n",
       "      <td>-0.256674</td>\n",
       "      <td>0.0</td>\n",
       "      <td>0.0</td>\n",
       "      <td>-0.174807</td>\n",
       "      <td>-0.245367</td>\n",
       "      <td>0.0</td>\n",
       "      <td>0.0</td>\n",
       "      <td>0.0</td>\n",
       "      <td>0.0</td>\n",
       "      <td>0.0</td>\n",
       "    </tr>\n",
       "    <tr>\n",
       "      <th>4</th>\n",
       "      <td>0.0</td>\n",
       "      <td>-0.146283</td>\n",
       "      <td>-0.648831</td>\n",
       "      <td>1.0</td>\n",
       "      <td>0.0</td>\n",
       "      <td>-0.221080</td>\n",
       "      <td>-0.091793</td>\n",
       "      <td>1.0</td>\n",
       "      <td>-1.0</td>\n",
       "      <td>0.0</td>\n",
       "      <td>0.0</td>\n",
       "      <td>0.0</td>\n",
       "    </tr>\n",
       "  </tbody>\n",
       "</table>\n",
       "</div>"
      ],
      "text/plain": [
       "   Pclass      Name       Age  SibSp  Parch    Ticket      Fare  Sex_female  \\\n",
       "0     0.0 -0.011990  0.331562    0.0    0.0 -0.149100 -0.280670         0.0   \n",
       "1     0.0  0.932854  1.311954    1.0    0.0  0.205656 -0.315800         1.0   \n",
       "2    -0.5  0.290168  1.929601    0.0    0.0 -0.555270 -0.201943         0.0   \n",
       "3     0.0  0.956835 -0.256674    0.0    0.0 -0.174807 -0.245367         0.0   \n",
       "4     0.0 -0.146283 -0.648831    1.0    0.0 -0.221080 -0.091793         1.0   \n",
       "\n",
       "   Sex_male  Embarked_C  Embarked_Q  Embarked_S  \n",
       "0       0.0         0.0         1.0        -1.0  \n",
       "1      -1.0         0.0         0.0         0.0  \n",
       "2       0.0         0.0         1.0        -1.0  \n",
       "3       0.0         0.0         0.0         0.0  \n",
       "4      -1.0         0.0         0.0         0.0  "
      ]
     },
     "metadata": {},
     "output_type": "display_data"
    },
    {
     "data": {
      "text/plain": [
       "Index(['Pclass', 'Name', 'Age', 'SibSp', 'Parch', 'Ticket', 'Fare',\n",
       "       'Sex_female', 'Sex_male', 'Embarked_C', 'Embarked_Q', 'Embarked_S'],\n",
       "      dtype='object')"
      ]
     },
     "metadata": {},
     "output_type": "display_data"
    }
   ],
   "source": [
    "def data_scaling( scaling_strategy , scaling_data , scaling_columns ):\n",
    "    if    scaling_strategy ==\"RobustScaler\" :\n",
    "        scaling_data[scaling_columns] = RobustScaler().fit_transform(scaling_data[scaling_columns])\n",
    "    elif  scaling_strategy ==\"StandardScaler\" :\n",
    "        scaling_data[scaling_columns] = StandardScaler().fit_transform(scaling_data[scaling_columns])\n",
    "    elif  scaling_strategy ==\"MinMaxScaler\" :\n",
    "        scaling_data[scaling_columns] = MinMaxScaler().fit_transform(scaling_data[scaling_columns])\n",
    "    elif  scaling_strategy ==\"MaxAbsScaler\" :\n",
    "        scaling_data[scaling_columns] = MaxAbsScaler().fit_transform(scaling_data[scaling_columns])\n",
    "    else :  # If any other scaling send by mistake still perform Robust Scalar\n",
    "        scaling_data[scaling_columns] = RobustScaler().fit_transform(scaling_data[scaling_columns])\n",
    "    return scaling_data\n",
    "# RobustScaler is better in handling Outliers :\n",
    "scaling_strategy = [\"RobustScaler\", \"StandardScaler\",\"MinMaxScaler\",\"MaxAbsScaler\"]\n",
    "data_train_scale = data_scaling( scaling_strategy[0] , data_train, data_train.columns )\n",
    "data_test_scale  = data_scaling( scaling_strategy [0] , data_test, data_test.columns )\n",
    "# Display Scaled Train and Test Features :\n",
    "display('Train Head :',data_train_scale.head())\n",
    "display(data_train_scale.columns)\n",
    "display('Test Head :',data_test_scale.head())\n",
    "display(data_test_scale.columns)"
   ]
  },
  {
   "cell_type": "markdown",
   "metadata": {
    "papermill": {
     "duration": 0.105654,
     "end_time": "2021-04-10T15:11:50.519340",
     "exception": false,
     "start_time": "2021-04-10T15:11:50.413686",
     "status": "completed"
    },
    "tags": []
   },
   "source": [
    "### Boxplot after standardization - Train Data"
   ]
  },
  {
   "cell_type": "code",
   "execution_count": 50,
   "metadata": {
    "execution": {
     "iopub.execute_input": "2021-04-10T15:11:50.737266Z",
     "iopub.status.busy": "2021-04-10T15:11:50.736519Z",
     "iopub.status.idle": "2021-04-10T15:11:51.093935Z",
     "shell.execute_reply": "2021-04-10T15:11:51.094439Z"
    },
    "papermill": {
     "duration": 0.468741,
     "end_time": "2021-04-10T15:11:51.094648",
     "exception": false,
     "start_time": "2021-04-10T15:11:50.625907",
     "status": "completed"
    },
    "tags": []
   },
   "outputs": [
    {
     "data": {
      "image/png": "[encoded data removed]",
      "text/plain": [
       "<Figure size 1440x216 with 1 Axes>"
      ]
     },
     "metadata": {
      "needs_background": "light"
     },
     "output_type": "display_data"
    }
   ],
   "source": [
    "data_train_scale.boxplot(figsize=(20,3))\n",
    "plt.xticks(rotation=90)\n",
    "plt.show()"
   ]
  },
  {
   "cell_type": "markdown",
   "metadata": {
    "papermill": {
     "duration": 0.105583,
     "end_time": "2021-04-10T15:11:51.310021",
     "exception": false,
     "start_time": "2021-04-10T15:11:51.204438",
     "status": "completed"
    },
    "tags": []
   },
   "source": [
    "### Boxplot after standardization - Test Data"
   ]
  },
  {
   "cell_type": "code",
   "execution_count": 51,
   "metadata": {
    "execution": {
     "iopub.execute_input": "2021-04-10T15:11:51.551829Z",
     "iopub.status.busy": "2021-04-10T15:11:51.544049Z",
     "iopub.status.idle": "2021-04-10T15:11:51.843622Z",
     "shell.execute_reply": "2021-04-10T15:11:51.842915Z"
    },
    "papermill": {
     "duration": 0.427413,
     "end_time": "2021-04-10T15:11:51.843789",
     "exception": false,
     "start_time": "2021-04-10T15:11:51.416376",
     "status": "completed"
    },
    "tags": []
   },
   "outputs": [
    {
     "data": {
      "image/png": "[encoded data removed]",
      "text/plain": [
       "<Figure size 1440x216 with 1 Axes>"
      ]
     },
     "metadata": {
      "needs_background": "light"
     },
     "output_type": "display_data"
    }
   ],
   "source": [
    "data_test_scale.boxplot(figsize=(20,3))\n",
    "plt.xticks(rotation=90)\n",
    "plt.show()"
   ]
  },
  {
   "cell_type": "markdown",
   "metadata": {
    "papermill": {
     "duration": 0.107193,
     "end_time": "2021-04-10T15:11:52.058779",
     "exception": false,
     "start_time": "2021-04-10T15:11:51.951586",
     "status": "completed"
    },
    "tags": []
   },
   "source": [
    "## Part 3 - Predictive Modelling"
   ]
  },
  {
   "cell_type": "markdown",
   "metadata": {
    "papermill": {
     "duration": 0.108402,
     "end_time": "2021-04-10T15:11:52.273983",
     "exception": false,
     "start_time": "2021-04-10T15:11:52.165581",
     "status": "completed"
    },
    "tags": []
   },
   "source": [
    "### Checking proportion the target variable in train data"
   ]
  },
  {
   "cell_type": "code",
   "execution_count": 52,
   "metadata": {
    "execution": {
     "iopub.execute_input": "2021-04-10T15:11:52.498639Z",
     "iopub.status.busy": "2021-04-10T15:11:52.497323Z",
     "iopub.status.idle": "2021-04-10T15:11:52.588835Z",
     "shell.execute_reply": "2021-04-10T15:11:52.588121Z"
    },
    "papermill": {
     "duration": 0.207894,
     "end_time": "2021-04-10T15:11:52.589002",
     "exception": false,
     "start_time": "2021-04-10T15:11:52.381108",
     "status": "completed"
    },
    "tags": []
   },
   "outputs": [
    {
     "data": {
      "text/plain": [
       "<AxesSubplot:ylabel='Survived'>"
      ]
     },
     "execution_count": 52,
     "metadata": {},
     "output_type": "execute_result"
    },
    {
     "data": {
      "image/png": "[encoded data removed]",
      "text/plain": [
       "<Figure size 432x288 with 1 Axes>"
      ]
     },
     "metadata": {},
     "output_type": "display_data"
    }
   ],
   "source": [
    "data_train_scale.Survived.value_counts().plot(kind='pie', autopct='%1.0f%%', colors=[\"red\",\"green\"])"
   ]
  },
  {
   "cell_type": "markdown",
   "metadata": {
    "papermill": {
     "duration": 0.108653,
     "end_time": "2021-04-10T15:11:52.805965",
     "exception": false,
     "start_time": "2021-04-10T15:11:52.697312",
     "status": "completed"
    },
    "tags": []
   },
   "source": [
    "####  0 is Not Survived, 1 is Survived. Proportion is 62:38, balanced."
   ]
  },
  {
   "cell_type": "markdown",
   "metadata": {
    "papermill": {
     "duration": 0.109843,
     "end_time": "2021-04-10T15:11:53.025942",
     "exception": false,
     "start_time": "2021-04-10T15:11:52.916099",
     "status": "completed"
    },
    "tags": []
   },
   "source": [
    "### Splitting train data into train & train validation"
   ]
  },
  {
   "cell_type": "code",
   "execution_count": 53,
   "metadata": {
    "execution": {
     "iopub.execute_input": "2021-04-10T15:11:53.249715Z",
     "iopub.status.busy": "2021-04-10T15:11:53.248983Z",
     "iopub.status.idle": "2021-04-10T15:11:53.253143Z",
     "shell.execute_reply": "2021-04-10T15:11:53.253752Z"
    },
    "papermill": {
     "duration": 0.118172,
     "end_time": "2021-04-10T15:11:53.253936",
     "exception": false,
     "start_time": "2021-04-10T15:11:53.135764",
     "status": "completed"
    },
    "tags": []
   },
   "outputs": [],
   "source": [
    "features = data_train_scale.drop('Survived',axis=1)\n",
    "labels = data_train_scale['Survived']"
   ]
  },
  {
   "cell_type": "code",
   "execution_count": 54,
   "metadata": {
    "execution": {
     "iopub.execute_input": "2021-04-10T15:11:53.480001Z",
     "iopub.status.busy": "2021-04-10T15:11:53.479065Z",
     "iopub.status.idle": "2021-04-10T15:11:53.482638Z",
     "shell.execute_reply": "2021-04-10T15:11:53.481971Z"
    },
    "papermill": {
     "duration": 0.120681,
     "end_time": "2021-04-10T15:11:53.482783",
     "exception": false,
     "start_time": "2021-04-10T15:11:53.362102",
     "status": "completed"
    },
    "tags": []
   },
   "outputs": [],
   "source": [
    "X_train, X_val, y_train, y_val = train_test_split(features, labels, test_size = 0.3, random_state =143)"
   ]
  },
  {
   "cell_type": "code",
   "execution_count": 55,
   "metadata": {
    "execution": {
     "iopub.execute_input": "2021-04-10T15:11:53.704849Z",
     "iopub.status.busy": "2021-04-10T15:11:53.704122Z",
     "iopub.status.idle": "2021-04-10T15:11:53.707777Z",
     "shell.execute_reply": "2021-04-10T15:11:53.707127Z"
    },
    "papermill": {
     "duration": 0.116202,
     "end_time": "2021-04-10T15:11:53.707932",
     "exception": false,
     "start_time": "2021-04-10T15:11:53.591730",
     "status": "completed"
    },
    "tags": []
   },
   "outputs": [],
   "source": [
    "X_test = data_test_scale"
   ]
  },
  {
   "cell_type": "markdown",
   "metadata": {
    "papermill": {
     "duration": 0.112477,
     "end_time": "2021-04-10T15:11:53.931332",
     "exception": false,
     "start_time": "2021-04-10T15:11:53.818855",
     "status": "completed"
    },
    "tags": []
   },
   "source": [
    "### Shape of train, test & validation data"
   ]
  },
  {
   "cell_type": "code",
   "execution_count": 56,
   "metadata": {
    "execution": {
     "iopub.execute_input": "2021-04-10T15:11:54.155941Z",
     "iopub.status.busy": "2021-04-10T15:11:54.155233Z",
     "iopub.status.idle": "2021-04-10T15:11:54.170266Z",
     "shell.execute_reply": "2021-04-10T15:11:54.169598Z"
    },
    "papermill": {
     "duration": 0.127055,
     "end_time": "2021-04-10T15:11:54.170416",
     "exception": false,
     "start_time": "2021-04-10T15:11:54.043361",
     "status": "completed"
    },
    "tags": []
   },
   "outputs": [
    {
     "data": {
      "text/plain": [
       "'Train shape :'"
      ]
     },
     "metadata": {},
     "output_type": "display_data"
    },
    {
     "data": {
      "text/plain": [
       "(622, 12)"
      ]
     },
     "metadata": {},
     "output_type": "display_data"
    },
    {
     "data": {
      "text/plain": [
       "'Test shape :'"
      ]
     },
     "metadata": {},
     "output_type": "display_data"
    },
    {
     "data": {
      "text/plain": [
       "(418, 12)"
      ]
     },
     "metadata": {},
     "output_type": "display_data"
    },
    {
     "data": {
      "text/plain": [
       "'Validation shape :'"
      ]
     },
     "metadata": {},
     "output_type": "display_data"
    },
    {
     "data": {
      "text/plain": [
       "(267, 12)"
      ]
     },
     "metadata": {},
     "output_type": "display_data"
    }
   ],
   "source": [
    "display('Train shape :',X_train.shape)\n",
    "display('Test shape :',X_test.shape)\n",
    "display('Validation shape :',X_val.shape)"
   ]
  },
  {
   "cell_type": "markdown",
   "metadata": {
    "papermill": {
     "duration": 0.113253,
     "end_time": "2021-04-10T15:11:54.395813",
     "exception": false,
     "start_time": "2021-04-10T15:11:54.282560",
     "status": "completed"
    },
    "tags": []
   },
   "source": [
    "### Defining a function for Best Parameters before modelling"
   ]
  },
  {
   "cell_type": "code",
   "execution_count": 57,
   "metadata": {
    "execution": {
     "iopub.execute_input": "2021-04-10T15:11:54.629861Z",
     "iopub.status.busy": "2021-04-10T15:11:54.628807Z",
     "iopub.status.idle": "2021-04-10T15:11:54.632493Z",
     "shell.execute_reply": "2021-04-10T15:11:54.631863Z"
    },
    "papermill": {
     "duration": 0.122911,
     "end_time": "2021-04-10T15:11:54.632648",
     "exception": false,
     "start_time": "2021-04-10T15:11:54.509737",
     "status": "completed"
    },
    "tags": []
   },
   "outputs": [],
   "source": [
    "def print_results(results):\n",
    "    print('BEST PARAMS: {}\\n'.format(results.best_params_))\n",
    "\n",
    "    means = results.cv_results_['mean_test_score']\n",
    "    stds = results.cv_results_['std_test_score']\n",
    "    for mean, std, params in zip(means, stds, results.cv_results_['params']):\n",
    "        print('{} (+/-{}) for {}'.format(round(mean, 3), round(std * 2, 3), params))"
   ]
  },
  {
   "cell_type": "markdown",
   "metadata": {
    "papermill": {
     "duration": 0.112411,
     "end_time": "2021-04-10T15:11:54.857640",
     "exception": false,
     "start_time": "2021-04-10T15:11:54.745229",
     "status": "completed"
    },
    "tags": []
   },
   "source": [
    "### Building Logistics Regression"
   ]
  },
  {
   "cell_type": "code",
   "execution_count": 58,
   "metadata": {
    "execution": {
     "iopub.execute_input": "2021-04-10T15:11:55.086730Z",
     "iopub.status.busy": "2021-04-10T15:11:55.085971Z",
     "iopub.status.idle": "2021-04-10T15:11:55.215281Z",
     "shell.execute_reply": "2021-04-10T15:11:55.214586Z"
    },
    "papermill": {
     "duration": 0.2469,
     "end_time": "2021-04-10T15:11:55.215445",
     "exception": false,
     "start_time": "2021-04-10T15:11:54.968545",
     "status": "completed"
    },
    "tags": []
   },
   "outputs": [],
   "source": [
    "from sklearn.linear_model import LogisticRegression"
   ]
  },
  {
   "cell_type": "code",
   "execution_count": 59,
   "metadata": {
    "execution": {
     "iopub.execute_input": "2021-04-10T15:11:55.446637Z",
     "iopub.status.busy": "2021-04-10T15:11:55.445329Z",
     "iopub.status.idle": "2021-04-10T15:11:55.866117Z",
     "shell.execute_reply": "2021-04-10T15:11:55.866793Z"
    },
    "papermill": {
     "duration": 0.538789,
     "end_time": "2021-04-10T15:11:55.867004",
     "exception": false,
     "start_time": "2021-04-10T15:11:55.328215",
     "status": "completed"
    },
    "tags": []
   },
   "outputs": [
    {
     "name": "stdout",
     "output_type": "stream",
     "text": [
      "BEST PARAMS: {'C': 0.1}\n",
      "\n",
      "0.617 (+/-0.006) for {'C': 0.001}\n",
      "0.759 (+/-0.041) for {'C': 0.01}\n",
      "0.78 (+/-0.085) for {'C': 0.1}\n",
      "0.778 (+/-0.083) for {'C': 1}\n",
      "0.778 (+/-0.083) for {'C': 10}\n",
      "0.778 (+/-0.083) for {'C': 100}\n",
      "0.778 (+/-0.083) for {'C': 1000}\n"
     ]
    }
   ],
   "source": [
    "lr = LogisticRegression()\n",
    "parameters = {\n",
    "    'C': [0.001, 0.01, 0.1, 1, 10, 100, 1000]\n",
    "}\n",
    "\n",
    "lr_cv = GridSearchCV(lr, parameters, cv=5)\n",
    "lr_cv.fit(X_train, y_train.ravel())\n",
    "\n",
    "print_results(lr_cv)"
   ]
  },
  {
   "cell_type": "code",
   "execution_count": 60,
   "metadata": {
    "execution": {
     "iopub.execute_input": "2021-04-10T15:11:56.097081Z",
     "iopub.status.busy": "2021-04-10T15:11:56.096085Z",
     "iopub.status.idle": "2021-04-10T15:11:56.103068Z",
     "shell.execute_reply": "2021-04-10T15:11:56.104117Z"
    },
    "papermill": {
     "duration": 0.124086,
     "end_time": "2021-04-10T15:11:56.104360",
     "exception": false,
     "start_time": "2021-04-10T15:11:55.980274",
     "status": "completed"
    },
    "tags": []
   },
   "outputs": [
    {
     "data": {
      "text/plain": [
       "LogisticRegression(C=0.1)"
      ]
     },
     "execution_count": 60,
     "metadata": {},
     "output_type": "execute_result"
    }
   ],
   "source": [
    "lr_cv.best_estimator_"
   ]
  },
  {
   "cell_type": "markdown",
   "metadata": {
    "papermill": {
     "duration": 0.11131,
     "end_time": "2021-04-10T15:11:56.328729",
     "exception": false,
     "start_time": "2021-04-10T15:11:56.217419",
     "status": "completed"
    },
    "tags": []
   },
   "source": [
    "### Confusion Matrix & ROC curve of Train Data"
   ]
  },
  {
   "cell_type": "code",
   "execution_count": 61,
   "metadata": {
    "execution": {
     "iopub.execute_input": "2021-04-10T15:11:56.560176Z",
     "iopub.status.busy": "2021-04-10T15:11:56.559462Z",
     "iopub.status.idle": "2021-04-10T15:11:56.748314Z",
     "shell.execute_reply": "2021-04-10T15:11:56.747730Z"
    },
    "papermill": {
     "duration": 0.308781,
     "end_time": "2021-04-10T15:11:56.748475",
     "exception": false,
     "start_time": "2021-04-10T15:11:56.439694",
     "status": "completed"
    },
    "tags": []
   },
   "outputs": [
    {
     "data": {
      "image/png": "[encoded data removed]",
      "text/plain": [
       "<Figure size 432x288 with 2 Axes>"
      ]
     },
     "metadata": {
      "needs_background": "light"
     },
     "output_type": "display_data"
    }
   ],
   "source": [
    "plot_confusion_matrix(lr_cv, X_train, y_train, values_format ='d')\n",
    "plt.grid(None)\n",
    "classNames = ['Not Survived(0)', 'Survived(1)']\n",
    "plt.ylabel('ACTUAL')\n",
    "plt.xlabel('PREDICTED')\n",
    "tick_marks = np.arange(len(classNames))\n",
    "plt.xticks(tick_marks, classNames, rotation=45)\n",
    "plt.yticks(tick_marks, classNames)\n",
    "plt.show();"
   ]
  },
  {
   "cell_type": "code",
   "execution_count": 62,
   "metadata": {
    "execution": {
     "iopub.execute_input": "2021-04-10T15:11:56.990639Z",
     "iopub.status.busy": "2021-04-10T15:11:56.989499Z",
     "iopub.status.idle": "2021-04-10T15:11:57.148806Z",
     "shell.execute_reply": "2021-04-10T15:11:57.148096Z"
    },
    "papermill": {
     "duration": 0.28469,
     "end_time": "2021-04-10T15:11:57.148975",
     "exception": false,
     "start_time": "2021-04-10T15:11:56.864285",
     "status": "completed"
    },
    "tags": []
   },
   "outputs": [
    {
     "name": "stdout",
     "output_type": "stream",
     "text": [
      "Area Under Curve: 0.853\n"
     ]
    },
    {
     "data": {
      "image/png": "[encoded data removed]",
      "text/plain": [
       "<Figure size 432x288 with 1 Axes>"
      ]
     },
     "metadata": {
      "needs_background": "light"
     },
     "output_type": "display_data"
    }
   ],
   "source": [
    "probs = lr_cv.predict_proba(X_train)\n",
    "probs = probs[:, 1]\n",
    "log_train_auc = roc_auc_score(y_train, probs)\n",
    "print('Area Under Curve: %.3f' % log_train_auc)\n",
    "log_train_fpr, log_train_tpr, log_train_thresholds = roc_curve(y_train, probs)\n",
    "plt.plot([0, 1], [0, 1], linestyle='--')\n",
    "plt.plot(log_train_fpr, log_train_tpr)\n",
    "plt.ylabel('True Positive Rate')\n",
    "plt.xlabel('False Positive Rate')\n",
    "plt.title('ROC')\n",
    "plt.show()"
   ]
  },
  {
   "cell_type": "code",
   "execution_count": 63,
   "metadata": {
    "execution": {
     "iopub.execute_input": "2021-04-10T15:11:57.389096Z",
     "iopub.status.busy": "2021-04-10T15:11:57.388392Z",
     "iopub.status.idle": "2021-04-10T15:11:57.391921Z",
     "shell.execute_reply": "2021-04-10T15:11:57.391273Z"
    },
    "papermill": {
     "duration": 0.127744,
     "end_time": "2021-04-10T15:11:57.392071",
     "exception": false,
     "start_time": "2021-04-10T15:11:57.264327",
     "status": "completed"
    },
    "tags": []
   },
   "outputs": [],
   "source": [
    "probs = lr_cv.predict_proba(X_val)\n",
    "probs = probs[:, 1]\n",
    "log_val_fpr, log_val_tpr, log_val_thresholds = roc_curve(y_val, probs)"
   ]
  },
  {
   "cell_type": "code",
   "execution_count": 64,
   "metadata": {
    "execution": {
     "iopub.execute_input": "2021-04-10T15:11:57.628666Z",
     "iopub.status.busy": "2021-04-10T15:11:57.626548Z",
     "iopub.status.idle": "2021-04-10T15:11:57.633387Z",
     "shell.execute_reply": "2021-04-10T15:11:57.633928Z"
    },
    "papermill": {
     "duration": 0.126345,
     "end_time": "2021-04-10T15:11:57.634114",
     "exception": false,
     "start_time": "2021-04-10T15:11:57.507769",
     "status": "completed"
    },
    "tags": []
   },
   "outputs": [
    {
     "data": {
      "text/plain": [
       "['../../../LR_model.pkl']"
      ]
     },
     "execution_count": 64,
     "metadata": {},
     "output_type": "execute_result"
    }
   ],
   "source": [
    "joblib.dump(lr_cv.best_estimator_, '../../../LR_model.pkl')"
   ]
  },
  {
   "cell_type": "markdown",
   "metadata": {
    "papermill": {
     "duration": 0.116455,
     "end_time": "2021-04-10T15:11:57.865621",
     "exception": false,
     "start_time": "2021-04-10T15:11:57.749166",
     "status": "completed"
    },
    "tags": []
   },
   "source": [
    "### Building Support Vector Machine"
   ]
  },
  {
   "cell_type": "code",
   "execution_count": 65,
   "metadata": {
    "execution": {
     "iopub.execute_input": "2021-04-10T15:11:58.110493Z",
     "iopub.status.busy": "2021-04-10T15:11:58.109479Z",
     "iopub.status.idle": "2021-04-10T15:11:58.113034Z",
     "shell.execute_reply": "2021-04-10T15:11:58.112480Z"
    },
    "papermill": {
     "duration": 0.12855,
     "end_time": "2021-04-10T15:11:58.113187",
     "exception": false,
     "start_time": "2021-04-10T15:11:57.984637",
     "status": "completed"
    },
    "tags": []
   },
   "outputs": [],
   "source": [
    "from sklearn.svm import SVC"
   ]
  },
  {
   "cell_type": "code",
   "execution_count": 66,
   "metadata": {
    "execution": {
     "iopub.execute_input": "2021-04-10T15:11:58.350796Z",
     "iopub.status.busy": "2021-04-10T15:11:58.349984Z",
     "iopub.status.idle": "2021-04-10T15:11:59.915006Z",
     "shell.execute_reply": "2021-04-10T15:11:59.914302Z"
    },
    "papermill": {
     "duration": 1.687419,
     "end_time": "2021-04-10T15:11:59.915164",
     "exception": false,
     "start_time": "2021-04-10T15:11:58.227745",
     "status": "completed"
    },
    "tags": []
   },
   "outputs": [
    {
     "name": "stdout",
     "output_type": "stream",
     "text": [
      "BEST PARAMS: {'C': 1, 'kernel': 'rbf'}\n",
      "\n",
      "0.791 (+/-0.09) for {'C': 0.1, 'kernel': 'linear'}\n",
      "0.804 (+/-0.07) for {'C': 0.1, 'kernel': 'rbf'}\n",
      "0.791 (+/-0.09) for {'C': 1, 'kernel': 'linear'}\n",
      "0.82 (+/-0.086) for {'C': 1, 'kernel': 'rbf'}\n",
      "0.791 (+/-0.09) for {'C': 10, 'kernel': 'linear'}\n",
      "0.813 (+/-0.042) for {'C': 10, 'kernel': 'rbf'}\n"
     ]
    }
   ],
   "source": [
    "svc = SVC(probability=True)\n",
    "parameters = {\n",
    "    'kernel': ['linear', 'rbf'],\n",
    "    'C': [0.1, 1, 10],\n",
    "}\n",
    "\n",
    "svm_cv = GridSearchCV(svc, parameters, cv=5)\n",
    "svm_cv.fit(X_train, y_train.ravel())\n",
    "\n",
    "print_results(svm_cv)"
   ]
  },
  {
   "cell_type": "code",
   "execution_count": 67,
   "metadata": {
    "execution": {
     "iopub.execute_input": "2021-04-10T15:12:00.157465Z",
     "iopub.status.busy": "2021-04-10T15:12:00.156656Z",
     "iopub.status.idle": "2021-04-10T15:12:00.162420Z",
     "shell.execute_reply": "2021-04-10T15:12:00.161770Z"
    },
    "papermill": {
     "duration": 0.129555,
     "end_time": "2021-04-10T15:12:00.162591",
     "exception": false,
     "start_time": "2021-04-10T15:12:00.033036",
     "status": "completed"
    },
    "tags": []
   },
   "outputs": [
    {
     "data": {
      "text/plain": [
       "SVC(C=1, probability=True)"
      ]
     },
     "execution_count": 67,
     "metadata": {},
     "output_type": "execute_result"
    }
   ],
   "source": [
    "svm_cv.best_estimator_"
   ]
  },
  {
   "cell_type": "markdown",
   "metadata": {
    "papermill": {
     "duration": 0.116719,
     "end_time": "2021-04-10T15:12:00.395958",
     "exception": false,
     "start_time": "2021-04-10T15:12:00.279239",
     "status": "completed"
    },
    "tags": []
   },
   "source": [
    "### Confusion Matrix & ROC curve of Train Data"
   ]
  },
  {
   "cell_type": "code",
   "execution_count": 68,
   "metadata": {
    "execution": {
     "iopub.execute_input": "2021-04-10T15:12:00.638707Z",
     "iopub.status.busy": "2021-04-10T15:12:00.637707Z",
     "iopub.status.idle": "2021-04-10T15:12:00.845386Z",
     "shell.execute_reply": "2021-04-10T15:12:00.844782Z"
    },
    "papermill": {
     "duration": 0.332533,
     "end_time": "2021-04-10T15:12:00.845545",
     "exception": false,
     "start_time": "2021-04-10T15:12:00.513012",
     "status": "completed"
    },
    "tags": []
   },
   "outputs": [
    {
     "data": {
      "image/png": "[encoded data removed]",
      "text/plain": [
       "<Figure size 432x288 with 2 Axes>"
      ]
     },
     "metadata": {
      "needs_background": "light"
     },
     "output_type": "display_data"
    }
   ],
   "source": [
    "plot_confusion_matrix(svm_cv, X_train, y_train, values_format ='d')\n",
    "plt.grid(None)\n",
    "classNames = ['Not Survived(0)', 'Survived(1)']\n",
    "plt.ylabel('ACTUAL')\n",
    "plt.xlabel('PREDICTED')\n",
    "tick_marks = np.arange(len(classNames))\n",
    "plt.xticks(tick_marks, classNames, rotation=45)\n",
    "plt.yticks(tick_marks, classNames)\n",
    "plt.show();"
   ]
  },
  {
   "cell_type": "code",
   "execution_count": 69,
   "metadata": {
    "execution": {
     "iopub.execute_input": "2021-04-10T15:12:01.096354Z",
     "iopub.status.busy": "2021-04-10T15:12:01.095560Z",
     "iopub.status.idle": "2021-04-10T15:12:01.269563Z",
     "shell.execute_reply": "2021-04-10T15:12:01.268899Z"
    },
    "papermill": {
     "duration": 0.303781,
     "end_time": "2021-04-10T15:12:01.269732",
     "exception": false,
     "start_time": "2021-04-10T15:12:00.965951",
     "status": "completed"
    },
    "tags": []
   },
   "outputs": [
    {
     "name": "stdout",
     "output_type": "stream",
     "text": [
      "Area Under Curve: 0.908\n"
     ]
    },
    {
     "data": {
      "image/png": "[encoded data removed]",
      "text/plain": [
       "<Figure size 432x288 with 1 Axes>"
      ]
     },
     "metadata": {
      "needs_background": "light"
     },
     "output_type": "display_data"
    }
   ],
   "source": [
    "probs = svm_cv.predict_proba(X_train)\n",
    "probs = probs[:, 1]\n",
    "svm_train_auc = roc_auc_score(y_train, probs)\n",
    "print('Area Under Curve: %.3f' % svm_train_auc)\n",
    "svm_train_fpr, svm_train_tpr, svm_train_thresholds = roc_curve(y_train, probs)\n",
    "plt.plot([0, 1], [0, 1], linestyle='--')\n",
    "plt.plot(svm_train_fpr, svm_train_tpr)\n",
    "plt.ylabel('True Positive Rate')\n",
    "plt.xlabel('False Positive Rate')\n",
    "plt.title('ROC')\n",
    "plt.show()"
   ]
  },
  {
   "cell_type": "code",
   "execution_count": 70,
   "metadata": {
    "execution": {
     "iopub.execute_input": "2021-04-10T15:12:01.520585Z",
     "iopub.status.busy": "2021-04-10T15:12:01.519600Z",
     "iopub.status.idle": "2021-04-10T15:12:01.530993Z",
     "shell.execute_reply": "2021-04-10T15:12:01.530386Z"
    },
    "papermill": {
     "duration": 0.141143,
     "end_time": "2021-04-10T15:12:01.531141",
     "exception": false,
     "start_time": "2021-04-10T15:12:01.389998",
     "status": "completed"
    },
    "tags": []
   },
   "outputs": [],
   "source": [
    "probs = svm_cv.predict_proba(X_val)\n",
    "probs = probs[:, 1]\n",
    "svm_val_fpr, svm_val_tpr, svm_val_thresholds = roc_curve(y_val, probs)"
   ]
  },
  {
   "cell_type": "code",
   "execution_count": 71,
   "metadata": {
    "execution": {
     "iopub.execute_input": "2021-04-10T15:12:01.779605Z",
     "iopub.status.busy": "2021-04-10T15:12:01.777352Z",
     "iopub.status.idle": "2021-04-10T15:12:01.784948Z",
     "shell.execute_reply": "2021-04-10T15:12:01.784417Z"
    },
    "papermill": {
     "duration": 0.132067,
     "end_time": "2021-04-10T15:12:01.785101",
     "exception": false,
     "start_time": "2021-04-10T15:12:01.653034",
     "status": "completed"
    },
    "tags": []
   },
   "outputs": [
    {
     "data": {
      "text/plain": [
       "['../../../SVM_model.pkl']"
      ]
     },
     "execution_count": 71,
     "metadata": {},
     "output_type": "execute_result"
    }
   ],
   "source": [
    "joblib.dump(svm_cv.best_estimator_, '../../../SVM_model.pkl')"
   ]
  },
  {
   "cell_type": "markdown",
   "metadata": {
    "papermill": {
     "duration": 0.117917,
     "end_time": "2021-04-10T15:12:02.023669",
     "exception": false,
     "start_time": "2021-04-10T15:12:01.905752",
     "status": "completed"
    },
    "tags": []
   },
   "source": [
    "### Building MLP Classifier"
   ]
  },
  {
   "cell_type": "code",
   "execution_count": 72,
   "metadata": {
    "execution": {
     "iopub.execute_input": "2021-04-10T15:12:02.276917Z",
     "iopub.status.busy": "2021-04-10T15:12:02.276107Z",
     "iopub.status.idle": "2021-04-10T15:12:02.290284Z",
     "shell.execute_reply": "2021-04-10T15:12:02.289524Z"
    },
    "papermill": {
     "duration": 0.142025,
     "end_time": "2021-04-10T15:12:02.290457",
     "exception": false,
     "start_time": "2021-04-10T15:12:02.148432",
     "status": "completed"
    },
    "tags": []
   },
   "outputs": [],
   "source": [
    "from sklearn.neural_network import MLPClassifier"
   ]
  },
  {
   "cell_type": "code",
   "execution_count": 73,
   "metadata": {
    "execution": {
     "iopub.execute_input": "2021-04-10T15:12:02.545389Z",
     "iopub.status.busy": "2021-04-10T15:12:02.544311Z",
     "iopub.status.idle": "2021-04-10T15:13:05.026672Z",
     "shell.execute_reply": "2021-04-10T15:13:05.027406Z"
    },
    "papermill": {
     "duration": 62.614024,
     "end_time": "2021-04-10T15:13:05.027635",
     "exception": false,
     "start_time": "2021-04-10T15:12:02.413611",
     "status": "completed"
    },
    "tags": []
   },
   "outputs": [
    {
     "name": "stdout",
     "output_type": "stream",
     "text": [
      "BEST PARAMS: {'activation': 'relu', 'hidden_layer_sizes': (100,), 'learning_rate': 'adaptive'}\n",
      "\n",
      "0.786 (+/-0.07) for {'activation': 'relu', 'hidden_layer_sizes': (10,), 'learning_rate': 'constant'}\n",
      "0.786 (+/-0.079) for {'activation': 'relu', 'hidden_layer_sizes': (10,), 'learning_rate': 'invscaling'}\n",
      "0.789 (+/-0.077) for {'activation': 'relu', 'hidden_layer_sizes': (10,), 'learning_rate': 'adaptive'}\n",
      "0.809 (+/-0.061) for {'activation': 'relu', 'hidden_layer_sizes': (50,), 'learning_rate': 'constant'}\n",
      "0.805 (+/-0.065) for {'activation': 'relu', 'hidden_layer_sizes': (50,), 'learning_rate': 'invscaling'}\n",
      "0.812 (+/-0.071) for {'activation': 'relu', 'hidden_layer_sizes': (50,), 'learning_rate': 'adaptive'}\n",
      "0.812 (+/-0.056) for {'activation': 'relu', 'hidden_layer_sizes': (100,), 'learning_rate': 'constant'}\n",
      "0.81 (+/-0.054) for {'activation': 'relu', 'hidden_layer_sizes': (100,), 'learning_rate': 'invscaling'}\n",
      "0.82 (+/-0.047) for {'activation': 'relu', 'hidden_layer_sizes': (100,), 'learning_rate': 'adaptive'}\n",
      "0.789 (+/-0.072) for {'activation': 'tanh', 'hidden_layer_sizes': (10,), 'learning_rate': 'constant'}\n",
      "0.776 (+/-0.067) for {'activation': 'tanh', 'hidden_layer_sizes': (10,), 'learning_rate': 'invscaling'}\n",
      "0.781 (+/-0.081) for {'activation': 'tanh', 'hidden_layer_sizes': (10,), 'learning_rate': 'adaptive'}\n",
      "0.804 (+/-0.085) for {'activation': 'tanh', 'hidden_layer_sizes': (50,), 'learning_rate': 'constant'}\n",
      "0.796 (+/-0.086) for {'activation': 'tanh', 'hidden_layer_sizes': (50,), 'learning_rate': 'invscaling'}\n",
      "0.801 (+/-0.088) for {'activation': 'tanh', 'hidden_layer_sizes': (50,), 'learning_rate': 'adaptive'}\n",
      "0.799 (+/-0.074) for {'activation': 'tanh', 'hidden_layer_sizes': (100,), 'learning_rate': 'constant'}\n",
      "0.804 (+/-0.078) for {'activation': 'tanh', 'hidden_layer_sizes': (100,), 'learning_rate': 'invscaling'}\n",
      "0.802 (+/-0.078) for {'activation': 'tanh', 'hidden_layer_sizes': (100,), 'learning_rate': 'adaptive'}\n",
      "0.776 (+/-0.041) for {'activation': 'logistic', 'hidden_layer_sizes': (10,), 'learning_rate': 'constant'}\n",
      "0.789 (+/-0.041) for {'activation': 'logistic', 'hidden_layer_sizes': (10,), 'learning_rate': 'invscaling'}\n",
      "0.772 (+/-0.053) for {'activation': 'logistic', 'hidden_layer_sizes': (10,), 'learning_rate': 'adaptive'}\n",
      "0.778 (+/-0.081) for {'activation': 'logistic', 'hidden_layer_sizes': (50,), 'learning_rate': 'constant'}\n",
      "0.772 (+/-0.075) for {'activation': 'logistic', 'hidden_layer_sizes': (50,), 'learning_rate': 'invscaling'}\n",
      "0.778 (+/-0.077) for {'activation': 'logistic', 'hidden_layer_sizes': (50,), 'learning_rate': 'adaptive'}\n",
      "0.778 (+/-0.08) for {'activation': 'logistic', 'hidden_layer_sizes': (100,), 'learning_rate': 'constant'}\n",
      "0.775 (+/-0.079) for {'activation': 'logistic', 'hidden_layer_sizes': (100,), 'learning_rate': 'invscaling'}\n",
      "0.776 (+/-0.082) for {'activation': 'logistic', 'hidden_layer_sizes': (100,), 'learning_rate': 'adaptive'}\n"
     ]
    }
   ],
   "source": [
    "mlp = MLPClassifier()\n",
    "parameters = {\n",
    "    'hidden_layer_sizes': [(10,), (50,), (100,)],\n",
    "    'activation': ['relu', 'tanh', 'logistic'],\n",
    "    'learning_rate': ['constant', 'invscaling', 'adaptive']\n",
    "}\n",
    "\n",
    "mlp_cv = GridSearchCV(mlp, parameters, cv=5)\n",
    "mlp_cv.fit(X_train, y_train.ravel())\n",
    "print_results(mlp_cv)"
   ]
  },
  {
   "cell_type": "code",
   "execution_count": 74,
   "metadata": {
    "execution": {
     "iopub.execute_input": "2021-04-10T15:13:05.272752Z",
     "iopub.status.busy": "2021-04-10T15:13:05.272052Z",
     "iopub.status.idle": "2021-04-10T15:13:05.278720Z",
     "shell.execute_reply": "2021-04-10T15:13:05.279264Z"
    },
    "papermill": {
     "duration": 0.130415,
     "end_time": "2021-04-10T15:13:05.279455",
     "exception": false,
     "start_time": "2021-04-10T15:13:05.149040",
     "status": "completed"
    },
    "tags": []
   },
   "outputs": [
    {
     "data": {
      "text/plain": [
       "MLPClassifier(learning_rate='adaptive')"
      ]
     },
     "execution_count": 74,
     "metadata": {},
     "output_type": "execute_result"
    }
   ],
   "source": [
    "mlp_cv.best_estimator_"
   ]
  },
  {
   "cell_type": "markdown",
   "metadata": {
    "papermill": {
     "duration": 0.128214,
     "end_time": "2021-04-10T15:13:05.528869",
     "exception": false,
     "start_time": "2021-04-10T15:13:05.400655",
     "status": "completed"
    },
    "tags": []
   },
   "source": [
    "### Confusion Matrix & ROC curve of Train Data"
   ]
  },
  {
   "cell_type": "code",
   "execution_count": 75,
   "metadata": {
    "execution": {
     "iopub.execute_input": "2021-04-10T15:13:05.782151Z",
     "iopub.status.busy": "2021-04-10T15:13:05.781382Z",
     "iopub.status.idle": "2021-04-10T15:13:05.986577Z",
     "shell.execute_reply": "2021-04-10T15:13:05.985913Z"
    },
    "papermill": {
     "duration": 0.334449,
     "end_time": "2021-04-10T15:13:05.986747",
     "exception": false,
     "start_time": "2021-04-10T15:13:05.652298",
     "status": "completed"
    },
    "tags": []
   },
   "outputs": [
    {
     "data": {
      "image/png": "[encoded data removed]",
      "text/plain": [
       "<Figure size 432x288 with 2 Axes>"
      ]
     },
     "metadata": {
      "needs_background": "light"
     },
     "output_type": "display_data"
    }
   ],
   "source": [
    "plot_confusion_matrix(mlp_cv, X_train, y_train, values_format ='d')\n",
    "plt.grid(None)\n",
    "classNames = ['Not Survived(0)', 'Survived(1)']\n",
    "plt.ylabel('ACTUAL')\n",
    "plt.xlabel('PREDICTED')\n",
    "tick_marks = np.arange(len(classNames))\n",
    "plt.xticks(tick_marks, classNames, rotation=45)\n",
    "plt.yticks(tick_marks, classNames)\n",
    "plt.show();"
   ]
  },
  {
   "cell_type": "code",
   "execution_count": 76,
   "metadata": {
    "execution": {
     "iopub.execute_input": "2021-04-10T15:13:06.244080Z",
     "iopub.status.busy": "2021-04-10T15:13:06.243269Z",
     "iopub.status.idle": "2021-04-10T15:13:06.396006Z",
     "shell.execute_reply": "2021-04-10T15:13:06.396518Z"
    },
    "papermill": {
     "duration": 0.28581,
     "end_time": "2021-04-10T15:13:06.396728",
     "exception": false,
     "start_time": "2021-04-10T15:13:06.110918",
     "status": "completed"
    },
    "tags": []
   },
   "outputs": [
    {
     "name": "stdout",
     "output_type": "stream",
     "text": [
      "Area Under Curve: 0.913\n"
     ]
    },
    {
     "data": {
      "image/png": "[encoded data removed]",
      "text/plain": [
       "<Figure size 432x288 with 1 Axes>"
      ]
     },
     "metadata": {
      "needs_background": "light"
     },
     "output_type": "display_data"
    }
   ],
   "source": [
    "probs = mlp_cv.predict_proba(X_train)\n",
    "probs = probs[:, 1]\n",
    "mlp_train_auc = roc_auc_score(y_train, probs)\n",
    "print('Area Under Curve: %.3f' % mlp_train_auc)\n",
    "mlp_train_fpr, mlp_train_tpr, mlp_train_thresholds = roc_curve(y_train, probs)\n",
    "plt.plot([0, 1], [0, 1], linestyle='--')\n",
    "plt.plot(mlp_train_fpr, mlp_train_tpr)\n",
    "plt.ylabel('True Positive Rate')\n",
    "plt.xlabel('False Positive Rate')\n",
    "plt.title('ROC')\n",
    "plt.show()"
   ]
  },
  {
   "cell_type": "code",
   "execution_count": 77,
   "metadata": {
    "execution": {
     "iopub.execute_input": "2021-04-10T15:13:06.650575Z",
     "iopub.status.busy": "2021-04-10T15:13:06.649549Z",
     "iopub.status.idle": "2021-04-10T15:13:06.658330Z",
     "shell.execute_reply": "2021-04-10T15:13:06.658937Z"
    },
    "papermill": {
     "duration": 0.137265,
     "end_time": "2021-04-10T15:13:06.659123",
     "exception": false,
     "start_time": "2021-04-10T15:13:06.521858",
     "status": "completed"
    },
    "tags": []
   },
   "outputs": [],
   "source": [
    "probs = mlp_cv.predict_proba(X_val)\n",
    "probs = probs[:, 1]\n",
    "mlp_val_fpr, mlp_val_tpr, mlp_val_thresholds = roc_curve(y_val, probs)"
   ]
  },
  {
   "cell_type": "code",
   "execution_count": 78,
   "metadata": {
    "execution": {
     "iopub.execute_input": "2021-04-10T15:13:06.914355Z",
     "iopub.status.busy": "2021-04-10T15:13:06.913283Z",
     "iopub.status.idle": "2021-04-10T15:13:06.928154Z",
     "shell.execute_reply": "2021-04-10T15:13:06.928762Z"
    },
    "papermill": {
     "duration": 0.147013,
     "end_time": "2021-04-10T15:13:06.928949",
     "exception": false,
     "start_time": "2021-04-10T15:13:06.781936",
     "status": "completed"
    },
    "tags": []
   },
   "outputs": [
    {
     "data": {
      "text/plain": [
       "['../../../MLP_model.pkl']"
      ]
     },
     "execution_count": 78,
     "metadata": {},
     "output_type": "execute_result"
    }
   ],
   "source": [
    "joblib.dump(mlp_cv.best_estimator_, '../../../MLP_model.pkl')"
   ]
  },
  {
   "cell_type": "markdown",
   "metadata": {
    "papermill": {
     "duration": 0.124285,
     "end_time": "2021-04-10T15:13:07.179028",
     "exception": false,
     "start_time": "2021-04-10T15:13:07.054743",
     "status": "completed"
    },
    "tags": []
   },
   "source": [
    "### Building Random Forest Classifier"
   ]
  },
  {
   "cell_type": "code",
   "execution_count": 79,
   "metadata": {
    "execution": {
     "iopub.execute_input": "2021-04-10T15:13:07.433084Z",
     "iopub.status.busy": "2021-04-10T15:13:07.431992Z",
     "iopub.status.idle": "2021-04-10T15:13:07.618268Z",
     "shell.execute_reply": "2021-04-10T15:13:07.617593Z"
    },
    "papermill": {
     "duration": 0.315107,
     "end_time": "2021-04-10T15:13:07.618466",
     "exception": false,
     "start_time": "2021-04-10T15:13:07.303359",
     "status": "completed"
    },
    "tags": []
   },
   "outputs": [],
   "source": [
    "from sklearn.ensemble import RandomForestClassifier"
   ]
  },
  {
   "cell_type": "code",
   "execution_count": 80,
   "metadata": {
    "execution": {
     "iopub.execute_input": "2021-04-10T15:13:07.875105Z",
     "iopub.status.busy": "2021-04-10T15:13:07.874399Z",
     "iopub.status.idle": "2021-04-10T15:13:28.784708Z",
     "shell.execute_reply": "2021-04-10T15:13:28.783864Z"
    },
    "papermill": {
     "duration": 21.042762,
     "end_time": "2021-04-10T15:13:28.784896",
     "exception": false,
     "start_time": "2021-04-10T15:13:07.742134",
     "status": "completed"
    },
    "tags": []
   },
   "outputs": [
    {
     "name": "stdout",
     "output_type": "stream",
     "text": [
      "BEST PARAMS: {'max_depth': 4, 'n_estimators': 50}\n",
      "\n",
      "0.789 (+/-0.089) for {'max_depth': 2, 'n_estimators': 5}\n",
      "0.789 (+/-0.075) for {'max_depth': 2, 'n_estimators': 50}\n",
      "0.794 (+/-0.095) for {'max_depth': 2, 'n_estimators': 250}\n",
      "0.804 (+/-0.083) for {'max_depth': 4, 'n_estimators': 5}\n",
      "0.825 (+/-0.078) for {'max_depth': 4, 'n_estimators': 50}\n",
      "0.817 (+/-0.091) for {'max_depth': 4, 'n_estimators': 250}\n",
      "0.807 (+/-0.086) for {'max_depth': 8, 'n_estimators': 5}\n",
      "0.818 (+/-0.094) for {'max_depth': 8, 'n_estimators': 50}\n",
      "0.822 (+/-0.091) for {'max_depth': 8, 'n_estimators': 250}\n",
      "0.809 (+/-0.052) for {'max_depth': 16, 'n_estimators': 5}\n",
      "0.82 (+/-0.073) for {'max_depth': 16, 'n_estimators': 50}\n",
      "0.818 (+/-0.083) for {'max_depth': 16, 'n_estimators': 250}\n",
      "0.804 (+/-0.086) for {'max_depth': 32, 'n_estimators': 5}\n",
      "0.809 (+/-0.091) for {'max_depth': 32, 'n_estimators': 50}\n",
      "0.817 (+/-0.094) for {'max_depth': 32, 'n_estimators': 250}\n",
      "0.793 (+/-0.064) for {'max_depth': None, 'n_estimators': 5}\n",
      "0.822 (+/-0.103) for {'max_depth': None, 'n_estimators': 50}\n",
      "0.821 (+/-0.087) for {'max_depth': None, 'n_estimators': 250}\n"
     ]
    }
   ],
   "source": [
    "rf = RandomForestClassifier()\n",
    "parameters = {\n",
    "    'n_estimators': [5, 50, 250],\n",
    "    'max_depth': [2, 4, 8, 16, 32, None]\n",
    "}\n",
    "\n",
    "rf_cv = GridSearchCV(rf, parameters, cv=5)\n",
    "rf_cv.fit(X_train, y_train.ravel())\n",
    "\n",
    "print_results(rf_cv)"
   ]
  },
  {
   "cell_type": "code",
   "execution_count": 81,
   "metadata": {
    "execution": {
     "iopub.execute_input": "2021-04-10T15:13:29.042015Z",
     "iopub.status.busy": "2021-04-10T15:13:29.041312Z",
     "iopub.status.idle": "2021-04-10T15:13:29.049630Z",
     "shell.execute_reply": "2021-04-10T15:13:29.048994Z"
    },
    "papermill": {
     "duration": 0.139318,
     "end_time": "2021-04-10T15:13:29.049784",
     "exception": false,
     "start_time": "2021-04-10T15:13:28.910466",
     "status": "completed"
    },
    "tags": []
   },
   "outputs": [
    {
     "data": {
      "text/plain": [
       "RandomForestClassifier(max_depth=4, n_estimators=50)"
      ]
     },
     "execution_count": 81,
     "metadata": {},
     "output_type": "execute_result"
    }
   ],
   "source": [
    "rf_cv.best_estimator_"
   ]
  },
  {
   "cell_type": "markdown",
   "metadata": {
    "papermill": {
     "duration": 0.122807,
     "end_time": "2021-04-10T15:13:29.297710",
     "exception": false,
     "start_time": "2021-04-10T15:13:29.174903",
     "status": "completed"
    },
    "tags": []
   },
   "source": [
    "\n",
    "### Confusion Matrix & ROC curve of Train Data"
   ]
  },
  {
   "cell_type": "code",
   "execution_count": 82,
   "metadata": {
    "execution": {
     "iopub.execute_input": "2021-04-10T15:13:29.558269Z",
     "iopub.status.busy": "2021-04-10T15:13:29.557546Z",
     "iopub.status.idle": "2021-04-10T15:13:29.755724Z",
     "shell.execute_reply": "2021-04-10T15:13:29.754917Z"
    },
    "papermill": {
     "duration": 0.333118,
     "end_time": "2021-04-10T15:13:29.755901",
     "exception": false,
     "start_time": "2021-04-10T15:13:29.422783",
     "status": "completed"
    },
    "tags": []
   },
   "outputs": [
    {
     "data": {
      "image/png": "[encoded data removed]",
      "text/plain": [
       "<Figure size 432x288 with 2 Axes>"
      ]
     },
     "metadata": {
      "needs_background": "light"
     },
     "output_type": "display_data"
    }
   ],
   "source": [
    "\n",
    "plot_confusion_matrix(rf_cv, X_train, y_train, values_format ='d')\n",
    "plt.grid(None)\n",
    "classNames = ['Not Survived(0)', 'Survived(1)']\n",
    "plt.ylabel('ACTUAL')\n",
    "plt.xlabel('PREDICTED')\n",
    "tick_marks = np.arange(len(classNames))\n",
    "plt.xticks(tick_marks, classNames, rotation=45)\n",
    "plt.yticks(tick_marks, classNames)\n",
    "plt.show();"
   ]
  },
  {
   "cell_type": "code",
   "execution_count": 83,
   "metadata": {
    "execution": {
     "iopub.execute_input": "2021-04-10T15:13:30.020631Z",
     "iopub.status.busy": "2021-04-10T15:13:30.019874Z",
     "iopub.status.idle": "2021-04-10T15:13:30.182959Z",
     "shell.execute_reply": "2021-04-10T15:13:30.182438Z"
    },
    "papermill": {
     "duration": 0.300482,
     "end_time": "2021-04-10T15:13:30.183122",
     "exception": false,
     "start_time": "2021-04-10T15:13:29.882640",
     "status": "completed"
    },
    "tags": []
   },
   "outputs": [
    {
     "name": "stdout",
     "output_type": "stream",
     "text": [
      "Area Under Curve: 0.912\n"
     ]
    },
    {
     "data": {
      "image/png": "[encoded data removed]",
      "text/plain": [
       "<Figure size 432x288 with 1 Axes>"
      ]
     },
     "metadata": {
      "needs_background": "light"
     },
     "output_type": "display_data"
    }
   ],
   "source": [
    "probs = rf_cv.predict_proba(X_train)\n",
    "probs = probs[:, 1]\n",
    "rf_train_auc = roc_auc_score(y_train, probs)\n",
    "print('Area Under Curve: %.3f' % rf_train_auc)\n",
    "rf_train_fpr, rf_train_tpr, rf_train_thresholds = roc_curve(y_train, probs)\n",
    "plt.plot([0, 1], [0, 1], linestyle='--')\n",
    "plt.plot(rf_train_fpr, rf_train_tpr)\n",
    "plt.ylabel('True Positive Rate')\n",
    "plt.xlabel('False Positive Rate')\n",
    "plt.title('ROC')\n",
    "plt.show()"
   ]
  },
  {
   "cell_type": "code",
   "execution_count": 84,
   "metadata": {
    "execution": {
     "iopub.execute_input": "2021-04-10T15:13:30.447541Z",
     "iopub.status.busy": "2021-04-10T15:13:30.446794Z",
     "iopub.status.idle": "2021-04-10T15:13:30.459732Z",
     "shell.execute_reply": "2021-04-10T15:13:30.458954Z"
    },
    "papermill": {
     "duration": 0.149131,
     "end_time": "2021-04-10T15:13:30.459889",
     "exception": false,
     "start_time": "2021-04-10T15:13:30.310758",
     "status": "completed"
    },
    "tags": []
   },
   "outputs": [],
   "source": [
    "probs = rf_cv.predict_proba(X_val)\n",
    "probs = probs[:, 1]\n",
    "rf_val_fpr, rf_val_tpr, rf_val_thresholds = roc_curve(y_val, probs)"
   ]
  },
  {
   "cell_type": "code",
   "execution_count": 85,
   "metadata": {
    "execution": {
     "iopub.execute_input": "2021-04-10T15:13:30.724544Z",
     "iopub.status.busy": "2021-04-10T15:13:30.723817Z",
     "iopub.status.idle": "2021-04-10T15:13:30.753883Z",
     "shell.execute_reply": "2021-04-10T15:13:30.754401Z"
    },
    "papermill": {
     "duration": 0.166566,
     "end_time": "2021-04-10T15:13:30.754610",
     "exception": false,
     "start_time": "2021-04-10T15:13:30.588044",
     "status": "completed"
    },
    "tags": []
   },
   "outputs": [
    {
     "data": {
      "text/plain": [
       "['../../../RF_model.pkl']"
      ]
     },
     "execution_count": 85,
     "metadata": {},
     "output_type": "execute_result"
    }
   ],
   "source": [
    "joblib.dump(rf_cv.best_estimator_, '../../../RF_model.pkl')"
   ]
  },
  {
   "cell_type": "markdown",
   "metadata": {
    "papermill": {
     "duration": 0.127992,
     "end_time": "2021-04-10T15:13:31.012814",
     "exception": false,
     "start_time": "2021-04-10T15:13:30.884822",
     "status": "completed"
    },
    "tags": []
   },
   "source": [
    "### Building Gradient Boosting Classifier"
   ]
  },
  {
   "cell_type": "code",
   "execution_count": 86,
   "metadata": {
    "execution": {
     "iopub.execute_input": "2021-04-10T15:13:31.272320Z",
     "iopub.status.busy": "2021-04-10T15:13:31.271477Z",
     "iopub.status.idle": "2021-04-10T15:13:31.275610Z",
     "shell.execute_reply": "2021-04-10T15:13:31.274969Z"
    },
    "papermill": {
     "duration": 0.135913,
     "end_time": "2021-04-10T15:13:31.275766",
     "exception": false,
     "start_time": "2021-04-10T15:13:31.139853",
     "status": "completed"
    },
    "tags": []
   },
   "outputs": [],
   "source": [
    "from sklearn.ensemble import GradientBoostingClassifier"
   ]
  },
  {
   "cell_type": "code",
   "execution_count": 87,
   "metadata": {
    "execution": {
     "iopub.execute_input": "2021-04-10T15:13:31.543985Z",
     "iopub.status.busy": "2021-04-10T15:13:31.543133Z",
     "iopub.status.idle": "2021-04-10T15:17:39.043482Z",
     "shell.execute_reply": "2021-04-10T15:17:39.044004Z"
    },
    "papermill": {
     "duration": 247.640373,
     "end_time": "2021-04-10T15:17:39.044220",
     "exception": false,
     "start_time": "2021-04-10T15:13:31.403847",
     "status": "completed"
    },
    "tags": []
   },
   "outputs": [
    {
     "name": "stdout",
     "output_type": "stream",
     "text": [
      "BEST PARAMS: {'learning_rate': 0.1, 'max_depth': 9, 'n_estimators': 250}\n",
      "\n",
      "0.617 (+/-0.006) for {'learning_rate': 0.01, 'max_depth': 1, 'n_estimators': 5}\n",
      "0.791 (+/-0.09) for {'learning_rate': 0.01, 'max_depth': 1, 'n_estimators': 50}\n",
      "0.791 (+/-0.09) for {'learning_rate': 0.01, 'max_depth': 1, 'n_estimators': 250}\n",
      "0.786 (+/-0.114) for {'learning_rate': 0.01, 'max_depth': 1, 'n_estimators': 500}\n",
      "0.617 (+/-0.006) for {'learning_rate': 0.01, 'max_depth': 3, 'n_estimators': 5}\n",
      "0.807 (+/-0.042) for {'learning_rate': 0.01, 'max_depth': 3, 'n_estimators': 50}\n",
      "0.823 (+/-0.089) for {'learning_rate': 0.01, 'max_depth': 3, 'n_estimators': 250}\n",
      "0.822 (+/-0.092) for {'learning_rate': 0.01, 'max_depth': 3, 'n_estimators': 500}\n",
      "0.617 (+/-0.006) for {'learning_rate': 0.01, 'max_depth': 5, 'n_estimators': 5}\n",
      "0.81 (+/-0.082) for {'learning_rate': 0.01, 'max_depth': 5, 'n_estimators': 50}\n",
      "0.822 (+/-0.097) for {'learning_rate': 0.01, 'max_depth': 5, 'n_estimators': 250}\n",
      "0.822 (+/-0.06) for {'learning_rate': 0.01, 'max_depth': 5, 'n_estimators': 500}\n",
      "0.617 (+/-0.006) for {'learning_rate': 0.01, 'max_depth': 7, 'n_estimators': 5}\n",
      "0.799 (+/-0.063) for {'learning_rate': 0.01, 'max_depth': 7, 'n_estimators': 50}\n",
      "0.804 (+/-0.061) for {'learning_rate': 0.01, 'max_depth': 7, 'n_estimators': 250}\n",
      "0.81 (+/-0.063) for {'learning_rate': 0.01, 'max_depth': 7, 'n_estimators': 500}\n",
      "0.617 (+/-0.006) for {'learning_rate': 0.01, 'max_depth': 9, 'n_estimators': 5}\n",
      "0.791 (+/-0.057) for {'learning_rate': 0.01, 'max_depth': 9, 'n_estimators': 50}\n",
      "0.793 (+/-0.059) for {'learning_rate': 0.01, 'max_depth': 9, 'n_estimators': 250}\n",
      "0.804 (+/-0.086) for {'learning_rate': 0.01, 'max_depth': 9, 'n_estimators': 500}\n",
      "0.791 (+/-0.09) for {'learning_rate': 0.1, 'max_depth': 1, 'n_estimators': 5}\n",
      "0.791 (+/-0.104) for {'learning_rate': 0.1, 'max_depth': 1, 'n_estimators': 50}\n",
      "0.801 (+/-0.108) for {'learning_rate': 0.1, 'max_depth': 1, 'n_estimators': 250}\n",
      "0.789 (+/-0.109) for {'learning_rate': 0.1, 'max_depth': 1, 'n_estimators': 500}\n",
      "0.805 (+/-0.046) for {'learning_rate': 0.1, 'max_depth': 3, 'n_estimators': 5}\n",
      "0.818 (+/-0.102) for {'learning_rate': 0.1, 'max_depth': 3, 'n_estimators': 50}\n",
      "0.813 (+/-0.08) for {'learning_rate': 0.1, 'max_depth': 3, 'n_estimators': 250}\n",
      "0.809 (+/-0.06) for {'learning_rate': 0.1, 'max_depth': 3, 'n_estimators': 500}\n",
      "0.815 (+/-0.09) for {'learning_rate': 0.1, 'max_depth': 5, 'n_estimators': 5}\n",
      "0.82 (+/-0.066) for {'learning_rate': 0.1, 'max_depth': 5, 'n_estimators': 50}\n",
      "0.809 (+/-0.08) for {'learning_rate': 0.1, 'max_depth': 5, 'n_estimators': 250}\n",
      "0.817 (+/-0.072) for {'learning_rate': 0.1, 'max_depth': 5, 'n_estimators': 500}\n",
      "0.791 (+/-0.065) for {'learning_rate': 0.1, 'max_depth': 7, 'n_estimators': 5}\n",
      "0.807 (+/-0.048) for {'learning_rate': 0.1, 'max_depth': 7, 'n_estimators': 50}\n",
      "0.82 (+/-0.072) for {'learning_rate': 0.1, 'max_depth': 7, 'n_estimators': 250}\n",
      "0.818 (+/-0.065) for {'learning_rate': 0.1, 'max_depth': 7, 'n_estimators': 500}\n",
      "0.786 (+/-0.071) for {'learning_rate': 0.1, 'max_depth': 9, 'n_estimators': 5}\n",
      "0.794 (+/-0.079) for {'learning_rate': 0.1, 'max_depth': 9, 'n_estimators': 50}\n",
      "0.831 (+/-0.062) for {'learning_rate': 0.1, 'max_depth': 9, 'n_estimators': 250}\n",
      "0.822 (+/-0.066) for {'learning_rate': 0.1, 'max_depth': 9, 'n_estimators': 500}\n",
      "0.794 (+/-0.089) for {'learning_rate': 1, 'max_depth': 1, 'n_estimators': 5}\n",
      "0.789 (+/-0.095) for {'learning_rate': 1, 'max_depth': 1, 'n_estimators': 50}\n",
      "0.794 (+/-0.085) for {'learning_rate': 1, 'max_depth': 1, 'n_estimators': 250}\n",
      "0.799 (+/-0.109) for {'learning_rate': 1, 'max_depth': 1, 'n_estimators': 500}\n",
      "0.802 (+/-0.081) for {'learning_rate': 1, 'max_depth': 3, 'n_estimators': 5}\n",
      "0.794 (+/-0.085) for {'learning_rate': 1, 'max_depth': 3, 'n_estimators': 50}\n",
      "0.788 (+/-0.092) for {'learning_rate': 1, 'max_depth': 3, 'n_estimators': 250}\n",
      "0.81 (+/-0.089) for {'learning_rate': 1, 'max_depth': 3, 'n_estimators': 500}\n",
      "0.797 (+/-0.061) for {'learning_rate': 1, 'max_depth': 5, 'n_estimators': 5}\n",
      "0.802 (+/-0.072) for {'learning_rate': 1, 'max_depth': 5, 'n_estimators': 50}\n",
      "0.81 (+/-0.102) for {'learning_rate': 1, 'max_depth': 5, 'n_estimators': 250}\n",
      "0.794 (+/-0.056) for {'learning_rate': 1, 'max_depth': 5, 'n_estimators': 500}\n",
      "0.788 (+/-0.094) for {'learning_rate': 1, 'max_depth': 7, 'n_estimators': 5}\n",
      "0.81 (+/-0.111) for {'learning_rate': 1, 'max_depth': 7, 'n_estimators': 50}\n",
      "0.796 (+/-0.038) for {'learning_rate': 1, 'max_depth': 7, 'n_estimators': 250}\n",
      "0.789 (+/-0.044) for {'learning_rate': 1, 'max_depth': 7, 'n_estimators': 500}\n",
      "0.786 (+/-0.105) for {'learning_rate': 1, 'max_depth': 9, 'n_estimators': 5}\n",
      "0.825 (+/-0.069) for {'learning_rate': 1, 'max_depth': 9, 'n_estimators': 50}\n",
      "0.789 (+/-0.037) for {'learning_rate': 1, 'max_depth': 9, 'n_estimators': 250}\n",
      "0.807 (+/-0.037) for {'learning_rate': 1, 'max_depth': 9, 'n_estimators': 500}\n",
      "0.209 (+/-0.09) for {'learning_rate': 10, 'max_depth': 1, 'n_estimators': 5}\n",
      "0.209 (+/-0.09) for {'learning_rate': 10, 'max_depth': 1, 'n_estimators': 50}\n",
      "0.209 (+/-0.09) for {'learning_rate': 10, 'max_depth': 1, 'n_estimators': 250}\n",
      "0.209 (+/-0.09) for {'learning_rate': 10, 'max_depth': 1, 'n_estimators': 500}\n",
      "0.424 (+/-0.48) for {'learning_rate': 10, 'max_depth': 3, 'n_estimators': 5}\n",
      "0.479 (+/-0.425) for {'learning_rate': 10, 'max_depth': 3, 'n_estimators': 50}\n",
      "0.477 (+/-0.421) for {'learning_rate': 10, 'max_depth': 3, 'n_estimators': 250}\n",
      "0.479 (+/-0.425) for {'learning_rate': 10, 'max_depth': 3, 'n_estimators': 500}\n",
      "0.58 (+/-0.256) for {'learning_rate': 10, 'max_depth': 5, 'n_estimators': 5}\n",
      "0.564 (+/-0.249) for {'learning_rate': 10, 'max_depth': 5, 'n_estimators': 50}\n",
      "0.554 (+/-0.244) for {'learning_rate': 10, 'max_depth': 5, 'n_estimators': 250}\n",
      "0.564 (+/-0.249) for {'learning_rate': 10, 'max_depth': 5, 'n_estimators': 500}\n",
      "0.597 (+/-0.173) for {'learning_rate': 10, 'max_depth': 7, 'n_estimators': 5}\n",
      "0.597 (+/-0.146) for {'learning_rate': 10, 'max_depth': 7, 'n_estimators': 50}\n",
      "0.593 (+/-0.152) for {'learning_rate': 10, 'max_depth': 7, 'n_estimators': 250}\n",
      "0.595 (+/-0.16) for {'learning_rate': 10, 'max_depth': 7, 'n_estimators': 500}\n",
      "0.768 (+/-0.087) for {'learning_rate': 10, 'max_depth': 9, 'n_estimators': 5}\n",
      "0.732 (+/-0.117) for {'learning_rate': 10, 'max_depth': 9, 'n_estimators': 50}\n",
      "0.706 (+/-0.121) for {'learning_rate': 10, 'max_depth': 9, 'n_estimators': 250}\n",
      "0.722 (+/-0.106) for {'learning_rate': 10, 'max_depth': 9, 'n_estimators': 500}\n",
      "0.383 (+/-0.006) for {'learning_rate': 100, 'max_depth': 1, 'n_estimators': 5}\n",
      "0.383 (+/-0.006) for {'learning_rate': 100, 'max_depth': 1, 'n_estimators': 50}\n",
      "0.383 (+/-0.006) for {'learning_rate': 100, 'max_depth': 1, 'n_estimators': 250}\n",
      "0.383 (+/-0.006) for {'learning_rate': 100, 'max_depth': 1, 'n_estimators': 500}\n",
      "0.375 (+/-0.29) for {'learning_rate': 100, 'max_depth': 3, 'n_estimators': 5}\n",
      "0.375 (+/-0.29) for {'learning_rate': 100, 'max_depth': 3, 'n_estimators': 50}\n",
      "0.375 (+/-0.29) for {'learning_rate': 100, 'max_depth': 3, 'n_estimators': 250}\n",
      "0.375 (+/-0.29) for {'learning_rate': 100, 'max_depth': 3, 'n_estimators': 500}\n",
      "0.341 (+/-0.105) for {'learning_rate': 100, 'max_depth': 5, 'n_estimators': 5}\n",
      "0.349 (+/-0.099) for {'learning_rate': 100, 'max_depth': 5, 'n_estimators': 50}\n",
      "0.344 (+/-0.115) for {'learning_rate': 100, 'max_depth': 5, 'n_estimators': 250}\n",
      "0.331 (+/-0.121) for {'learning_rate': 100, 'max_depth': 5, 'n_estimators': 500}\n",
      "0.441 (+/-0.045) for {'learning_rate': 100, 'max_depth': 7, 'n_estimators': 5}\n",
      "0.452 (+/-0.066) for {'learning_rate': 100, 'max_depth': 7, 'n_estimators': 50}\n",
      "0.494 (+/-0.209) for {'learning_rate': 100, 'max_depth': 7, 'n_estimators': 250}\n",
      "0.447 (+/-0.07) for {'learning_rate': 100, 'max_depth': 7, 'n_estimators': 500}\n",
      "0.624 (+/-0.245) for {'learning_rate': 100, 'max_depth': 9, 'n_estimators': 5}\n",
      "0.637 (+/-0.261) for {'learning_rate': 100, 'max_depth': 9, 'n_estimators': 50}\n",
      "0.529 (+/-0.222) for {'learning_rate': 100, 'max_depth': 9, 'n_estimators': 250}\n",
      "0.6 (+/-0.179) for {'learning_rate': 100, 'max_depth': 9, 'n_estimators': 500}\n"
     ]
    }
   ],
   "source": [
    "gb = GradientBoostingClassifier()\n",
    "parameters = {\n",
    "    'n_estimators': [5, 50, 250, 500],\n",
    "    'max_depth': [1, 3, 5, 7, 9],\n",
    "    'learning_rate': [0.01, 0.1, 1, 10, 100]\n",
    "}\n",
    "\n",
    "gb_cv = GridSearchCV(gb, parameters, cv=5)\n",
    "gb_cv.fit(X_train, y_train.ravel())\n",
    "\n",
    "print_results(gb_cv)"
   ]
  },
  {
   "cell_type": "code",
   "execution_count": 88,
   "metadata": {
    "execution": {
     "iopub.execute_input": "2021-04-10T15:17:39.306137Z",
     "iopub.status.busy": "2021-04-10T15:17:39.305021Z",
     "iopub.status.idle": "2021-04-10T15:17:39.309590Z",
     "shell.execute_reply": "2021-04-10T15:17:39.310140Z"
    },
    "papermill": {
     "duration": 0.138043,
     "end_time": "2021-04-10T15:17:39.310352",
     "exception": false,
     "start_time": "2021-04-10T15:17:39.172309",
     "status": "completed"
    },
    "tags": []
   },
   "outputs": [
    {
     "data": {
      "text/plain": [
       "GradientBoostingClassifier(max_depth=9, n_estimators=250)"
      ]
     },
     "execution_count": 88,
     "metadata": {},
     "output_type": "execute_result"
    }
   ],
   "source": [
    "gb_cv.best_estimator_"
   ]
  },
  {
   "cell_type": "markdown",
   "metadata": {
    "papermill": {
     "duration": 0.128718,
     "end_time": "2021-04-10T15:17:39.573109",
     "exception": false,
     "start_time": "2021-04-10T15:17:39.444391",
     "status": "completed"
    },
    "tags": []
   },
   "source": [
    "### Confusion Matrix & ROC curve of Train Data"
   ]
  },
  {
   "cell_type": "code",
   "execution_count": 89,
   "metadata": {
    "execution": {
     "iopub.execute_input": "2021-04-10T15:17:39.853043Z",
     "iopub.status.busy": "2021-04-10T15:17:39.842498Z",
     "iopub.status.idle": "2021-04-10T15:17:40.050569Z",
     "shell.execute_reply": "2021-04-10T15:17:40.051064Z"
    },
    "papermill": {
     "duration": 0.345661,
     "end_time": "2021-04-10T15:17:40.051369",
     "exception": false,
     "start_time": "2021-04-10T15:17:39.705708",
     "status": "completed"
    },
    "tags": []
   },
   "outputs": [
    {
     "data": {
      "image/png": "[encoded data removed]",
      "text/plain": [
       "<Figure size 432x288 with 2 Axes>"
      ]
     },
     "metadata": {
      "needs_background": "light"
     },
     "output_type": "display_data"
    }
   ],
   "source": [
    "plot_confusion_matrix(gb_cv, X_train, y_train, values_format ='d')\n",
    "plt.grid(None)\n",
    "classNames = ['Not Survived(0)', 'Survived(1)']\n",
    "plt.ylabel('ACTUAL')\n",
    "plt.xlabel('PREDICTED')\n",
    "tick_marks = np.arange(len(classNames))\n",
    "plt.xticks(tick_marks, classNames, rotation=45)\n",
    "plt.yticks(tick_marks, classNames)\n",
    "plt.show();"
   ]
  },
  {
   "cell_type": "code",
   "execution_count": 90,
   "metadata": {
    "execution": {
     "iopub.execute_input": "2021-04-10T15:17:40.329515Z",
     "iopub.status.busy": "2021-04-10T15:17:40.328211Z",
     "iopub.status.idle": "2021-04-10T15:17:40.489479Z",
     "shell.execute_reply": "2021-04-10T15:17:40.488780Z"
    },
    "papermill": {
     "duration": 0.309769,
     "end_time": "2021-04-10T15:17:40.489625",
     "exception": false,
     "start_time": "2021-04-10T15:17:40.179856",
     "status": "completed"
    },
    "tags": []
   },
   "outputs": [
    {
     "name": "stdout",
     "output_type": "stream",
     "text": [
      "Area Under Curve: 1.000\n"
     ]
    },
    {
     "data": {
      "image/png": "[encoded data removed]",
      "text/plain": [
       "<Figure size 432x288 with 1 Axes>"
      ]
     },
     "metadata": {
      "needs_background": "light"
     },
     "output_type": "display_data"
    }
   ],
   "source": [
    "probs = gb_cv.predict_proba(X_train)\n",
    "probs = probs[:, 1]\n",
    "gb_train_auc = roc_auc_score(y_train, probs)\n",
    "print('Area Under Curve: %.3f' % gb_train_auc)\n",
    "gb_train_fpr, gb_train_tpr, gb_train_thresholds = roc_curve(y_train, probs)\n",
    "plt.plot([0, 1], [0, 1], linestyle='--')\n",
    "plt.plot(gb_train_fpr, gb_train_tpr)\n",
    "plt.ylabel('True Positive Rate')\n",
    "plt.xlabel('False Positive Rate')\n",
    "plt.title('ROC')\n",
    "plt.show()"
   ]
  },
  {
   "cell_type": "code",
   "execution_count": 91,
   "metadata": {
    "execution": {
     "iopub.execute_input": "2021-04-10T15:17:40.774207Z",
     "iopub.status.busy": "2021-04-10T15:17:40.773165Z",
     "iopub.status.idle": "2021-04-10T15:17:40.777839Z",
     "shell.execute_reply": "2021-04-10T15:17:40.777306Z"
    },
    "papermill": {
     "duration": 0.153583,
     "end_time": "2021-04-10T15:17:40.778182",
     "exception": false,
     "start_time": "2021-04-10T15:17:40.624599",
     "status": "completed"
    },
    "tags": []
   },
   "outputs": [],
   "source": [
    "probs = gb_cv.predict_proba(X_val)\n",
    "probs = probs[:, 1]\n",
    "gb_val_fpr, gb_val_tpr, gb_val_thresholds = roc_curve(y_val, probs)"
   ]
  },
  {
   "cell_type": "code",
   "execution_count": 92,
   "metadata": {
    "execution": {
     "iopub.execute_input": "2021-04-10T15:17:41.093340Z",
     "iopub.status.busy": "2021-04-10T15:17:41.092587Z",
     "iopub.status.idle": "2021-04-10T15:17:41.106127Z",
     "shell.execute_reply": "2021-04-10T15:17:41.105443Z"
    },
    "papermill": {
     "duration": 0.193488,
     "end_time": "2021-04-10T15:17:41.106299",
     "exception": false,
     "start_time": "2021-04-10T15:17:40.912811",
     "status": "completed"
    },
    "tags": []
   },
   "outputs": [
    {
     "data": {
      "text/plain": [
       "['../../../GB_model.pkl']"
      ]
     },
     "execution_count": 92,
     "metadata": {},
     "output_type": "execute_result"
    }
   ],
   "source": [
    "joblib.dump(gb_cv.best_estimator_, '../../../GB_model.pkl')"
   ]
  },
  {
   "cell_type": "markdown",
   "metadata": {
    "papermill": {
     "duration": 0.135054,
     "end_time": "2021-04-10T15:17:41.375829",
     "exception": false,
     "start_time": "2021-04-10T15:17:41.240775",
     "status": "completed"
    },
    "tags": []
   },
   "source": [
    "\n",
    "## Part 4 - Model Validation"
   ]
  },
  {
   "cell_type": "markdown",
   "metadata": {
    "papermill": {
     "duration": 0.139122,
     "end_time": "2021-04-10T15:17:41.649248",
     "exception": false,
     "start_time": "2021-04-10T15:17:41.510126",
     "status": "completed"
    },
    "tags": []
   },
   "source": [
    "### Importing the Pickled Models"
   ]
  },
  {
   "cell_type": "code",
   "execution_count": 93,
   "metadata": {
    "execution": {
     "iopub.execute_input": "2021-04-10T15:17:41.931659Z",
     "iopub.status.busy": "2021-04-10T15:17:41.930812Z",
     "iopub.status.idle": "2021-04-10T15:17:41.997358Z",
     "shell.execute_reply": "2021-04-10T15:17:41.996753Z"
    },
    "papermill": {
     "duration": 0.210958,
     "end_time": "2021-04-10T15:17:41.997538",
     "exception": false,
     "start_time": "2021-04-10T15:17:41.786580",
     "status": "completed"
    },
    "tags": []
   },
   "outputs": [],
   "source": [
    "models = {}\n",
    "\n",
    "for mdl in ['LR', 'SVM', 'MLP', 'RF', 'GB']:\n",
    "    models[mdl] = joblib.load('../../../{}_model.pkl'.format(mdl))"
   ]
  },
  {
   "cell_type": "code",
   "execution_count": 94,
   "metadata": {
    "execution": {
     "iopub.execute_input": "2021-04-10T15:17:42.268646Z",
     "iopub.status.busy": "2021-04-10T15:17:42.267578Z",
     "iopub.status.idle": "2021-04-10T15:17:42.272571Z",
     "shell.execute_reply": "2021-04-10T15:17:42.271744Z"
    },
    "papermill": {
     "duration": 0.143455,
     "end_time": "2021-04-10T15:17:42.272747",
     "exception": false,
     "start_time": "2021-04-10T15:17:42.129292",
     "status": "completed"
    },
    "tags": []
   },
   "outputs": [
    {
     "data": {
      "text/plain": [
       "{'LR': LogisticRegression(C=0.1),\n",
       " 'SVM': SVC(C=1, probability=True),\n",
       " 'MLP': MLPClassifier(learning_rate='adaptive'),\n",
       " 'RF': RandomForestClassifier(max_depth=4, n_estimators=50),\n",
       " 'GB': GradientBoostingClassifier(max_depth=9, n_estimators=250)}"
      ]
     },
     "execution_count": 94,
     "metadata": {},
     "output_type": "execute_result"
    }
   ],
   "source": [
    "models"
   ]
  },
  {
   "cell_type": "markdown",
   "metadata": {
    "papermill": {
     "duration": 0.130264,
     "end_time": "2021-04-10T15:17:42.535605",
     "exception": false,
     "start_time": "2021-04-10T15:17:42.405341",
     "status": "completed"
    },
    "tags": []
   },
   "source": [
    "### Defining a function to evaluate & compare the models"
   ]
  },
  {
   "cell_type": "code",
   "execution_count": 95,
   "metadata": {
    "execution": {
     "iopub.execute_input": "2021-04-10T15:17:42.807963Z",
     "iopub.status.busy": "2021-04-10T15:17:42.806984Z",
     "iopub.status.idle": "2021-04-10T15:17:42.811000Z",
     "shell.execute_reply": "2021-04-10T15:17:42.810181Z"
    },
    "papermill": {
     "duration": 0.142448,
     "end_time": "2021-04-10T15:17:42.811155",
     "exception": false,
     "start_time": "2021-04-10T15:17:42.668707",
     "status": "completed"
    },
    "tags": []
   },
   "outputs": [],
   "source": [
    "def evaluate_model(name, model, features, labels):\n",
    "    start = time()\n",
    "    pred = model.predict(features)\n",
    "    end = time()\n",
    "    accuracy = round(accuracy_score(labels, pred), 3)\n",
    "    precision = round(precision_score(labels, pred), 3)\n",
    "    recall = round(recall_score(labels, pred), 3)\n",
    "    print('{} -- Accuracy: {} / Precision: {} / Recall: {} / Latency: {}ms'.format(name,\n",
    "                                                                                   accuracy,\n",
    "                                                                                   precision,\n",
    "                                                                                   recall,\n",
    "                                                                                   round((end - start)*1000, 1)))"
   ]
  },
  {
   "cell_type": "markdown",
   "metadata": {
    "papermill": {
     "duration": 0.133145,
     "end_time": "2021-04-10T15:17:43.078401",
     "exception": false,
     "start_time": "2021-04-10T15:17:42.945256",
     "status": "completed"
    },
    "tags": []
   },
   "source": [
    "### Validation & Training Metrics Comparision"
   ]
  },
  {
   "cell_type": "markdown",
   "metadata": {
    "papermill": {
     "duration": 0.131831,
     "end_time": "2021-04-10T15:17:43.343072",
     "exception": false,
     "start_time": "2021-04-10T15:17:43.211241",
     "status": "completed"
    },
    "tags": []
   },
   "source": [
    "#### Train Data - Accuracy, Precision, Recall, Latency"
   ]
  },
  {
   "cell_type": "code",
   "execution_count": 96,
   "metadata": {
    "execution": {
     "iopub.execute_input": "2021-04-10T15:17:43.617773Z",
     "iopub.status.busy": "2021-04-10T15:17:43.615495Z",
     "iopub.status.idle": "2021-04-10T15:17:43.686149Z",
     "shell.execute_reply": "2021-04-10T15:17:43.684812Z"
    },
    "papermill": {
     "duration": 0.211765,
     "end_time": "2021-04-10T15:17:43.686414",
     "exception": false,
     "start_time": "2021-04-10T15:17:43.474649",
     "status": "completed"
    },
    "tags": []
   },
   "outputs": [
    {
     "name": "stdout",
     "output_type": "stream",
     "text": [
      "LR -- Accuracy: 0.793 / Precision: 0.756 / Recall: 0.676 / Latency: 2.3ms\n",
      "SVM -- Accuracy: 0.846 / Precision: 0.903 / Recall: 0.668 / Latency: 15.5ms\n",
      "MLP -- Accuracy: 0.852 / Precision: 0.884 / Recall: 0.706 / Latency: 3.3ms\n",
      "RF -- Accuracy: 0.855 / Precision: 0.916 / Recall: 0.685 / Latency: 12.7ms\n",
      "GB -- Accuracy: 1.0 / Precision: 1.0 / Recall: 1.0 / Latency: 12.4ms\n"
     ]
    }
   ],
   "source": [
    "for name, mdl in models.items():\n",
    "    evaluate_model(name, mdl, X_train, y_train)"
   ]
  },
  {
   "cell_type": "markdown",
   "metadata": {
    "papermill": {
     "duration": 0.175755,
     "end_time": "2021-04-10T15:17:43.996275",
     "exception": false,
     "start_time": "2021-04-10T15:17:43.820520",
     "status": "completed"
    },
    "tags": []
   },
   "source": [
    "#### Validation Data - Accuracy, Precision, Recall, Latency"
   ]
  },
  {
   "cell_type": "code",
   "execution_count": 97,
   "metadata": {
    "execution": {
     "iopub.execute_input": "2021-04-10T15:17:44.269782Z",
     "iopub.status.busy": "2021-04-10T15:17:44.269035Z",
     "iopub.status.idle": "2021-04-10T15:17:44.318027Z",
     "shell.execute_reply": "2021-04-10T15:17:44.318691Z"
    },
    "papermill": {
     "duration": 0.188278,
     "end_time": "2021-04-10T15:17:44.318870",
     "exception": false,
     "start_time": "2021-04-10T15:17:44.130592",
     "status": "completed"
    },
    "tags": []
   },
   "outputs": [
    {
     "name": "stdout",
     "output_type": "stream",
     "text": [
      "LR -- Accuracy: 0.809 / Precision: 0.78 / Recall: 0.696 / Latency: 2.1ms\n",
      "SVM -- Accuracy: 0.798 / Precision: 0.816 / Recall: 0.608 / Latency: 7.7ms\n",
      "MLP -- Accuracy: 0.816 / Precision: 0.835 / Recall: 0.647 / Latency: 2.5ms\n",
      "RF -- Accuracy: 0.798 / Precision: 0.824 / Recall: 0.598 / Latency: 9.2ms\n",
      "GB -- Accuracy: 0.813 / Precision: 0.789 / Recall: 0.696 / Latency: 6.7ms\n"
     ]
    }
   ],
   "source": [
    "for name, mdl in models.items():\n",
    "    evaluate_model(name, mdl, X_val, y_val)"
   ]
  },
  {
   "cell_type": "markdown",
   "metadata": {
    "papermill": {
     "duration": 0.132943,
     "end_time": "2021-04-10T15:17:44.586296",
     "exception": false,
     "start_time": "2021-04-10T15:17:44.453353",
     "status": "completed"
    },
    "tags": []
   },
   "source": [
    "#### ROC - Train Data"
   ]
  },
  {
   "cell_type": "code",
   "execution_count": 98,
   "metadata": {
    "execution": {
     "iopub.execute_input": "2021-04-10T15:17:44.876299Z",
     "iopub.status.busy": "2021-04-10T15:17:44.875248Z",
     "iopub.status.idle": "2021-04-10T15:17:45.072448Z",
     "shell.execute_reply": "2021-04-10T15:17:45.071716Z"
    },
    "papermill": {
     "duration": 0.354163,
     "end_time": "2021-04-10T15:17:45.072612",
     "exception": false,
     "start_time": "2021-04-10T15:17:44.718449",
     "status": "completed"
    },
    "tags": []
   },
   "outputs": [
    {
     "data": {
      "text/plain": [
       "<matplotlib.legend.Legend at 0x7f238590add0>"
      ]
     },
     "execution_count": 98,
     "metadata": {},
     "output_type": "execute_result"
    },
    {
     "data": {
      "image/png": "[encoded data removed]",
      "text/plain": [
       "<Figure size 432x288 with 1 Axes>"
      ]
     },
     "metadata": {
      "needs_background": "light"
     },
     "output_type": "display_data"
    }
   ],
   "source": [
    "plt.plot([0, 1], [0, 1], linestyle='--')\n",
    "plt.plot(log_train_fpr,log_train_tpr,color='green',label=\"Logit\")\n",
    "plt.plot(svm_train_fpr, svm_train_tpr,color='blue',label=\"SVM\")\n",
    "plt.plot(mlp_train_fpr,mlp_train_tpr,color='red',label=\"MLP\")\n",
    "plt.plot(rf_train_fpr, rf_train_tpr,color='orange',label=\"RF\")\n",
    "plt.plot(gb_train_fpr,gb_train_tpr,color='purple',label=\"GB\")\n",
    "plt.xlabel('False Positive Rate')\n",
    "plt.ylabel('True Positive Rate')\n",
    "plt.title('ROC Train Data')\n",
    "plt.legend(bbox_to_anchor=(0., 1.02, 1., .102), loc='lower right')"
   ]
  },
  {
   "cell_type": "markdown",
   "metadata": {
    "papermill": {
     "duration": 0.134289,
     "end_time": "2021-04-10T15:17:45.341864",
     "exception": false,
     "start_time": "2021-04-10T15:17:45.207575",
     "status": "completed"
    },
    "tags": []
   },
   "source": [
    "#### ROC - Validation Data"
   ]
  },
  {
   "cell_type": "code",
   "execution_count": 99,
   "metadata": {
    "execution": {
     "iopub.execute_input": "2021-04-10T15:17:45.638702Z",
     "iopub.status.busy": "2021-04-10T15:17:45.631445Z",
     "iopub.status.idle": "2021-04-10T15:17:45.840296Z",
     "shell.execute_reply": "2021-04-10T15:17:45.839753Z"
    },
    "papermill": {
     "duration": 0.364173,
     "end_time": "2021-04-10T15:17:45.840448",
     "exception": false,
     "start_time": "2021-04-10T15:17:45.476275",
     "status": "completed"
    },
    "tags": []
   },
   "outputs": [
    {
     "data": {
      "text/plain": [
       "<matplotlib.legend.Legend at 0x7f23859bbfd0>"
      ]
     },
     "execution_count": 99,
     "metadata": {},
     "output_type": "execute_result"
    },
    {
     "data": {
      "image/png": "[encoded data removed]",
      "text/plain": [
       "<Figure size 432x288 with 1 Axes>"
      ]
     },
     "metadata": {
      "needs_background": "light"
     },
     "output_type": "display_data"
    }
   ],
   "source": [
    "plt.plot([0, 1], [0, 1], linestyle='--')\n",
    "plt.plot(log_val_fpr,log_val_tpr,color='green',label=\"Logit\")\n",
    "plt.plot(svm_val_fpr, svm_val_tpr,color='blue',label=\"SVM\")\n",
    "plt.plot(mlp_val_fpr,mlp_val_tpr,color='red',label=\"MLP\")\n",
    "plt.plot(rf_val_fpr, rf_val_tpr,color='orange',label=\"RF\")\n",
    "plt.plot(gb_val_fpr,gb_val_tpr,color='purple',label=\"GB\")\n",
    "plt.xlabel('False Positive Rate')\n",
    "plt.ylabel('True Positive Rate')\n",
    "plt.title('ROC Validation Data')\n",
    "plt.legend(bbox_to_anchor=(0., 1.02, 1., .102), loc='lower right')"
   ]
  },
  {
   "cell_type": "markdown",
   "metadata": {
    "papermill": {
     "duration": 0.13892,
     "end_time": "2021-04-10T15:17:46.114319",
     "exception": false,
     "start_time": "2021-04-10T15:17:45.975399",
     "status": "completed"
    },
    "tags": []
   },
   "source": [
    "#### Logistics Regression seems to perform well with less variations in the validation data"
   ]
  },
  {
   "cell_type": "markdown",
   "metadata": {
    "papermill": {
     "duration": 0.134064,
     "end_time": "2021-04-10T15:17:46.384879",
     "exception": false,
     "start_time": "2021-04-10T15:17:46.250815",
     "status": "completed"
    },
    "tags": []
   },
   "source": [
    "### Predicting in Test Data with Logistics Regression"
   ]
  },
  {
   "cell_type": "code",
   "execution_count": 100,
   "metadata": {
    "execution": {
     "iopub.execute_input": "2021-04-10T15:17:46.670003Z",
     "iopub.status.busy": "2021-04-10T15:17:46.668868Z",
     "iopub.status.idle": "2021-04-10T15:17:46.672080Z",
     "shell.execute_reply": "2021-04-10T15:17:46.672663Z"
    },
    "papermill": {
     "duration": 0.151893,
     "end_time": "2021-04-10T15:17:46.672842",
     "exception": false,
     "start_time": "2021-04-10T15:17:46.520949",
     "status": "completed"
    },
    "tags": []
   },
   "outputs": [],
   "source": [
    "probs = lr_cv.predict_proba(X_test)\n",
    "probs = probs[:, 1]\n",
    "predictions = [int(round(value)) for value in probs]"
   ]
  },
  {
   "cell_type": "markdown",
   "metadata": {
    "papermill": {
     "duration": 0.135099,
     "end_time": "2021-04-10T15:17:46.943137",
     "exception": false,
     "start_time": "2021-04-10T15:17:46.808038",
     "status": "completed"
    },
    "tags": []
   },
   "source": [
    "### Submitting the prediction results"
   ]
  },
  {
   "cell_type": "code",
   "execution_count": 101,
   "metadata": {
    "execution": {
     "iopub.execute_input": "2021-04-10T15:17:47.223432Z",
     "iopub.status.busy": "2021-04-10T15:17:47.222759Z",
     "iopub.status.idle": "2021-04-10T15:17:47.237162Z",
     "shell.execute_reply": "2021-04-10T15:17:47.236533Z"
    },
    "papermill": {
     "duration": 0.155059,
     "end_time": "2021-04-10T15:17:47.237354",
     "exception": false,
     "start_time": "2021-04-10T15:17:47.082295",
     "status": "completed"
    },
    "tags": []
   },
   "outputs": [],
   "source": [
    "data_submit = pd.read_csv(\"../input/titanic/gender_submission.csv\")"
   ]
  },
  {
   "cell_type": "code",
   "execution_count": 102,
   "metadata": {
    "execution": {
     "iopub.execute_input": "2021-04-10T15:17:47.511711Z",
     "iopub.status.busy": "2021-04-10T15:17:47.510605Z",
     "iopub.status.idle": "2021-04-10T15:17:47.521096Z",
     "shell.execute_reply": "2021-04-10T15:17:47.521661Z"
    },
    "papermill": {
     "duration": 0.149428,
     "end_time": "2021-04-10T15:17:47.521859",
     "exception": false,
     "start_time": "2021-04-10T15:17:47.372431",
     "status": "completed"
    },
    "tags": []
   },
   "outputs": [],
   "source": [
    "submission = pd.DataFrame({'PassengerId': data_submit[\"PassengerId\"], 'Survived' : predictions})\n",
    "submission.to_csv('Submission.csv', index=False)"
   ]
  },
  {
   "cell_type": "code",
   "execution_count": 103,
   "metadata": {
    "execution": {
     "iopub.execute_input": "2021-04-10T15:17:47.821447Z",
     "iopub.status.busy": "2021-04-10T15:17:47.820455Z",
     "iopub.status.idle": "2021-04-10T15:17:47.831249Z",
     "shell.execute_reply": "2021-04-10T15:17:47.830535Z"
    },
    "papermill": {
     "duration": 0.157139,
     "end_time": "2021-04-10T15:17:47.831402",
     "exception": false,
     "start_time": "2021-04-10T15:17:47.674263",
     "status": "completed"
    },
    "tags": []
   },
   "outputs": [
    {
     "data": {
      "text/html": [
       "<div>\n",
       "<style scoped>\n",
       "    .dataframe tbody tr th:only-of-type {\n",
       "        vertical-align: middle;\n",
       "    }\n",
       "\n",
       "    .dataframe tbody tr th {\n",
       "        vertical-align: top;\n",
       "    }\n",
       "\n",
       "    .dataframe thead th {\n",
       "        text-align: right;\n",
       "    }\n",
       "</style>\n",
       "<table border=\"1\" class=\"dataframe\">\n",
       "  <thead>\n",
       "    <tr style=\"text-align: right;\">\n",
       "      <th></th>\n",
       "      <th>PassengerId</th>\n",
       "      <th>Survived</th>\n",
       "    </tr>\n",
       "  </thead>\n",
       "  <tbody>\n",
       "    <tr>\n",
       "      <th>0</th>\n",
       "      <td>892</td>\n",
       "      <td>0</td>\n",
       "    </tr>\n",
       "    <tr>\n",
       "      <th>1</th>\n",
       "      <td>893</td>\n",
       "      <td>0</td>\n",
       "    </tr>\n",
       "    <tr>\n",
       "      <th>2</th>\n",
       "      <td>894</td>\n",
       "      <td>0</td>\n",
       "    </tr>\n",
       "    <tr>\n",
       "      <th>3</th>\n",
       "      <td>895</td>\n",
       "      <td>0</td>\n",
       "    </tr>\n",
       "    <tr>\n",
       "      <th>4</th>\n",
       "      <td>896</td>\n",
       "      <td>1</td>\n",
       "    </tr>\n",
       "  </tbody>\n",
       "</table>\n",
       "</div>"
      ],
      "text/plain": [
       "   PassengerId  Survived\n",
       "0          892         0\n",
       "1          893         0\n",
       "2          894         0\n",
       "3          895         0\n",
       "4          896         1"
      ]
     },
     "execution_count": 103,
     "metadata": {},
     "output_type": "execute_result"
    }
   ],
   "source": [
    "submission.head()"
   ]
  },
  {
   "cell_type": "markdown",
   "metadata": {
    "papermill": {
     "duration": 0.138501,
     "end_time": "2021-04-10T15:17:48.109400",
     "exception": false,
     "start_time": "2021-04-10T15:17:47.970899",
     "status": "completed"
    },
    "tags": []
   },
   "source": [
    "# END"
   ]
  }
 ],
 "metadata": {
  "kernelspec": {
   "display_name": "Python 3",
   "language": "python",
   "name": "python3"
  },
  "language_info": {
   "codemirror_mode": {
    "name": "ipython",
    "version": 3
   },
   "file_extension": ".py",
   "mimetype": "text/x-python",
   "name": "python",
   "nbconvert_exporter": "python",
   "pygments_lexer": "ipython3",
   "version": "3.7.9"
  },
  "papermill": {
   "default_parameters": {},
   "duration": 384.465106,
   "end_time": "2021-04-10T15:17:50.018710",
   "environment_variables": {},
   "exception": null,
   "input_path": "__notebook__.ipynb",
   "output_path": "__notebook__.ipynb",
   "parameters": {},
   "start_time": "2021-04-10T15:11:25.553604",
   "version": "2.2.2"
  }
 },
 "nbformat": 4,
 "nbformat_minor": 4
}
